{
  "nbformat": 4,
  "nbformat_minor": 0,
  "metadata": {
    "kernelspec": {
      "display_name": "Python 3",
      "language": "python",
      "name": "python3"
    },
    "language_info": {
      "codemirror_mode": {
        "name": "ipython",
        "version": 3
      },
      "file_extension": ".py",
      "mimetype": "text/x-python",
      "name": "python",
      "nbconvert_exporter": "python",
      "pygments_lexer": "ipython3",
      "version": "3.8.6"
    },
    "colab": {
      "name": "Homework_RC.ipynb",
      "provenance": [],
      "collapsed_sections": [
        "Z0MUAwbElELu"
      ]
    }
  },
  "cells": [
    {
      "cell_type": "markdown",
      "metadata": {
        "id": "XTF8NAeLyJRF"
      },
      "source": [
        "<center>\n",
        "<img src=\"https://upload.wikimedia.org/wikipedia/fr/thumb/1/1d/Logo_T%C3%A9l%C3%A9com_SudParis.svg/1014px-Logo_T%C3%A9l%C3%A9com_SudParis.svg.png\" width=\"30%\"></img>\n",
        "</center>\n",
        "\n",
        "<center> <h2> NET 4103/7431 Complex Network </h2> </center>\n",
        "\n",
        "<center> <h3> Rodrigo Canek (rodrigo.canek@telecom-sudparis.eu) </h3> </center>\n",
        "\n"
      ]
    },
    {
      "cell_type": "code",
      "metadata": {
        "jupyter": {
          "outputs_hidden": true
        },
        "id": "tMt8ZZG-yJRF"
      },
      "source": [
        "NOM = \"Canek\"\n",
        "PRENOM = \"Rodrigo\""
      ],
      "execution_count": null,
      "outputs": []
    },
    {
      "cell_type": "markdown",
      "metadata": {
        "id": "8C2cHcToyJRF"
      },
      "source": [
        "---"
      ]
    },
    {
      "cell_type": "markdown",
      "metadata": {
        "id": "As91EhyfyJRF"
      },
      "source": [
        "<h2 align=\"center\">Homework - Rodrigo Canek</h2> \n",
        "\n",
        "\n",
        "\n",
        "# Getting Started\n",
        "\n"
      ]
    },
    {
      "cell_type": "code",
      "metadata": {
        "colab": {
          "base_uri": "https://localhost:8080/"
        },
        "id": "J8Y-7P6cyr8W",
        "outputId": "9527ee13-05c0-4e96-83f8-07409f2e97e0"
      },
      "source": [
        "from google.colab import drive\n",
        "drive.mount('/content/drive') "
      ],
      "execution_count": null,
      "outputs": [
        {
          "output_type": "stream",
          "text": [
            "Mounted at /content/drive\n"
          ],
          "name": "stdout"
        }
      ]
    },
    {
      "cell_type": "code",
      "metadata": {
        "id": "VMctNwsoyJRG",
        "colab": {
          "base_uri": "https://localhost:8080/",
          "height": 17
        },
        "outputId": "acdf8438-df05-4075-831d-e5cf3fd329b8"
      },
      "source": [
        "# Style pour le Notebook\n",
        "from IPython.core.display import HTML\n",
        "\n",
        "def css_styling():\n",
        "    styles = open(\"/content/drive/My Drive/Colab Notebooks/NT/styles/custom.css\", \"r\").read()\n",
        "    return HTML(styles)\n",
        "css_styling()"
      ],
      "execution_count": 88,
      "outputs": [
        {
          "output_type": "execute_result",
          "data": {
            "text/html": [
              "<style>\n",
              "    div.cell{\n",
              "      margin-left:auto;\n",
              "      margin-right:auto;\n",
              "    }\n",
              "\n",
              "    h1,h2,h3,h4,h5 {\n",
              "      align: left;\n",
              "      font-family:\"Charis SIL\", serif;\n",
              "    }\n",
              "\n",
              "    div.text_cell_render{\n",
              "      /*\n",
              "      font-family: \"Charis SIL\", sans-serif;\n",
              "      */\n",
              "      line-height: 145%;\n",
              "      font-size: 145%;\n",
              "      line-height: 145%;\n",
              "    }\n",
              "\n",
              "\n",
              "    /*\n",
              "    .CodeMirror{\n",
              "      font-family: \"Source Code Pro\", monospace;\n",
              "    }\n",
              "    */\n",
              "    \n",
              "    .text_cell_render h5 {\n",
              "      font-weight: 300;\n",
              "      font-size: 22pt;\n",
              "      color: #4057A1;\n",
              "      font-style: italic;\n",
              "      margin-bottom: .5em;\n",
              "      margin-top: 0.5em;\n",
              "      display: block;\n",
              "    }\n",
              "\n",
              "    div.warn {\n",
              "      margin-top: 30px;\n",
              "      background-color: #fcf2f2;\n",
              "      border-color: #dFb5b4;\n",
              "      border-left: 5px solid #dfb5b4;\n",
              "      padding: 0.5em;\n",
              "    }\n",
              "\n",
              "    div.green {\n",
              "      margin-top: 30px;\n",
              "      background-color: #adf08d;\n",
              "      border-color: #34c123;\n",
              "      border-left: 5px solid #34c123;\n",
              "      padding: 0.5em;\n",
              "    }\n",
              "\n",
              "</style>\n"
            ],
            "text/plain": [
              "<IPython.core.display.HTML object>"
            ]
          },
          "metadata": {
            "tags": []
          },
          "execution_count": 88
        }
      ]
    },
    {
      "cell_type": "code",
      "metadata": {
        "id": "zWoZI9g6yJRH"
      },
      "source": [
        "import networkx as nx\n",
        "import matplotlib.pylab as plt\n",
        "\n",
        "%matplotlib inline"
      ],
      "execution_count": 89,
      "outputs": []
    },
    {
      "cell_type": "markdown",
      "metadata": {
        "id": "GKg2F1Fzr8gA"
      },
      "source": [
        "# Question # 2"
      ]
    },
    {
      "cell_type": "markdown",
      "metadata": {
        "id": "slw9OcUvsfhD"
      },
      "source": [
        "Caltech (with 762 nodes in the LCC), MIT(which has 6402 nodes in the LCC), and Johns Hopkins (which has 5157 nodes inthe LCC)."
      ]
    },
    {
      "cell_type": "code",
      "metadata": {
        "id": "NzEuVOPjr8gM"
      },
      "source": [
        "import networkx as nx\n",
        "\n",
        "GCaltech = nx.read_graphml(\"/content/drive/My Drive/Colab Notebooks/NT/Homework/Data/Caltech36.graphml\")\n",
        "\n",
        "GMIT = nx.read_graphml(\"/content/drive/My Drive/Colab Notebooks/NT/Homework/Data/MIT8.graphml\")\n",
        "\n",
        "GJH = nx.read_graphml(\"/content/drive/My Drive/Colab Notebooks/NT/Homework/Data/Johns Hopkins55.graphml\")\n"
      ],
      "execution_count": 90,
      "outputs": []
    },
    {
      "cell_type": "markdown",
      "metadata": {
        "id": "WO8yqMRpuTHu"
      },
      "source": [
        "## A) Degree Distribution"
      ]
    },
    {
      "cell_type": "code",
      "metadata": {
        "id": "4LaXxGT3uSdY"
      },
      "source": [
        "import matplotlib.pyplot as plt\r\n",
        "import numpy as np\r\n",
        "\r\n",
        "def plot_degree_dist(G):\r\n",
        "    degrees = [G.degree(n) for n in G.nodes()]\r\n",
        "    plt.hist(degrees, bins='auto')\r\n",
        "    plt.show()\r\n",
        "\r\n",
        "\r\n",
        "def plot_degree_dist2(G):\r\n",
        "  degree_sequence = sorted([d for n, d in G.degree()], reverse=True)  # degree sequence\r\n",
        "  hist, bin_edges = np.histogram(degree_sequence, density=True)\r\n",
        "  plt.semilogy(bin_edges[:-1], hist, 'o', ms=15)\r\n",
        "  plt.xlabel(r\"$k$, degree \")\r\n",
        "  plt.ylabel(r\"PDF\")\r\n",
        "  plt.ylim(1e-3, 1)\r\n",
        "  plt.title(\"Degree distribution\")\r\n",
        "\r\n"
      ],
      "execution_count": 91,
      "outputs": []
    },
    {
      "cell_type": "markdown",
      "metadata": {
        "id": "w1vci6x4weRS"
      },
      "source": [
        "### Caltech"
      ]
    },
    {
      "cell_type": "code",
      "metadata": {
        "id": "Mw76WLe3wWjF",
        "colab": {
          "base_uri": "https://localhost:8080/",
          "height": 299
        },
        "outputId": "6c9e9406-3a1f-4a51-870b-9d1ee92444c8"
      },
      "source": [
        "plot_degree_dist2(GCaltech)"
      ],
      "execution_count": 92,
      "outputs": [
        {
          "output_type": "display_data",
          "data": {
            "image/png": "[encoded data removed]",
            "text/plain": [
              "<Figure size 432x288 with 1 Axes>"
            ]
          },
          "metadata": {
            "tags": [],
            "needs_background": "light"
          }
        }
      ]
    },
    {
      "cell_type": "code",
      "metadata": {
        "id": "vYS1E941wh7j",
        "colab": {
          "base_uri": "https://localhost:8080/",
          "height": 265
        },
        "outputId": "08d81dce-5d04-4a20-9788-19b0b28366a6"
      },
      "source": [
        "plot_degree_dist(GCaltech)"
      ],
      "execution_count": 93,
      "outputs": [
        {
          "output_type": "display_data",
          "data": {
            "image/png": "[encoded data removed]",
            "text/plain": [
              "<Figure size 432x288 with 1 Axes>"
            ]
          },
          "metadata": {
            "tags": [],
            "needs_background": "light"
          }
        }
      ]
    },
    {
      "cell_type": "markdown",
      "metadata": {
        "id": "7sA3Nz2cwliT"
      },
      "source": [
        "### MIT"
      ]
    },
    {
      "cell_type": "code",
      "metadata": {
        "id": "HCWkoHCBwliU",
        "colab": {
          "base_uri": "https://localhost:8080/",
          "height": 299
        },
        "outputId": "8dff5d7e-25f9-43fb-d415-c0e08f3ae89c"
      },
      "source": [
        "plot_degree_dist2(GMIT)"
      ],
      "execution_count": 94,
      "outputs": [
        {
          "output_type": "display_data",
          "data": {
            "image/png": "[encoded data removed]",
            "text/plain": [
              "<Figure size 432x288 with 1 Axes>"
            ]
          },
          "metadata": {
            "tags": [],
            "needs_background": "light"
          }
        }
      ]
    },
    {
      "cell_type": "code",
      "metadata": {
        "id": "A4NkRqgzwliU",
        "colab": {
          "base_uri": "https://localhost:8080/",
          "height": 268
        },
        "outputId": "5b091292-7a22-4f31-990e-6f9592908735"
      },
      "source": [
        "plot_degree_dist(GMIT)"
      ],
      "execution_count": 95,
      "outputs": [
        {
          "output_type": "display_data",
          "data": {
            "image/png": "[encoded data removed]",
            "text/plain": [
              "<Figure size 432x288 with 1 Axes>"
            ]
          },
          "metadata": {
            "tags": [],
            "needs_background": "light"
          }
        }
      ]
    },
    {
      "cell_type": "markdown",
      "metadata": {
        "id": "hwiXEfB_w8XY"
      },
      "source": [
        "### John Hopkins"
      ]
    },
    {
      "cell_type": "code",
      "metadata": {
        "id": "IoClzUB6w8XY",
        "colab": {
          "base_uri": "https://localhost:8080/",
          "height": 299
        },
        "outputId": "503b3134-fe0c-40a5-fd71-7e17abd92019"
      },
      "source": [
        "plot_degree_dist2(GJH)"
      ],
      "execution_count": 96,
      "outputs": [
        {
          "output_type": "display_data",
          "data": {
            "image/png": "[encoded data removed]",
            "text/plain": [
              "<Figure size 432x288 with 1 Axes>"
            ]
          },
          "metadata": {
            "tags": [],
            "needs_background": "light"
          }
        }
      ]
    },
    {
      "cell_type": "code",
      "metadata": {
        "id": "fjqKTJ8Vw8XZ",
        "colab": {
          "base_uri": "https://localhost:8080/",
          "height": 265
        },
        "outputId": "57fb1101-8b4b-4576-abd6-3316e3415c9f"
      },
      "source": [
        "plot_degree_dist(GJH)"
      ],
      "execution_count": 97,
      "outputs": [
        {
          "output_type": "display_data",
          "data": {
            "image/png": "[encoded data removed]",
            "text/plain": [
              "<Figure size 432x288 with 1 Axes>"
            ]
          },
          "metadata": {
            "tags": [],
            "needs_background": "light"
          }
        }
      ]
    },
    {
      "cell_type": "markdown",
      "metadata": {
        "id": "AUPVeezKjFnb"
      },
      "source": [
        "### Question"
      ]
    },
    {
      "cell_type": "markdown",
      "metadata": {
        "id": "HkhTl38cPfeb"
      },
      "source": [
        "From all the networks, we can notice that all of them have highly connected nodes but in small amounts. But a big amount of data that have a low degree. Meaning that usually the people using facebook had few friends or connections, but there are some of them that had many connections with the people in the networks. In the case of Caltech, we can notice that the difference is not that big but in the other two, the difference between the amount of connections is considerable. "
      ]
    },
    {
      "cell_type": "markdown",
      "metadata": {
        "id": "6dFDd8Mjx4bU"
      },
      "source": [
        "## B) Clustering"
      ]
    },
    {
      "cell_type": "code",
      "metadata": {
        "id": "l0ScgO1X4cUW",
        "colab": {
          "base_uri": "https://localhost:8080/"
        },
        "outputId": "5947f2ef-b8eb-4a8b-a11a-3a588414294c"
      },
      "source": [
        "glCal = nx.transitivity(GCaltech)\r\n",
        "glMIT = nx.transitivity(GMIT)\r\n",
        "glJH = nx.transitivity(GJH)\r\n",
        "\r\n",
        "print('Global clustering of Caltech: ', glCal)\r\n",
        "print('Global clustering of MIT: ', glMIT)\r\n",
        "print('Global clustering of John Hopkins: ', glJH)"
      ],
      "execution_count": 98,
      "outputs": [
        {
          "output_type": "stream",
          "text": [
            "Global clustering of Caltech:  0.2912826901150874\n",
            "Global clustering of MIT:  0.18028845093502427\n",
            "Global clustering of John Hopkins:  0.19316123901594015\n"
          ],
          "name": "stdout"
        }
      ]
    },
    {
      "cell_type": "code",
      "metadata": {
        "id": "oQpmUh44yIun",
        "colab": {
          "base_uri": "https://localhost:8080/"
        },
        "outputId": "c179d101-1fb1-4764-c83c-92dc716ca056"
      },
      "source": [
        "clCal = nx.average_clustering(GCaltech)\r\n",
        "clMIT = nx.average_clustering(GMIT)\r\n",
        "clJH = nx.average_clustering(GJH)\r\n",
        "\r\n",
        "print('Mean local clustering of Caltech: ', clCal)\r\n",
        "print('Mean local clustering of MIT: ', clMIT)\r\n",
        "print('Mean local clustering of John Hopkins: ', clJH)"
      ],
      "execution_count": 99,
      "outputs": [
        {
          "output_type": "stream",
          "text": [
            "Mean local clustering of Caltech:  0.40929439048517247\n",
            "Mean local clustering of MIT:  0.2712187419501315\n",
            "Mean local clustering of John Hopkins:  0.26839307371293525\n"
          ],
          "name": "stdout"
        }
      ]
    },
    {
      "cell_type": "code",
      "metadata": {
        "id": "0tp61QT10zlC",
        "colab": {
          "base_uri": "https://localhost:8080/"
        },
        "outputId": "d2ff0774-df44-4752-b16d-62e3380fd969"
      },
      "source": [
        "denCal = nx.density(GCaltech)\r\n",
        "denMIT = nx.density(GMIT)\r\n",
        "denJH = nx.density(GJH)\r\n",
        "\r\n",
        "print('Edge Density of Caltech: ', denCal)\r\n",
        "print('Edge Density of MIT: ', denMIT)\r\n",
        "print('Edge Density of John Hopkins: ', denJH)"
      ],
      "execution_count": 100,
      "outputs": [
        {
          "output_type": "stream",
          "text": [
            "Edge Density of Caltech:  0.05640442132639792\n",
            "Edge Density of MIT:  0.012118119495041378\n",
            "Edge Density of John Hopkins:  0.013910200162372396\n"
          ],
          "name": "stdout"
        }
      ]
    },
    {
      "cell_type": "markdown",
      "metadata": {
        "id": "xtQ1ILn0VHLY"
      },
      "source": [
        "For what we can notice, the networks are closer to be sparse than dense. Most of them have a low values in the different coefficients. The Caltech one is the one that shows that more people knew each other but does not mean that all of them knew each other. Justa that there are more triplets than in the other networks.\r\n",
        "The next one in the mean local is the MIT and the last one is John Hopkins.  "
      ]
    },
    {
      "cell_type": "markdown",
      "metadata": {
        "id": "pr8iUkTn8ACH"
      },
      "source": [
        "## C) Scatter plot"
      ]
    },
    {
      "cell_type": "code",
      "metadata": {
        "id": "PrmrG8p3Bffv"
      },
      "source": [
        "def get_deg(list):\r\n",
        "  may = 0\r\n",
        "  for x in list:\r\n",
        "    if x[1] > may:\r\n",
        "      may = x[1]\r\n",
        "  return may"
      ],
      "execution_count": 101,
      "outputs": []
    },
    {
      "cell_type": "code",
      "metadata": {
        "id": "OTDDwJg_8Hms",
        "colab": {
          "base_uri": "https://localhost:8080/",
          "height": 279
        },
        "outputId": "8f930a54-8f16-477f-caeb-45135093a938"
      },
      "source": [
        "x = [get_deg(GCaltech.degree), get_deg(GMIT.degree), get_deg(GJH.degree)]\r\n",
        "y = [clCal, clMIT, clJH]\r\n",
        "\r\n",
        "\r\n",
        "degree_GCaltech = [val for (node, val) in GCaltech.degree]\r\n",
        "degree_GMIT = [val for (node, val) in GMIT.degree]\r\n",
        "degree_GJH = [val for (node, val) in GJH.degree]\r\n",
        "clus_GCaltech = nx.clustering(GCaltech)\r\n",
        "clus_GMIT = nx.clustering(GMIT)\r\n",
        "clus_GJH = nx.clustering(GJH)\r\n",
        "\r\n",
        "\r\n",
        "\r\n",
        "plt.xlabel(r\"Degree \")\r\n",
        "plt.ylabel(r\"Local clustering\")\r\n",
        "\r\n",
        "plt.plot(degree_GCaltech, list(clus_GCaltech.values()),'x', color='black');"
      ],
      "execution_count": 102,
      "outputs": [
        {
          "output_type": "display_data",
          "data": {
            "image/png": "[encoded data removed]",
            "text/plain": [
              "<Figure size 432x288 with 1 Axes>"
            ]
          },
          "metadata": {
            "tags": [],
            "needs_background": "light"
          }
        }
      ]
    },
    {
      "cell_type": "code",
      "metadata": {
        "id": "b3nZGWdZH-mB",
        "colab": {
          "base_uri": "https://localhost:8080/",
          "height": 279
        },
        "outputId": "5a5cb40d-5988-45a4-e94a-d17d49c2e071"
      },
      "source": [
        "plt.xlabel(r\"Degree \")\r\n",
        "plt.ylabel(r\"Local clustering\")\r\n",
        "\r\n",
        "plt.plot(degree_GMIT,list(clus_GMIT.values()), 'x', color='black');"
      ],
      "execution_count": 103,
      "outputs": [
        {
          "output_type": "display_data",
          "data": {
            "image/png": "[encoded data removed]",
            "text/plain": [
              "<Figure size 432x288 with 1 Axes>"
            ]
          },
          "metadata": {
            "tags": [],
            "needs_background": "light"
          }
        }
      ]
    },
    {
      "cell_type": "code",
      "metadata": {
        "id": "HZfyLyhSIQLV",
        "colab": {
          "base_uri": "https://localhost:8080/",
          "height": 279
        },
        "outputId": "1e6ccd84-66ee-487d-9cc3-aa6c30638a58"
      },
      "source": [
        "plt.xlabel(r\"Degree \")\r\n",
        "plt.ylabel(r\"Local clustering\")\r\n",
        "\r\n",
        "plt.plot(degree_GJH, list(clus_GJH.values()), 'x', color='black');"
      ],
      "execution_count": 104,
      "outputs": [
        {
          "output_type": "display_data",
          "data": {
            "image/png": "[encoded data removed]",
            "text/plain": [
              "<Figure size 432x288 with 1 Axes>"
            ]
          },
          "metadata": {
            "tags": [],
            "needs_background": "light"
          }
        }
      ]
    },
    {
      "cell_type": "markdown",
      "metadata": {
        "id": "gTdCT5h5JKSS"
      },
      "source": [
        "### Conclusions"
      ]
    },
    {
      "cell_type": "markdown",
      "metadata": {
        "id": "EXlBC-6dWIiR"
      },
      "source": [
        "\r\n",
        "\r\n",
        "*   The first conclusion that we can see is that the people with lower degree are the ones that have more clustering. Meaning that they might have in the social network more clustering because they had only their friends or people that they knew.  \r\n",
        "*   While, the people that had more connections and have a high degree are the ones that may know more people in the network but not all the people they know, are connected to each other. They might be from different faculties, years, etc.\r\n",
        "* The degree distributions of the three Universities have heavy tails and they also show a that the degree distributions seams to be approximately exponential\r\n",
        "* In the caltech one, as we have already mention in the previous one, they have more concentration in the middle and are the ones that might be more connected. This can be related as well to the size of the network, that they were not that much people\r\n",
        "* In MIT and John Hopkins we see a really similar behavior, where they are concentrated in the lower degrees and as they have more and more degree they decrease in the clustering, and they have very few nodes with a high degree. \r\n",
        "\r\n"
      ]
    },
    {
      "cell_type": "markdown",
      "metadata": {
        "id": "vkdP1oVVJRrH"
      },
      "source": [
        "# Question # 3"
      ]
    },
    {
      "cell_type": "markdown",
      "metadata": {
        "id": "GnT_f6Z7KzOr"
      },
      "source": [
        "Using the FB100 networks, investigate the assortativity patterns for three vertex attributes: (i) student/faculty status, (ii) major, (iii) vertex degree, and (iiii)dorm. Treat these networks as simple graphs in your analysis. For each vertex attribute, make a scatter plot showing the assortativity versus network size n, on log-linear axes, for all 100 networks, and a histogram or density plot showing the distribution of assortativity values. In both figures, include aline indicating no assortativity. "
      ]
    },
    {
      "cell_type": "markdown",
      "metadata": {
        "id": "Nq0R67O6Y3if"
      },
      "source": [
        "* Note: I decided to use the following three attributes of (i) student/faculty status, (ii) major, and (iii)dorm"
      ]
    },
    {
      "cell_type": "code",
      "metadata": {
        "id": "PSjDcUxUJOvV"
      },
      "source": [
        "G1 = nx.read_graphml(\"/content/drive/My Drive/Colab Notebooks/NT/Homework/Data/Johns Hopkins55.graphml\")\r\n",
        "G2 = nx.read_graphml(\"/content/drive/My Drive/Colab Notebooks/NT/Homework/Data/William77.graphml\")\r\n",
        "G3 = nx.read_graphml(\"/content/drive/My Drive/Colab Notebooks/NT/Homework/Data/MIT8.graphml\")\r\n",
        "G4 = nx.read_graphml(\"/content/drive/My Drive/Colab Notebooks/NT/Homework/Data/Williams40.graphml\")\r\n",
        "G5 = nx.read_graphml(\"/content/drive/My Drive/Colab Notebooks/NT/Homework/Data/Yale4.graphml\")\r\n",
        "G6 = nx.read_graphml(\"/content/drive/My Drive/Colab Notebooks/NT/Homework/Data/Duke14.graphml\")\r\n",
        "G7 = nx.read_graphml(\"/content/drive/My Drive/Colab Notebooks/NT/Homework/Data/Cal65.graphml\")\r\n",
        "G8 = nx.read_graphml(\"/content/drive/My Drive/Colab Notebooks/NT/Homework/Data/American75.graphml\")\r\n",
        "G9 = nx.read_graphml(\"/content/drive/My Drive/Colab Notebooks/NT/Homework/Data/Colgate88.graphml\")\r\n",
        "G10 = nx.read_graphml(\"/content/drive/My Drive/Colab Notebooks/NT/Homework/Data/Carnegie49.graphml\")\r\n",
        "G11 = nx.read_graphml(\"/content/drive/My Drive/Colab Notebooks/NT/Homework/Data/Princeton12.graphml\")\r\n",
        "G12 = nx.read_graphml(\"/content/drive/My Drive/Colab Notebooks/NT/Homework/Data/Penn94.graphml\")\r\n",
        "G13 = nx.read_graphml(\"/content/drive/My Drive/Colab Notebooks/NT/Homework/Data/Wisconsin87.graphml\")\r\n",
        "G14 = nx.read_graphml(\"/content/drive/My Drive/Colab Notebooks/NT/Homework/Data/Berkeley13.graphml\")\r\n",
        "G15 = nx.read_graphml(\"/content/drive/My Drive/Colab Notebooks/NT/Homework/Data/Harvard1.graphml\")\r\n",
        "G16 = nx.read_graphml(\"/content/drive/My Drive/Colab Notebooks/NT/Homework/Data/Indiana69.graphml\")\r\n",
        "G17 = nx.read_graphml(\"/content/drive/My Drive/Colab Notebooks/NT/Homework/Data/Maine59.graphml\")\r\n",
        "G18 = nx.read_graphml(\"/content/drive/My Drive/Colab Notebooks/NT/Homework/Data/Notre Dame57.graphml\")\r\n",
        "G19 = nx.read_graphml(\"/content/drive/My Drive/Colab Notebooks/NT/Homework/Data/Syracuse56.graphml\")\r\n",
        "G20 = nx.read_graphml(\"/content/drive/My Drive/Colab Notebooks/NT/Homework/Data/Texas80.graphml\")"
      ],
      "execution_count": 105,
      "outputs": []
    },
    {
      "cell_type": "code",
      "metadata": {
        "colab": {
          "base_uri": "https://localhost:8080/"
        },
        "id": "8FMFcIZMMxvp",
        "outputId": "6cdce3ff-d8d3-4d82-c8cd-6951f06f90c9"
      },
      "source": [
        "print(nx.attribute_assortativity_coefficient(G1, \"dorm\"))\r\n",
        "print(nx.attribute_assortativity_coefficient(G1, \"student_fac\"))\r\n",
        "print(nx.attribute_assortativity_coefficient(G1, \"major_index\"))\r\n",
        "print(nx.degree_assortativity_coefficient(G1))\r\n",
        "print(G1.size())"
      ],
      "execution_count": 106,
      "outputs": [
        {
          "output_type": "stream",
          "text": [
            "0.1094139656825041\n",
            "0.32521116673118183\n",
            "0.06353066589182865\n",
            "0.07980496716493633\n",
            "186586\n"
          ],
          "name": "stdout"
        }
      ]
    },
    {
      "cell_type": "markdown",
      "metadata": {
        "id": "YfsBGHVRzmbR"
      },
      "source": [
        "## Dorms"
      ]
    },
    {
      "cell_type": "markdown",
      "metadata": {
        "id": "fc-QKy-XztpA"
      },
      "source": [
        "Network Size vs Assortativity"
      ]
    },
    {
      "cell_type": "code",
      "metadata": {
        "colab": {
          "base_uri": "https://localhost:8080/",
          "height": 283
        },
        "id": "hiX3nMvNPBKV",
        "outputId": "18aea5b8-ecbe-42b0-8d5a-efe3e32c6527"
      },
      "source": [
        "x = 0\r\n",
        "Gs = [G1, G2, G3, G4, G5, G6, G7, G8, G9, G10, G11, G12, G13, G14, G15, G16, G17, G18, G19, G20]\r\n",
        "net_size = []\r\n",
        "dorm_att = []\r\n",
        "x=1\r\n",
        "for x in range(0, 20):\r\n",
        "  dorm_att.append(nx.attribute_assortativity_coefficient(Gs[x], \"dorm\"))\r\n",
        "  net_size.append(Gs[x].size())\r\n",
        "\r\n",
        "plt.xlabel(r\"Network Size \")\r\n",
        "plt.ylabel(r\"Dorm Assortativity\")\r\n",
        "plt.xscale('log')\r\n",
        "plt.axhline(0, color='k', linestyle='dashed', linewidth=1)\r\n",
        "#plt.ylim(bottom=-0.01)\r\n",
        "plt.plot(net_size, dorm_att, 'x', color='black');"
      ],
      "execution_count": 107,
      "outputs": [
        {
          "output_type": "display_data",
          "data": {
            "image/png": "[encoded data removed]",
            "text/plain": [
              "<Figure size 432x288 with 1 Axes>"
            ]
          },
          "metadata": {
            "tags": [],
            "needs_background": "light"
          }
        }
      ]
    },
    {
      "cell_type": "markdown",
      "metadata": {
        "id": "7vsAi525z1zc"
      },
      "source": [
        "Distribution of assortativity values"
      ]
    },
    {
      "cell_type": "code",
      "metadata": {
        "colab": {
          "base_uri": "https://localhost:8080/",
          "height": 297
        },
        "id": "uKTfy3x7zlu3",
        "outputId": "d31b408f-b231-4a8b-83ce-7fab7379518f"
      },
      "source": [
        "import matplotlib.pyplot as plt\r\n",
        "#dorm_att2 = sorted(dorm_att, reverse=True)\r\n",
        "#print(dorm_att)\r\n",
        "plt.hist(dorm_att, bins='auto', color='#5504aa',alpha=0.9, rwidth=0.4)\r\n",
        "plt.grid(axis='y', alpha=0.75)\r\n",
        "plt.xlabel('Dorm Assortativity')\r\n",
        "plt.xlim(left=-0.01)\r\n",
        "plt.axvline(0, color='k', linestyle='dashed', linewidth=1)"
      ],
      "execution_count": 108,
      "outputs": [
        {
          "output_type": "execute_result",
          "data": {
            "text/plain": [
              "<matplotlib.lines.Line2D at 0x7f7b4c424780>"
            ]
          },
          "metadata": {
            "tags": []
          },
          "execution_count": 108
        },
        {
          "output_type": "display_data",
          "data": {
            "image/png": "[encoded data removed]",
            "text/plain": [
              "<Figure size 432x288 with 1 Axes>"
            ]
          },
          "metadata": {
            "tags": [],
            "needs_background": "light"
          }
        }
      ]
    },
    {
      "cell_type": "markdown",
      "metadata": {
        "id": "ajsmbNJp0Aa-"
      },
      "source": [
        "## Student Faculty"
      ]
    },
    {
      "cell_type": "markdown",
      "metadata": {
        "id": "ii8ybS9-0Aa_"
      },
      "source": [
        "Network Size vs Assortativity"
      ]
    },
    {
      "cell_type": "code",
      "metadata": {
        "colab": {
          "base_uri": "https://localhost:8080/",
          "height": 283
        },
        "id": "AWAZmKwt0AbA",
        "outputId": "d1494680-2fb2-4343-9216-b22f534e9757"
      },
      "source": [
        "x = 0\r\n",
        "net_size = []\r\n",
        "stud_att = []\r\n",
        "x=1\r\n",
        "for x in range(0, 20):\r\n",
        "  stud_att.append(nx.attribute_assortativity_coefficient(Gs[x], \"student_fac\"))\r\n",
        "  net_size.append(Gs[x].size())\r\n",
        "\r\n",
        "\r\n",
        "plt.xlabel(r\"Network Size \")\r\n",
        "plt.ylabel(r\"Student Faculty Assortativity\")\r\n",
        "plt.xscale('log')\r\n",
        "plt.axhline(0, color='k', linestyle='dashed', linewidth=1)\r\n",
        "#plt.ylim(bottom=-0.01)\r\n",
        "plt.plot(net_size, stud_att, 'x', color='black');"
      ],
      "execution_count": 109,
      "outputs": [
        {
          "output_type": "display_data",
          "data": {
            "image/png": "[encoded data removed]",
            "text/plain": [
              "<Figure size 432x288 with 1 Axes>"
            ]
          },
          "metadata": {
            "tags": [],
            "needs_background": "light"
          }
        }
      ]
    },
    {
      "cell_type": "markdown",
      "metadata": {
        "id": "yoHXApZ50AbB"
      },
      "source": [
        "Distribution of assortativity values"
      ]
    },
    {
      "cell_type": "code",
      "metadata": {
        "colab": {
          "base_uri": "https://localhost:8080/",
          "height": 297
        },
        "id": "cny8xQyz0AbC",
        "outputId": "b7ba9baf-5cc1-451f-d9b4-49014d67ff1f"
      },
      "source": [
        "plt.hist(stud_att, bins='auto', color='#1111bb',alpha=0.9, rwidth=0.4)\r\n",
        "\r\n",
        "plt.grid(axis='y', alpha=0.75)\r\n",
        "plt.xlabel('Student Assortativity')\r\n",
        "#plt.xlim(left=-0.01)\r\n",
        "plt.axvline(0, color='k', linestyle='dashed', linewidth=1)"
      ],
      "execution_count": 110,
      "outputs": [
        {
          "output_type": "execute_result",
          "data": {
            "text/plain": [
              "<matplotlib.lines.Line2D at 0x7f7b51d17ef0>"
            ]
          },
          "metadata": {
            "tags": []
          },
          "execution_count": 110
        },
        {
          "output_type": "display_data",
          "data": {
            "image/png": "[encoded data removed]",
            "text/plain": [
              "<Figure size 432x288 with 1 Axes>"
            ]
          },
          "metadata": {
            "tags": [],
            "needs_background": "light"
          }
        }
      ]
    },
    {
      "cell_type": "markdown",
      "metadata": {
        "id": "gjNqDE560FJ8"
      },
      "source": [
        "## Major Index"
      ]
    },
    {
      "cell_type": "markdown",
      "metadata": {
        "id": "S1hXiInW0FJ9"
      },
      "source": [
        "Network Size vs Assortativity"
      ]
    },
    {
      "cell_type": "code",
      "metadata": {
        "colab": {
          "base_uri": "https://localhost:8080/",
          "height": 283
        },
        "id": "wEikFuET0FJ-",
        "outputId": "179813fb-9e4f-4bd4-9aba-d9782b7565a3"
      },
      "source": [
        "x = 0\r\n",
        "net_size = []\r\n",
        "major_att = []\r\n",
        "x=1\r\n",
        "for x in range(0, 20):\r\n",
        "  major_att.append(nx.attribute_assortativity_coefficient(Gs[x], \"major_index\"))\r\n",
        "  net_size.append(Gs[x].size())\r\n",
        "\r\n",
        "\r\n",
        "plt.xlabel(r\"Network Size \")\r\n",
        "plt.ylabel(r\"Major Assortativity\")\r\n",
        "plt.xscale('log')\r\n",
        "plt.axhline(0, color='k', linestyle='dashed', linewidth=1)\r\n",
        "#plt.ylim(bottom=-0.00001)\r\n",
        "plt.plot(net_size, major_att, 'x', color='black');"
      ],
      "execution_count": 111,
      "outputs": [
        {
          "output_type": "display_data",
          "data": {
            "image/png": "[encoded data removed]",
            "text/plain": [
              "<Figure size 432x288 with 1 Axes>"
            ]
          },
          "metadata": {
            "tags": [],
            "needs_background": "light"
          }
        }
      ]
    },
    {
      "cell_type": "markdown",
      "metadata": {
        "id": "kVy5Z3VO0FKA"
      },
      "source": [
        "Distribution of assortativity values"
      ]
    },
    {
      "cell_type": "code",
      "metadata": {
        "colab": {
          "base_uri": "https://localhost:8080/",
          "height": 297
        },
        "id": "h909JrM20FKB",
        "outputId": "03026002-fc25-427e-a186-f2ff2e9cb5ae"
      },
      "source": [
        "plt.hist(major_att, bins='auto', color='#ff7711',alpha=0.9, rwidth=0.4)\r\n",
        "\r\n",
        "plt.grid(axis='y', alpha=0.75)\r\n",
        "plt.xlabel('Major Assortativity')\r\n",
        "#plt.xlim(left=-0.01)\r\n",
        "plt.axvline(0, color='k', linestyle='dashed', linewidth=1)"
      ],
      "execution_count": 112,
      "outputs": [
        {
          "output_type": "execute_result",
          "data": {
            "text/plain": [
              "<matplotlib.lines.Line2D at 0x7f7b51635b70>"
            ]
          },
          "metadata": {
            "tags": []
          },
          "execution_count": 112
        },
        {
          "output_type": "display_data",
          "data": {
            "image/png": "[encoded data removed]",
            "text/plain": [
              "<Figure size 432x288 with 1 Axes>"
            ]
          },
          "metadata": {
            "tags": [],
            "needs_background": "light"
          }
        }
      ]
    },
    {
      "cell_type": "markdown",
      "metadata": {
        "id": "-J9VJY4vdb3e"
      },
      "source": [
        "## Degree"
      ]
    },
    {
      "cell_type": "markdown",
      "metadata": {
        "id": "OeGIITbtdb3f"
      },
      "source": [
        "Degree vs Assortativity"
      ]
    },
    {
      "cell_type": "code",
      "metadata": {
        "colab": {
          "base_uri": "https://localhost:8080/",
          "height": 283
        },
        "id": "4W3gpgvDdb3g",
        "outputId": "a3b38a7d-b9d8-4d26-fb1c-b37e7c8e1de7"
      },
      "source": [
        "\r\n",
        "Gs = [G1, G2, G3, G4, G5, G6, G7, G8, G9, G10, G11, G12, G13, G14, G15, G16, G17, G18, G19, G20]\r\n",
        "net_size = []\r\n",
        "deg_att = []\r\n",
        "for x in range(0, 20):\r\n",
        "  deg_att.append(nx.degree_assortativity_coefficient(Gs[x]))\r\n",
        "  net_size.append(Gs[x].size())\r\n",
        "\r\n",
        "plt.xlabel(r\"Network Size \")\r\n",
        "plt.ylabel(r\"Degree\")\r\n",
        "plt.xscale('log')\r\n",
        "plt.axhline(0, color='k', linestyle='dashed', linewidth=1)\r\n",
        "#plt.ylim(bottom=-0.01)\r\n",
        "plt.plot(net_size, dorm_att, 'x', color='black');"
      ],
      "execution_count": 113,
      "outputs": [
        {
          "output_type": "display_data",
          "data": {
            "image/png": "[encoded data removed]",
            "text/plain": [
              "<Figure size 432x288 with 1 Axes>"
            ]
          },
          "metadata": {
            "tags": [],
            "needs_background": "light"
          }
        }
      ]
    },
    {
      "cell_type": "markdown",
      "metadata": {
        "id": "j0dqF9Vydb3h"
      },
      "source": [
        "Distribution of assortativity values"
      ]
    },
    {
      "cell_type": "code",
      "metadata": {
        "colab": {
          "base_uri": "https://localhost:8080/",
          "height": 297
        },
        "id": "VJrCkEw_db3i",
        "outputId": "26cce392-485c-436a-958b-f31b4a439248"
      },
      "source": [
        "import matplotlib.pyplot as plt\r\n",
        "plt.hist(deg_att, bins='auto', color='#5504aa',alpha=0.9, rwidth=0.4)\r\n",
        "plt.grid(axis='y', alpha=0.75)\r\n",
        "plt.xlabel('Degree assortativity')\r\n",
        "plt.xlim(left=-0.01)\r\n",
        "plt.axvline(0, color='k', linestyle='dashed', linewidth=1)"
      ],
      "execution_count": 114,
      "outputs": [
        {
          "output_type": "execute_result",
          "data": {
            "text/plain": [
              "<matplotlib.lines.Line2D at 0x7f7b50d02e10>"
            ]
          },
          "metadata": {
            "tags": []
          },
          "execution_count": 114
        },
        {
          "output_type": "display_data",
          "data": {
            "image/png": "[encoded data removed]",
            "text/plain": [
              "<Figure size 432x288 with 1 Axes>"
            ]
          },
          "metadata": {
            "tags": [],
            "needs_background": "light"
          }
        }
      ]
    },
    {
      "cell_type": "markdown",
      "metadata": {
        "id": "fhxCuw3nZghu"
      },
      "source": [
        "## Discussion"
      ]
    },
    {
      "cell_type": "markdown",
      "metadata": {
        "id": "_ZPUNrZUZh6P"
      },
      "source": [
        "Briefly discuss the degree to which vertices do or\r\n",
        "do not exhibit assortative mixing on each attribute, and speculate about what\r\n",
        "kind of processes or tendencies in the formation of Facebook friendships might\r\n",
        "produce this kind of pattern."
      ]
    },
    {
      "cell_type": "markdown",
      "metadata": {
        "id": "khsVGW98cOJ_"
      },
      "source": [
        "* In my case, dorms show a high assortativity. In this case, it is kind of logic that people that live in the same building, or that were roomates during college, have friends from the same dorm and share their friends. \r\n",
        "\r\n",
        "* The attribute that I found that might have the higher assortativity is the faculty, meaning that the people that study the same or similar careers might be friends in the network. And the one with the lower assortativity is the major index. Meaning that the majors are not involved in making friends.\r\n",
        "\r\n",
        "* In general, this four characteristics, shown that they might have a small relevance to create the friendship with other people. Of course that some of the attributes have more relevance than others becuase when you create a new relationship you create a relationship with the people who lives closer to you, people that you see in a daily basis, people that study the same or similar to you. And some attributes, that have low assortativity show that they are not that relevant to create a friendship, like the titles you have or the majors. \r\n"
      ]
    },
    {
      "cell_type": "markdown",
      "metadata": {
        "id": "xwOjc6A_CG1K"
      },
      "source": [
        "# Question # 4"
      ]
    },
    {
      "cell_type": "markdown",
      "metadata": {
        "id": "rtABTXg0CLi8"
      },
      "source": [
        "- Read the document \r\n",
        "- Implement in python the label propagation algorithm, please consider pytorch and networkx for the development of your algorithm.\r\n",
        "- Choose a network from The Facebook100 dataset and randomly select 10%,20% and 30% of of the node attributes of the network to be remove. Use the label propagation algorithm you implemented to recover the missing attributes. Perform this operation for each of the following attributes : the ”dorm”, ”major”,”gender”.\r\n",
        "- For each cases of the following percentage of missing attributes: 10%, 20% and30% and for each of the following attributes: the ”dorm”, ”major”, ”gender”show the mean absolute error and accuracy of the label propagation algorithmas in the example provided in Table1 for the Duke university Facebook network.\r\n",
        "- Conclude on the accuracy of the label propagation algorithm for the different labels, could you explain why there is such difference in accuracy between each labels ?"
      ]
    },
    {
      "cell_type": "code",
      "metadata": {
        "id": "wNGzTRfACKuN"
      },
      "source": [
        "import networkx as nx\r\n",
        "import numpy as np\r\n",
        "import math\r\n",
        "from random import seed\r\n",
        "from random import random"
      ],
      "execution_count": 115,
      "outputs": []
    },
    {
      "cell_type": "code",
      "metadata": {
        "id": "1KdJ7FW_yTxh"
      },
      "source": [
        "G6 = nx.read_graphml(\"/content/drive/My Drive/Colab Notebooks/NT/Homework/Data/Duke14.graphml\")"
      ],
      "execution_count": 116,
      "outputs": []
    },
    {
      "cell_type": "code",
      "metadata": {
        "id": "0cenykVw_ogC"
      },
      "source": [
        "def normalize(G):\r\n",
        "    A = nx.to_numpy_array(G)\r\n",
        "    D = np.sum(A, axis=1)\r\n",
        "    Dinv = np.diag(1./D)\r\n",
        "    return Dinv @ A\r\n",
        "\r\n",
        "def label_propagation(G, Ylabel, idLabels, tol=1e-3, max_iter=1000):\r\n",
        "    Yfixed = Ylabel.copy()\r\n",
        "    N = len(G)\r\n",
        "    P = normalize(G)\r\n",
        "    Yprev = np.zeros(Ylabel.shape)\r\n",
        "    for _ in range(max_iter):\r\n",
        "        var = np.abs(np.sum(Yprev - Ylabel))\r\n",
        "        if var < tol:\r\n",
        "            break\r\n",
        "        Yprev = Ylabel.copy()\r\n",
        "        Ylabel = np.dot(P, Yprev)\r\n",
        "        Ylabel[idLabels] = Yfixed[idLabels]\r\n",
        "    return Ylabel\r\n",
        "\r\n",
        "def label_propagation_complete(G, label, tol, percentage):\r\n",
        "  g_values = nx.get_node_attributes(G,label)\r\n",
        "  unique_values = set( val for dic in g_values for val in g_values.values())\r\n",
        "  list_unique_values = list(unique_values)\r\n",
        "  \r\n",
        "  #values for the creation of the arrays\r\n",
        "  N2 = len(list(list_unique_values))\r\n",
        "  N = len(G)\r\n",
        "  \r\n",
        "  #labels\r\n",
        "  Ylabel = np.zeros((N, N2))\r\n",
        "  Ylabel_copy = np.zeros((N, N2))\r\n",
        "  percent = math.ceil(N*percentage)\r\n",
        "  \r\n",
        "  initial = percent * math.floor(random() * 1/percentage)\r\n",
        "  initial_or = initial\r\n",
        "  total_value = initial + percent\r\n",
        "  values_to_aprox = []\r\n",
        "  aux_sum = 0\r\n",
        "  for value in g_values:\r\n",
        "    for value2 in range(N2):\r\n",
        "      if g_values[value] == list_unique_values[value2] and g_values[value] != 0 and initial < total_value and initial <= aux_sum:\r\n",
        "        Ylabel[int(value), value2] = 0\r\n",
        "        Ylabel_copy[int(value), value2] = 1\r\n",
        "        initial = initial + 1\r\n",
        "        values_to_aprox.append(aux_sum)\r\n",
        "      elif g_values[value] == list_unique_values[value2] and g_values[value] != 0 :\r\n",
        "        Ylabel[int(value), value2] = 1\r\n",
        "        Ylabel_copy[int(value), value2] = 1\r\n",
        "    aux_sum = aux_sum + 1\r\n",
        "\r\n",
        "  idLabels = (Ylabel.sum(axis=1) == 1)\r\n",
        "  Ylabels = label_propagation(G, Ylabel, idLabels, tol, max_iter=1000)\r\n",
        "\r\n",
        "  #print(initial)\r\n",
        "  #print(idLabels)\r\n",
        "  #print(Ylabels)\r\n",
        "  return Ylabels, Ylabel_copy, values_to_aprox, initial_or, percent\r\n"
      ],
      "execution_count": 117,
      "outputs": []
    },
    {
      "cell_type": "code",
      "metadata": {
        "id": "hQC13iMzL96X"
      },
      "source": [
        "Ylabels_gender, Ylabel_copy, values_to_aprox, initial, percent = label_propagation_complete(G6, 'gender', 1e-3, 0.1)"
      ],
      "execution_count": 118,
      "outputs": []
    },
    {
      "cell_type": "code",
      "metadata": {
        "id": "RtviB5kxZk-S"
      },
      "source": [
        "def accuracy(Predicted, Ylabel_copy, initial, percentage):\r\n",
        "  aver = 0\r\n",
        "  idLabels = (Ylabel_copy.sum(axis=1) == 1)\r\n",
        "  i = initial\r\n",
        "  total = 0\r\n",
        "  while (i < (percentage + initial)):\r\n",
        "    #print(idLabels[i])\r\n",
        "    \r\n",
        "    if (idLabels[i]):\r\n",
        "      #print(Ylabel_copy[i])\r\n",
        "      total = total + 1\r\n",
        "      aux1 = 0\r\n",
        "      greater_val = 0\r\n",
        "      for value in Ylabel_copy[i]:\r\n",
        "        if value != 0:\r\n",
        "          #print(aux1, value)\r\n",
        "          break;\r\n",
        "        aux1 = aux1 + 1\r\n",
        "      \r\n",
        "      for value in Predicted[i]:\r\n",
        "        if value > greater_val:\r\n",
        "          greater_val = value\r\n",
        "      #per = \r\n",
        "      if (Predicted[i][aux1] >= (1 /(len(Predicted[i]) -1)) and Predicted[i][aux1] >= greater_val):\r\n",
        "        aver = aver + 1\r\n",
        "    i = i + 1\r\n",
        "\r\n",
        "  return aver/total"
      ],
      "execution_count": 119,
      "outputs": []
    },
    {
      "cell_type": "code",
      "metadata": {
        "colab": {
          "base_uri": "https://localhost:8080/"
        },
        "id": "zNcz5WTRnflD",
        "outputId": "3363bafa-cd7e-4b2f-e099-0717ae7446b3"
      },
      "source": [
        "average10 = accuracy(Ylabels_gender, Ylabel_copy, initial, percent)\r\n",
        "print(average10)"
      ],
      "execution_count": 120,
      "outputs": [
        {
          "output_type": "stream",
          "text": [
            "0.6756756756756757\n"
          ],
          "name": "stdout"
        }
      ]
    },
    {
      "cell_type": "code",
      "metadata": {
        "colab": {
          "base_uri": "https://localhost:8080/"
        },
        "id": "eT25Y8oI2TqO",
        "outputId": "10817f1c-3f44-47b0-f890-bee4e2ccdf31"
      },
      "source": [
        "from sklearn.metrics import mean_absolute_error\r\n",
        "idLabels = (Ylabel_copy.sum(axis=1) == 1)\r\n",
        "mean_absolute_error(Ylabel_copy[idLabels], Ylabels_gender[idLabels])"
      ],
      "execution_count": 121,
      "outputs": [
        {
          "output_type": "execute_result",
          "data": {
            "text/plain": [
              "0.032111022334947364"
            ]
          },
          "metadata": {
            "tags": []
          },
          "execution_count": 121
        }
      ]
    },
    {
      "cell_type": "code",
      "metadata": {
        "id": "j596AMpGjnSz"
      },
      "source": [
        "Ylabels_gender2, Ylabel_copy2, values_to_aprox2, initial2, percent2 = label_propagation_complete(G6, 'gender', 1e-3, 0.2)"
      ],
      "execution_count": 122,
      "outputs": []
    },
    {
      "cell_type": "code",
      "metadata": {
        "colab": {
          "base_uri": "https://localhost:8080/"
        },
        "id": "xRTb8QVHkWLv",
        "outputId": "b8ad4239-5485-423d-fc0a-414d79f57c23"
      },
      "source": [
        "average20 = accuracy(Ylabels_gender2, Ylabel_copy2, initial2, percent2)\r\n",
        "print(average20)"
      ],
      "execution_count": 123,
      "outputs": [
        {
          "output_type": "stream",
          "text": [
            "0.676341730558598\n"
          ],
          "name": "stdout"
        }
      ]
    },
    {
      "cell_type": "code",
      "metadata": {
        "colab": {
          "base_uri": "https://localhost:8080/"
        },
        "id": "cy9OkpAa2VQJ",
        "outputId": "c9854c64-4904-4e42-88ec-9825a6ce6a80"
      },
      "source": [
        "idLabels = (Ylabel_copy2.sum(axis=1) == 1)\r\n",
        "mean_absolute_error(Ylabel_copy2[idLabels], Ylabels_gender2[idLabels])"
      ],
      "execution_count": 124,
      "outputs": [
        {
          "output_type": "execute_result",
          "data": {
            "text/plain": [
              "0.06582704131466205"
            ]
          },
          "metadata": {
            "tags": []
          },
          "execution_count": 124
        }
      ]
    },
    {
      "cell_type": "code",
      "metadata": {
        "id": "k4Jn_bEGkjPC"
      },
      "source": [
        "Ylabels_gender3, Ylabel_copy3, values_to_aprox3, initial3, percent3 = label_propagation_complete(G6, 'gender', 1e-3, 0.3)"
      ],
      "execution_count": 125,
      "outputs": []
    },
    {
      "cell_type": "code",
      "metadata": {
        "id": "7Srsy3Xaknaz",
        "colab": {
          "base_uri": "https://localhost:8080/"
        },
        "outputId": "2f2e139f-7831-4209-8822-b091439ade7a"
      },
      "source": [
        "average30 = accuracy(Ylabels_gender3, Ylabel_copy3, initial3, percent3)\r\n",
        "print(average30)"
      ],
      "execution_count": 126,
      "outputs": [
        {
          "output_type": "stream",
          "text": [
            "0.6747341400806748\n"
          ],
          "name": "stdout"
        }
      ]
    },
    {
      "cell_type": "code",
      "metadata": {
        "colab": {
          "base_uri": "https://localhost:8080/"
        },
        "id": "Xdkv6qHr2bTo",
        "outputId": "6383544f-eddd-4afa-bfd4-1b1c1a19d06a"
      },
      "source": [
        "idLabels = (Ylabel_copy3.sum(axis=1) == 1)\r\n",
        "mean_absolute_error(Ylabel_copy3[idLabels], Ylabels_gender3[idLabels])"
      ],
      "execution_count": 127,
      "outputs": [
        {
          "output_type": "execute_result",
          "data": {
            "text/plain": [
              "0.09990151249014423"
            ]
          },
          "metadata": {
            "tags": []
          },
          "execution_count": 127
        }
      ]
    },
    {
      "cell_type": "code",
      "metadata": {
        "id": "76c_ZG4Ok7c3"
      },
      "source": [
        "Ylabels_dorm1, Ylabel_copy_dorm1, values_to_aprox_dorm1, initial_dorm1, percent_dorm1 = label_propagation_complete(G6, 'dorm', 1e-3, 0.1)"
      ],
      "execution_count": 128,
      "outputs": []
    },
    {
      "cell_type": "code",
      "metadata": {
        "id": "IqXKmljYk7FA",
        "colab": {
          "base_uri": "https://localhost:8080/"
        },
        "outputId": "1bb68f10-4f09-4f7d-9d02-f69fcf5c592c"
      },
      "source": [
        "average_dorm10 = accuracy(Ylabels_dorm1, Ylabel_copy_dorm1, initial_dorm1, percent_dorm1)\r\n",
        "print(average_dorm10)\r\n"
      ],
      "execution_count": 129,
      "outputs": [
        {
          "output_type": "stream",
          "text": [
            "0.49927431059506533\n"
          ],
          "name": "stdout"
        }
      ]
    },
    {
      "cell_type": "code",
      "metadata": {
        "colab": {
          "base_uri": "https://localhost:8080/"
        },
        "id": "j2N68Hl82iD3",
        "outputId": "3e481921-451d-4e5b-fa93-7b783e0bfee0"
      },
      "source": [
        "idLabels = (Ylabel_copy_dorm1.sum(axis=1) == 1)\r\n",
        "mean_absolute_error(Ylabel_copy_dorm1[idLabels], Ylabels_dorm1[idLabels])"
      ],
      "execution_count": 130,
      "outputs": [
        {
          "output_type": "execute_result",
          "data": {
            "text/plain": [
              "0.0016966319542925717"
            ]
          },
          "metadata": {
            "tags": []
          },
          "execution_count": 130
        }
      ]
    },
    {
      "cell_type": "code",
      "metadata": {
        "id": "lZvIMwIFsVnT"
      },
      "source": [
        "Ylabels_dorm2, Ylabel_copy_dorm2, values_to_aprox_dorm2, initial_dorm2, percent_dorm2 = label_propagation_complete(G6, 'dorm', 1e-3, 0.2)"
      ],
      "execution_count": 131,
      "outputs": []
    },
    {
      "cell_type": "code",
      "metadata": {
        "id": "wV2yCwoUsVnV",
        "colab": {
          "base_uri": "https://localhost:8080/"
        },
        "outputId": "69afeb14-80b6-4a5c-ed74-35f6da9ea7d3"
      },
      "source": [
        "average_dorm20 = accuracy(Ylabels_dorm2, Ylabel_copy_dorm2, initial_dorm2, percent_dorm2)\r\n",
        "print(average_dorm20)\r\n",
        "\r\n",
        "\r\n"
      ],
      "execution_count": 132,
      "outputs": [
        {
          "output_type": "stream",
          "text": [
            "0.5485714285714286\n"
          ],
          "name": "stdout"
        }
      ]
    },
    {
      "cell_type": "code",
      "metadata": {
        "colab": {
          "base_uri": "https://localhost:8080/"
        },
        "id": "Es--0VfX2uT7",
        "outputId": "753962a7-2b87-4771-9625-511af79ab589"
      },
      "source": [
        "idLabels = (Ylabel_copy_dorm2.sum(axis=1) == 1)\r\n",
        "mean_absolute_error(Ylabel_copy_dorm2[idLabels], Ylabels_dorm2[idLabels])"
      ],
      "execution_count": 133,
      "outputs": [
        {
          "output_type": "execute_result",
          "data": {
            "text/plain": [
              "0.002379294424239512"
            ]
          },
          "metadata": {
            "tags": []
          },
          "execution_count": 133
        }
      ]
    },
    {
      "cell_type": "code",
      "metadata": {
        "id": "p2jdo0srsaJt"
      },
      "source": [
        "Ylabels_dorm3, Ylabel_copy_dorm3, values_to_aprox_dorm3, initial_dorm3, percent_dorm3 = label_propagation_complete(G6, 'dorm', 1e-3, 0.3)"
      ],
      "execution_count": 134,
      "outputs": []
    },
    {
      "cell_type": "code",
      "metadata": {
        "id": "ZPlVjJadsaJt",
        "colab": {
          "base_uri": "https://localhost:8080/"
        },
        "outputId": "352f3aff-abc5-460e-d1c4-09cbacf93157"
      },
      "source": [
        "average_dorm30 = accuracy(Ylabels_dorm3, Ylabel_copy_dorm3, initial_dorm3, percent_dorm3)\r\n",
        "print(average_dorm30)\r\n",
        "\r\n",
        "\r\n"
      ],
      "execution_count": 135,
      "outputs": [
        {
          "output_type": "stream",
          "text": [
            "0.4995183044315992\n"
          ],
          "name": "stdout"
        }
      ]
    },
    {
      "cell_type": "code",
      "metadata": {
        "colab": {
          "base_uri": "https://localhost:8080/"
        },
        "id": "qPduPk1520H8",
        "outputId": "2ba95136-adfb-4459-fae9-fb16e41dc289"
      },
      "source": [
        "idLabels = (Ylabel_copy_dorm3.sum(axis=1) == 1)\r\n",
        "mean_absolute_error(Ylabel_copy_dorm3[idLabels], Ylabels_dorm3[idLabels])"
      ],
      "execution_count": 136,
      "outputs": [
        {
          "output_type": "execute_result",
          "data": {
            "text/plain": [
              "0.005256702829892758"
            ]
          },
          "metadata": {
            "tags": []
          },
          "execution_count": 136
        }
      ]
    },
    {
      "cell_type": "code",
      "metadata": {
        "id": "WxUaQ6iWl7nx"
      },
      "source": [
        "Ylabels_major1, Ylabel_copy_major1, values_to_aprox_major1, initial_major1, percent_major1 = label_propagation_complete(G6, 'major_index', 1e-3, 0.1)\r\n"
      ],
      "execution_count": 137,
      "outputs": []
    },
    {
      "cell_type": "code",
      "metadata": {
        "id": "HpNetzP8pGZy",
        "colab": {
          "base_uri": "https://localhost:8080/"
        },
        "outputId": "b646aa8e-7098-4dc7-e908-60803b72a849"
      },
      "source": [
        "average_maj10 = accuracy(Ylabels_major1, Ylabel_copy_major1, initial_major1, percent_major1)\r\n",
        "print(average_maj10)"
      ],
      "execution_count": 138,
      "outputs": [
        {
          "output_type": "stream",
          "text": [
            "0.26125\n"
          ],
          "name": "stdout"
        }
      ]
    },
    {
      "cell_type": "code",
      "metadata": {
        "colab": {
          "base_uri": "https://localhost:8080/"
        },
        "id": "jv1XAUNj3HJE",
        "outputId": "2b291b3f-ccc6-4189-b375-a1b8333a5b80"
      },
      "source": [
        "idLabels = (Ylabel_copy_major1.sum(axis=1) == 1)\r\n",
        "mean_absolute_error(Ylabel_copy_major1[idLabels], Ylabels_major1[idLabels])"
      ],
      "execution_count": 139,
      "outputs": [
        {
          "output_type": "execute_result",
          "data": {
            "text/plain": [
              "0.003304288698254832"
            ]
          },
          "metadata": {
            "tags": []
          },
          "execution_count": 139
        }
      ]
    },
    {
      "cell_type": "code",
      "metadata": {
        "id": "OG7MJqbRmIJ8"
      },
      "source": [
        "Ylabels_major2, Ylabel_copy_major2, values_to_aprox_major2, initial_major2, percent_major2 = label_propagation_complete(G6, 'major_index', 1e-3, 0.2)"
      ],
      "execution_count": 140,
      "outputs": []
    },
    {
      "cell_type": "code",
      "metadata": {
        "id": "rUJ2yRjbmNyG"
      },
      "source": [
        "Ylabels_major3, Ylabel_copy_major3, values_to_aprox_major3, initial_major3, percent_major3 = label_propagation_complete(G6, 'major_index', 1e-3, 0.3)"
      ],
      "execution_count": 141,
      "outputs": []
    },
    {
      "cell_type": "code",
      "metadata": {
        "colab": {
          "base_uri": "https://localhost:8080/"
        },
        "id": "HEJhvSAqmoqc",
        "outputId": "09355c2b-049b-4e71-ba2e-eb64b873ec5a"
      },
      "source": [
        "average_maj20 = accuracy(Ylabels_major2, Ylabel_copy_major2, initial_major2, percent_major2)\r\n",
        "average_maj30 = accuracy(Ylabels_major3, Ylabel_copy_major3, initial_major3, percent_major3)\r\n",
        "print(average_maj20)\r\n",
        "print(average_maj30)"
      ],
      "execution_count": 142,
      "outputs": [
        {
          "output_type": "stream",
          "text": [
            "0.2715273412947832\n",
            "0.24895920066611157\n"
          ],
          "name": "stdout"
        }
      ]
    },
    {
      "cell_type": "code",
      "metadata": {
        "colab": {
          "base_uri": "https://localhost:8080/"
        },
        "id": "cpG_EkZd3PXG",
        "outputId": "121d77fb-c1ab-4447-ed73-3ee126c828e8"
      },
      "source": [
        "idLabels = (Ylabel_copy_major2.sum(axis=1) == 1)\r\n",
        "mean_absolute_error(Ylabel_copy_major2[idLabels], Ylabels_major2[idLabels])\r\n"
      ],
      "execution_count": 143,
      "outputs": [
        {
          "output_type": "execute_result",
          "data": {
            "text/plain": [
              "0.006592115289288846"
            ]
          },
          "metadata": {
            "tags": []
          },
          "execution_count": 143
        }
      ]
    },
    {
      "cell_type": "code",
      "metadata": {
        "colab": {
          "base_uri": "https://localhost:8080/"
        },
        "id": "59rVOWPn3Zbr",
        "outputId": "13d5cdf6-9192-479c-b15e-8962245ecff6"
      },
      "source": [
        "idLabels = (Ylabel_copy_major3.sum(axis=1) == 1)\r\n",
        "mean_absolute_error(Ylabel_copy_major3[idLabels], Ylabels_major3[idLabels])"
      ],
      "execution_count": 144,
      "outputs": [
        {
          "output_type": "execute_result",
          "data": {
            "text/plain": [
              "0.009959803998076869"
            ]
          },
          "metadata": {
            "tags": []
          },
          "execution_count": 144
        }
      ]
    },
    {
      "cell_type": "code",
      "metadata": {
        "colab": {
          "base_uri": "https://localhost:8080/"
        },
        "id": "38WlDP0jnkd_",
        "outputId": "99a3b639-cdc1-4c3e-fb8b-388d9b2bdb0d"
      },
      "source": [
        "matrix = [['Attribute', '0.1', '0.2', '0.3'], ['Gender', average10, average20, average30], ['Dorm', average_dorm10, average_dorm20, average_dorm30], ['Major', average_maj10, average_maj20, average_maj30]]\r\n",
        "matrix"
      ],
      "execution_count": 145,
      "outputs": [
        {
          "output_type": "execute_result",
          "data": {
            "text/plain": [
              "[['Attribute', '0.1', '0.2', '0.3'],\n",
              " ['Gender', 0.6756756756756757, 0.676341730558598, 0.6747341400806748],\n",
              " ['Dorm', 0.49927431059506533, 0.5485714285714286, 0.4995183044315992],\n",
              " ['Major', 0.26125, 0.2715273412947832, 0.24895920066611157]]"
            ]
          },
          "metadata": {
            "tags": []
          },
          "execution_count": 145
        }
      ]
    },
    {
      "cell_type": "markdown",
      "metadata": {
        "id": "gwy5aRA23cn2"
      },
      "source": [
        "## Conclusions"
      ]
    },
    {
      "cell_type": "markdown",
      "metadata": {
        "id": "n_1WeAb13f69"
      },
      "source": [
        "* Replicating the results shown in the table, we can notice that the algorithm depends on the data. How many data we have, how many labels, and how many labels with data we have. \r\n",
        "* The difference that we can notice while working with the data is that it depends on how many labels the algorithm has to be able to predict. In this case, when it had to predict the labels of the gender, it was really efficient since it was able to predict only two labels, either male or female. While in the others, the algorithm had to predict in way to much more labels.\r\n",
        "* We can notice as well, that usually with more data is more accurate, and this makes sense. Because the idea behind the algorithm is to predict according to your connections and \"friends\" in this case. So, by having more data about your friends and the relationship, its possible to make better preditions.\r\n",
        "* The mean absolute error and the accuracy both of them decreases while increasing the percentage of values missing, giving evidence of the previous statement.  "
      ]
    },
    {
      "cell_type": "markdown",
      "metadata": {
        "id": "Z0MUAwbElELu"
      },
      "source": [
        "# This are all the attemps to get a funtional label propagation algorithm\r\n"
      ]
    },
    {
      "cell_type": "code",
      "metadata": {
        "id": "lcbTEbe8Zw__"
      },
      "source": [
        "acc = {}\r\n",
        "for value in range(math.ceil(N*0.1)):\r\n",
        "  acc[value] = dorm[str(value)] - dictio[value]\r\n",
        "\r\n",
        "acc"
      ],
      "execution_count": null,
      "outputs": []
    },
    {
      "cell_type": "code",
      "metadata": {
        "id": "DuOJ79IoYeVM"
      },
      "source": [
        "dorm=nx.get_node_attributes(G6,'gender')\r\n",
        "#print(dorm)\r\n",
        "dorm2 = set( val for dic in dorm for val in dorm.values())\r\n",
        "listdorm2 = list(dorm2) \r\n",
        "N2 = len(list(dorm2))"
      ],
      "execution_count": null,
      "outputs": []
    },
    {
      "cell_type": "code",
      "metadata": {
        "colab": {
          "base_uri": "https://localhost:8080/"
        },
        "id": "0-eX3YLDsLU2",
        "outputId": "5d5fe309-2f32-49d5-f9ef-9315307f1782"
      },
      "source": [
        "print(dorm)\r\n",
        "print(listdorm2)"
      ],
      "execution_count": null,
      "outputs": [
        {
          "output_type": "stream",
          "text": [
            "{'0': 0, '1': 2, '2': 1, '3': 1, '4': 1, '5': 1, '6': 1, '7': 2, '8': 1, '9': 2, '10': 2, '11': 1, '12': 2, '13': 1, '14': 2, '15': 1, '16': 2, '17': 1, '18': 1, '19': 2, '20': 2, '21': 2, '22': 1, '23': 1, '24': 2, '25': 2, '26': 0, '27': 1, '28': 1, '29': 1, '30': 1, '31': 1, '32': 2, '33': 1, '34': 1, '35': 2, '36': 2, '37': 2, '38': 2, '39': 2, '40': 2, '41': 1, '42': 1, '43': 2, '44': 2, '45': 2, '46': 1, '47': 2, '48': 1, '49': 1, '50': 2, '51': 1, '52': 1, '53': 2, '54': 2, '55': 1, '56': 2, '57': 1, '58': 1, '59': 1, '60': 0, '61': 1, '62': 2, '63': 1, '64': 2, '65': 2, '66': 1, '67': 2, '68': 2, '69': 1, '70': 2, '71': 1, '72': 2, '73': 1, '74': 1, '75': 2, '76': 1, '77': 2, '78': 2, '79': 1, '80': 1, '81': 1, '82': 2, '83': 1, '84': 2, '85': 2, '86': 1, '87': 2, '88': 2, '89': 2, '90': 1, '91': 2, '92': 2, '93': 1, '94': 2, '95': 0, '96': 1, '97': 2, '98': 2, '99': 1, '100': 1, '101': 2, '102': 2, '103': 2, '104': 0, '105': 1, '106': 1, '107': 1, '108': 2, '109': 1, '110': 1, '111': 2, '112': 0, '113': 1, '114': 1, '115': 1, '116': 2, '117': 1, '118': 1, '119': 2, '120': 0, '121': 0, '122': 1, '123': 1, '124': 2, '125': 1, '126': 2, '127': 2, '128': 2, '129': 2, '130': 1, '131': 2, '132': 1, '133': 2, '134': 2, '135': 2, '136': 0, '137': 1, '138': 1, '139': 1, '140': 1, '141': 2, '142': 1, '143': 2, '144': 1, '145': 1, '146': 0, '147': 1, '148': 2, '149': 1, '150': 2, '151': 2, '152': 2, '153': 1, '154': 2, '155': 1, '156': 1, '157': 1, '158': 2, '159': 2, '160': 2, '161': 2, '162': 1, '163': 1, '164': 2, '165': 2, '166': 1, '167': 2, '168': 2, '169': 1, '170': 2, '171': 1, '172': 1, '173': 2, '174': 2, '175': 1, '176': 1, '177': 2, '178': 2, '179': 1, '180': 2, '181': 1, '182': 1, '183': 2, '184': 1, '185': 2, '186': 2, '187': 1, '188': 1, '189': 1, '190': 0, '191': 1, '192': 2, '193': 2, '194': 2, '195': 2, '196': 2, '197': 1, '198': 2, '199': 1, '200': 0, '201': 1, '202': 1, '203': 2, '204': 1, '205': 1, '206': 2, '207': 2, '208': 2, '209': 2, '210': 1, '211': 2, '212': 2, '213': 2, '214': 1, '215': 2, '216': 2, '217': 0, '218': 2, '219': 0, '220': 1, '221': 2, '222': 0, '223': 1, '224': 2, '225': 2, '226': 2, '227': 2, '228': 1, '229': 1, '230': 2, '231': 1, '232': 2, '233': 1, '234': 2, '235': 2, '236': 0, '237': 0, '238': 0, '239': 0, '240': 1, '241': 1, '242': 1, '243': 0, '244': 1, '245': 1, '246': 1, '247': 1, '248': 2, '249': 2, '250': 0, '251': 2, '252': 1, '253': 2, '254': 2, '255': 0, '256': 0, '257': 1, '258': 2, '259': 0, '260': 1, '261': 2, '262': 1, '263': 2, '264': 2, '265': 2, '266': 2, '267': 2, '268': 1, '269': 1, '270': 2, '271': 2, '272': 2, '273': 2, '274': 1, '275': 1, '276': 1, '277': 2, '278': 0, '279': 2, '280': 2, '281': 2, '282': 1, '283': 2, '284': 2, '285': 1, '286': 1, '287': 2, '288': 1, '289': 1, '290': 2, '291': 1, '292': 1, '293': 1, '294': 2, '295': 1, '296': 1, '297': 0, '298': 2, '299': 2, '300': 0, '301': 2, '302': 1, '303': 2, '304': 2, '305': 1, '306': 1, '307': 2, '308': 2, '309': 2, '310': 1, '311': 2, '312': 1, '313': 2, '314': 1, '315': 1, '316': 2, '317': 0, '318': 0, '319': 1, '320': 1, '321': 2, '322': 2, '323': 1, '324': 1, '325': 2, '326': 2, '327': 2, '328': 2, '329': 2, '330': 2, '331': 1, '332': 1, '333': 2, '334': 1, '335': 1, '336': 2, '337': 2, '338': 1, '339': 0, '340': 2, '341': 1, '342': 1, '343': 2, '344': 2, '345': 2, '346': 1, '347': 2, '348': 2, '349': 1, '350': 1, '351': 2, '352': 2, '353': 2, '354': 1, '355': 2, '356': 2, '357': 1, '358': 2, '359': 2, '360': 2, '361': 2, '362': 2, '363': 2, '364': 1, '365': 2, '366': 1, '367': 2, '368': 2, '369': 2, '370': 2, '371': 2, '372': 2, '373': 1, '374': 2, '375': 1, '376': 1, '377': 1, '378': 2, '379': 1, '380': 0, '381': 1, '382': 2, '383': 2, '384': 2, '385': 1, '386': 1, '387': 1, '388': 2, '389': 1, '390': 2, '391': 1, '392': 2, '393': 2, '394': 2, '395': 1, '396': 2, '397': 2, '398': 2, '399': 1, '400': 2, '401': 2, '402': 1, '403': 1, '404': 1, '405': 1, '406': 2, '407': 2, '408': 1, '409': 1, '410': 1, '411': 2, '412': 2, '413': 2, '414': 1, '415': 2, '416': 1, '417': 2, '418': 1, '419': 2, '420': 0, '421': 2, '422': 1, '423': 2, '424': 1, '425': 1, '426': 1, '427': 0, '428': 1, '429': 2, '430': 1, '431': 2, '432': 1, '433': 1, '434': 1, '435': 1, '436': 2, '437': 2, '438': 1, '439': 1, '440': 2, '441': 1, '442': 2, '443': 1, '444': 0, '445': 1, '446': 1, '447': 1, '448': 0, '449': 2, '450': 2, '451': 2, '452': 1, '453': 1, '454': 0, '455': 0, '456': 1, '457': 2, '458': 1, '459': 2, '460': 1, '461': 2, '462': 2, '463': 2, '464': 2, '465': 1, '466': 1, '467': 1, '468': 1, '469': 1, '470': 1, '471': 2, '472': 1, '473': 1, '474': 1, '475': 2, '476': 0, '477': 2, '478': 2, '479': 2, '480': 2, '481': 1, '482': 1, '483': 2, '484': 1, '485': 2, '486': 0, '487': 2, '488': 1, '489': 1, '490': 2, '491': 1, '492': 0, '493': 1, '494': 2, '495': 2, '496': 2, '497': 2, '498': 2, '499': 2, '500': 1, '501': 1, '502': 2, '503': 2, '504': 1, '505': 1, '506': 2, '507': 1, '508': 2, '509': 2, '510': 2, '511': 2, '512': 1, '513': 0, '514': 0, '515': 1, '516': 2, '517': 2, '518': 1, '519': 1, '520': 1, '521': 1, '522': 2, '523': 1, '524': 2, '525': 1, '526': 1, '527': 1, '528': 1, '529': 0, '530': 1, '531': 1, '532': 1, '533': 2, '534': 2, '535': 2, '536': 2, '537': 1, '538': 2, '539': 2, '540': 2, '541': 1, '542': 1, '543': 1, '544': 2, '545': 1, '546': 2, '547': 1, '548': 1, '549': 2, '550': 2, '551': 1, '552': 2, '553': 2, '554': 1, '555': 1, '556': 1, '557': 2, '558': 1, '559': 1, '560': 2, '561': 1, '562': 1, '563': 2, '564': 1, '565': 1, '566': 2, '567': 2, '568': 2, '569': 2, '570': 2, '571': 1, '572': 1, '573': 0, '574': 1, '575': 1, '576': 2, '577': 1, '578': 1, '579': 1, '580': 0, '581': 1, '582': 1, '583': 1, '584': 1, '585': 1, '586': 2, '587': 2, '588': 2, '589': 2, '590': 2, '591': 2, '592': 2, '593': 2, '594': 2, '595': 1, '596': 2, '597': 1, '598': 2, '599': 2, '600': 1, '601': 1, '602': 1, '603': 2, '604': 1, '605': 1, '606': 2, '607': 1, '608': 2, '609': 1, '610': 1, '611': 1, '612': 2, '613': 2, '614': 2, '615': 1, '616': 2, '617': 2, '618': 1, '619': 2, '620': 1, '621': 1, '622': 1, '623': 2, '624': 2, '625': 2, '626': 1, '627': 2, '628': 2, '629': 1, '630': 2, '631': 1, '632': 1, '633': 0, '634': 2, '635': 2, '636': 1, '637': 2, '638': 0, '639': 1, '640': 2, '641': 1, '642': 2, '643': 1, '644': 1, '645': 1, '646': 2, '647': 2, '648': 2, '649': 1, '650': 2, '651': 1, '652': 1, '653': 1, '654': 1, '655': 2, '656': 1, '657': 1, '658': 2, '659': 1, '660': 1, '661': 2, '662': 2, '663': 0, '664': 2, '665': 1, '666': 0, '667': 1, '668': 2, '669': 1, '670': 2, '671': 2, '672': 2, '673': 2, '674': 2, '675': 2, '676': 2, '677': 1, '678': 1, '679': 1, '680': 2, '681': 2, '682': 2, '683': 1, '684': 0, '685': 2, '686': 2, '687': 2, '688': 2, '689': 1, '690': 1, '691': 0, '692': 2, '693': 2, '694': 1, '695': 1, '696': 2, '697': 1, '698': 2, '699': 2, '700': 1, '701': 2, '702': 2, '703': 2, '704': 2, '705': 1, '706': 2, '707': 1, '708': 2, '709': 2, '710': 2, '711': 1, '712': 1, '713': 2, '714': 1, '715': 1, '716': 1, '717': 2, '718': 0, '719': 1, '720': 2, '721': 1, '722': 1, '723': 2, '724': 2, '725': 1, '726': 0, '727': 2, '728': 1, '729': 0, '730': 0, '731': 0, '732': 1, '733': 1, '734': 2, '735': 1, '736': 1, '737': 1, '738': 1, '739': 0, '740': 2, '741': 1, '742': 2, '743': 2, '744': 2, '745': 2, '746': 1, '747': 1, '748': 1, '749': 1, '750': 2, '751': 1, '752': 2, '753': 2, '754': 1, '755': 2, '756': 2, '757': 1, '758': 2, '759': 2, '760': 1, '761': 1, '762': 2, '763': 2, '764': 1, '765': 0, '766': 2, '767': 2, '768': 2, '769': 1, '770': 1, '771': 1, '772': 2, '773': 1, '774': 1, '775': 2, '776': 2, '777': 1, '778': 2, '779': 1, '780': 1, '781': 2, '782': 1, '783': 2, '784': 1, '785': 1, '786': 0, '787': 2, '788': 1, '789': 0, '790': 2, '791': 1, '792': 2, '793': 2, '794': 2, '795': 1, '796': 2, '797': 2, '798': 1, '799': 2, '800': 2, '801': 2, '802': 1, '803': 1, '804': 1, '805': 1, '806': 2, '807': 1, '808': 2, '809': 1, '810': 2, '811': 1, '812': 1, '813': 2, '814': 1, '815': 2, '816': 2, '817': 2, '818': 1, '819': 2, '820': 1, '821': 0, '822': 1, '823': 2, '824': 1, '825': 2, '826': 2, '827': 2, '828': 1, '829': 2, '830': 2, '831': 2, '832': 2, '833': 2, '834': 2, '835': 2, '836': 2, '837': 1, '838': 2, '839': 1, '840': 0, '841': 2, '842': 2, '843': 1, '844': 1, '845': 1, '846': 1, '847': 1, '848': 2, '849': 0, '850': 2, '851': 2, '852': 2, '853': 1, '854': 0, '855': 2, '856': 1, '857': 1, '858': 1, '859': 1, '860': 2, '861': 1, '862': 1, '863': 2, '864': 1, '865': 2, '866': 1, '867': 2, '868': 2, '869': 2, '870': 2, '871': 2, '872': 1, '873': 2, '874': 2, '875': 1, '876': 1, '877': 2, '878': 2, '879': 1, '880': 2, '881': 1, '882': 0, '883': 1, '884': 2, '885': 1, '886': 0, '887': 1, '888': 1, '889': 2, '890': 2, '891': 2, '892': 2, '893': 0, '894': 1, '895': 2, '896': 2, '897': 2, '898': 2, '899': 2, '900': 2, '901': 2, '902': 1, '903': 2, '904': 2, '905': 2, '906': 2, '907': 0, '908': 1, '909': 1, '910': 1, '911': 0, '912': 1, '913': 1, '914': 0, '915': 2, '916': 1, '917': 1, '918': 0, '919': 2, '920': 1, '921': 2, '922': 1, '923': 2, '924': 2, '925': 2, '926': 2, '927': 1, '928': 1, '929': 2, '930': 1, '931': 2, '932': 0, '933': 2, '934': 2, '935': 2, '936': 2, '937': 2, '938': 2, '939': 2, '940': 1, '941': 1, '942': 2, '943': 2, '944': 2, '945': 0, '946': 2, '947': 2, '948': 1, '949': 2, '950': 2, '951': 2, '952': 2, '953': 0, '954': 1, '955': 1, '956': 1, '957': 1, '958': 2, '959': 2, '960': 1, '961': 1, '962': 1, '963': 1, '964': 0, '965': 1, '966': 2, '967': 2, '968': 1, '969': 2, '970': 2, '971': 2, '972': 2, '973': 1, '974': 1, '975': 2, '976': 2, '977': 1, '978': 1, '979': 0, '980': 1, '981': 2, '982': 1, '983': 2, '984': 1, '985': 1, '986': 1, '987': 1, '988': 2, '989': 1, '990': 2, '991': 1, '992': 1, '993': 1, '994': 2, '995': 0, '996': 2, '997': 2, '998': 1, '999': 2, '1000': 0, '1001': 1, '1002': 1, '1003': 2, '1004': 1, '1005': 0, '1006': 1, '1007': 2, '1008': 2, '1009': 1, '1010': 2, '1011': 0, '1012': 1, '1013': 2, '1014': 1, '1015': 1, '1016': 1, '1017': 2, '1018': 2, '1019': 1, '1020': 1, '1021': 2, '1022': 2, '1023': 2, '1024': 2, '1025': 1, '1026': 2, '1027': 2, '1028': 2, '1029': 2, '1030': 0, '1031': 2, '1032': 0, '1033': 2, '1034': 2, '1035': 1, '1036': 1, '1037': 1, '1038': 2, '1039': 0, '1040': 2, '1041': 1, '1042': 2, '1043': 2, '1044': 2, '1045': 1, '1046': 2, '1047': 1, '1048': 2, '1049': 2, '1050': 1, '1051': 0, '1052': 0, '1053': 2, '1054': 2, '1055': 2, '1056': 0, '1057': 1, '1058': 0, '1059': 1, '1060': 1, '1061': 2, '1062': 1, '1063': 2, '1064': 1, '1065': 1, '1066': 2, '1067': 2, '1068': 2, '1069': 1, '1070': 1, '1071': 1, '1072': 2, '1073': 1, '1074': 2, '1075': 2, '1076': 2, '1077': 2, '1078': 0, '1079': 2, '1080': 2, '1081': 2, '1082': 1, '1083': 2, '1084': 1, '1085': 1, '1086': 1, '1087': 2, '1088': 1, '1089': 2, '1090': 2, '1091': 1, '1092': 1, '1093': 1, '1094': 2, '1095': 2, '1096': 1, '1097': 1, '1098': 1, '1099': 2, '1100': 2, '1101': 1, '1102': 2, '1103': 2, '1104': 2, '1105': 1, '1106': 2, '1107': 1, '1108': 1, '1109': 1, '1110': 2, '1111': 0, '1112': 1, '1113': 2, '1114': 1, '1115': 1, '1116': 2, '1117': 1, '1118': 1, '1119': 2, '1120': 1, '1121': 2, '1122': 2, '1123': 2, '1124': 2, '1125': 1, '1126': 1, '1127': 1, '1128': 1, '1129': 1, '1130': 1, '1131': 1, '1132': 2, '1133': 1, '1134': 1, '1135': 1, '1136': 2, '1137': 1, '1138': 1, '1139': 0, '1140': 2, '1141': 2, '1142': 2, '1143': 0, '1144': 2, '1145': 1, '1146': 2, '1147': 2, '1148': 2, '1149': 2, '1150': 1, '1151': 1, '1152': 2, '1153': 2, '1154': 2, '1155': 2, '1156': 2, '1157': 1, '1158': 2, '1159': 1, '1160': 1, '1161': 2, '1162': 0, '1163': 2, '1164': 2, '1165': 1, '1166': 2, '1167': 1, '1168': 1, '1169': 2, '1170': 0, '1171': 2, '1172': 2, '1173': 1, '1174': 2, '1175': 1, '1176': 0, '1177': 2, '1178': 1, '1179': 2, '1180': 2, '1181': 0, '1182': 2, '1183': 2, '1184': 1, '1185': 2, '1186': 2, '1187': 1, '1188': 0, '1189': 1, '1190': 1, '1191': 1, '1192': 1, '1193': 1, '1194': 2, '1195': 2, '1196': 1, '1197': 2, '1198': 2, '1199': 0, '1200': 2, '1201': 1, '1202': 2, '1203': 2, '1204': 1, '1205': 2, '1206': 1, '1207': 1, '1208': 1, '1209': 2, '1210': 2, '1211': 2, '1212': 2, '1213': 1, '1214': 1, '1215': 2, '1216': 1, '1217': 1, '1218': 1, '1219': 2, '1220': 1, '1221': 1, '1222': 1, '1223': 2, '1224': 1, '1225': 2, '1226': 2, '1227': 1, '1228': 2, '1229': 2, '1230': 2, '1231': 2, '1232': 2, '1233': 1, '1234': 2, '1235': 2, '1236': 1, '1237': 1, '1238': 2, '1239': 2, '1240': 1, '1241': 1, '1242': 1, '1243': 1, '1244': 1, '1245': 1, '1246': 0, '1247': 2, '1248': 1, '1249': 1, '1250': 2, '1251': 1, '1252': 2, '1253': 2, '1254': 1, '1255': 1, '1256': 1, '1257': 1, '1258': 2, '1259': 2, '1260': 0, '1261': 1, '1262': 2, '1263': 2, '1264': 2, '1265': 2, '1266': 1, '1267': 2, '1268': 2, '1269': 2, '1270': 1, '1271': 1, '1272': 2, '1273': 2, '1274': 2, '1275': 1, '1276': 2, '1277': 1, '1278': 2, '1279': 1, '1280': 2, '1281': 1, '1282': 2, '1283': 2, '1284': 2, '1285': 1, '1286': 2, '1287': 1, '1288': 1, '1289': 2, '1290': 1, '1291': 1, '1292': 0, '1293': 1, '1294': 1, '1295': 1, '1296': 1, '1297': 1, '1298': 1, '1299': 2, '1300': 2, '1301': 2, '1302': 1, '1303': 2, '1304': 2, '1305': 2, '1306': 2, '1307': 1, '1308': 2, '1309': 2, '1310': 1, '1311': 1, '1312': 1, '1313': 1, '1314': 2, '1315': 2, '1316': 2, '1317': 0, '1318': 2, '1319': 1, '1320': 1, '1321': 2, '1322': 1, '1323': 2, '1324': 1, '1325': 2, '1326': 1, '1327': 0, '1328': 2, '1329': 1, '1330': 2, '1331': 2, '1332': 2, '1333': 1, '1334': 0, '1335': 1, '1336': 1, '1337': 1, '1338': 2, '1339': 2, '1340': 1, '1341': 1, '1342': 2, '1343': 1, '1344': 2, '1345': 1, '1346': 2, '1347': 2, '1348': 1, '1349': 1, '1350': 1, '1351': 0, '1352': 2, '1353': 1, '1354': 2, '1355': 2, '1356': 1, '1357': 2, '1358': 2, '1359': 2, '1360': 1, '1361': 2, '1362': 1, '1363': 1, '1364': 1, '1365': 0, '1366': 1, '1367': 0, '1368': 2, '1369': 1, '1370': 2, '1371': 1, '1372': 2, '1373': 2, '1374': 1, '1375': 1, '1376': 2, '1377': 2, '1378': 1, '1379': 1, '1380': 1, '1381': 2, '1382': 1, '1383': 1, '1384': 1, '1385': 2, '1386': 1, '1387': 2, '1388': 1, '1389': 1, '1390': 2, '1391': 1, '1392': 2, '1393': 2, '1394': 0, '1395': 1, '1396': 2, '1397': 2, '1398': 0, '1399': 2, '1400': 2, '1401': 1, '1402': 2, '1403': 1, '1404': 0, '1405': 2, '1406': 2, '1407': 0, '1408': 1, '1409': 2, '1410': 1, '1411': 0, '1412': 2, '1413': 2, '1414': 1, '1415': 1, '1416': 1, '1417': 2, '1418': 0, '1419': 1, '1420': 2, '1421': 2, '1422': 1, '1423': 1, '1424': 2, '1425': 2, '1426': 0, '1427': 2, '1428': 1, '1429': 1, '1430': 1, '1431': 1, '1432': 1, '1433': 2, '1434': 2, '1435': 1, '1436': 0, '1437': 1, '1438': 2, '1439': 2, '1440': 1, '1441': 1, '1442': 2, '1443': 0, '1444': 1, '1445': 2, '1446': 1, '1447': 2, '1448': 1, '1449': 1, '1450': 2, '1451': 1, '1452': 1, '1453': 1, '1454': 0, '1455': 2, '1456': 2, '1457': 2, '1458': 2, '1459': 0, '1460': 2, '1461': 1, '1462': 2, '1463': 0, '1464': 2, '1465': 2, '1466': 2, '1467': 1, '1468': 2, '1469': 1, '1470': 1, '1471': 2, '1472': 2, '1473': 1, '1474': 1, '1475': 2, '1476': 1, '1477': 2, '1478': 2, '1479': 2, '1480': 0, '1481': 1, '1482': 1, '1483': 2, '1484': 1, '1485': 1, '1486': 1, '1487': 1, '1488': 0, '1489': 1, '1490': 1, '1491': 2, '1492': 1, '1493': 1, '1494': 2, '1495': 2, '1496': 2, '1497': 2, '1498': 1, '1499': 1, '1500': 1, '1501': 0, '1502': 2, '1503': 2, '1504': 2, '1505': 2, '1506': 2, '1507': 1, '1508': 0, '1509': 2, '1510': 1, '1511': 1, '1512': 0, '1513': 1, '1514': 1, '1515': 1, '1516': 2, '1517': 2, '1518': 1, '1519': 1, '1520': 1, '1521': 2, '1522': 1, '1523': 1, '1524': 2, '1525': 1, '1526': 2, '1527': 2, '1528': 0, '1529': 0, '1530': 1, '1531': 1, '1532': 2, '1533': 1, '1534': 2, '1535': 2, '1536': 2, '1537': 2, '1538': 1, '1539': 1, '1540': 2, '1541': 2, '1542': 2, '1543': 2, '1544': 2, '1545': 2, '1546': 2, '1547': 2, '1548': 2, '1549': 2, '1550': 2, '1551': 1, '1552': 1, '1553': 0, '1554': 2, '1555': 1, '1556': 0, '1557': 2, '1558': 2, '1559': 0, '1560': 1, '1561': 1, '1562': 1, '1563': 1, '1564': 1, '1565': 1, '1566': 1, '1567': 2, '1568': 2, '1569': 2, '1570': 1, '1571': 2, '1572': 1, '1573': 1, '1574': 0, '1575': 1, '1576': 1, '1577': 2, '1578': 2, '1579': 2, '1580': 1, '1581': 1, '1582': 2, '1583': 2, '1584': 1, '1585': 2, '1586': 2, '1587': 2, '1588': 2, '1589': 1, '1590': 2, '1591': 2, '1592': 1, '1593': 1, '1594': 2, '1595': 0, '1596': 1, '1597': 1, '1598': 2, '1599': 1, '1600': 1, '1601': 2, '1602': 2, '1603': 2, '1604': 2, '1605': 2, '1606': 2, '1607': 2, '1608': 2, '1609': 2, '1610': 1, '1611': 2, '1612': 1, '1613': 2, '1614': 2, '1615': 2, '1616': 2, '1617': 1, '1618': 1, '1619': 1, '1620': 1, '1621': 2, '1622': 1, '1623': 2, '1624': 2, '1625': 2, '1626': 2, '1627': 2, '1628': 2, '1629': 2, '1630': 1, '1631': 2, '1632': 1, '1633': 1, '1634': 2, '1635': 1, '1636': 2, '1637': 2, '1638': 2, '1639': 1, '1640': 1, '1641': 1, '1642': 2, '1643': 2, '1644': 2, '1645': 2, '1646': 1, '1647': 2, '1648': 2, '1649': 1, '1650': 1, '1651': 1, '1652': 1, '1653': 1, '1654': 1, '1655': 2, '1656': 1, '1657': 1, '1658': 1, '1659': 2, '1660': 1, '1661': 1, '1662': 2, '1663': 2, '1664': 2, '1665': 2, '1666': 1, '1667': 2, '1668': 2, '1669': 2, '1670': 1, '1671': 1, '1672': 1, '1673': 2, '1674': 2, '1675': 1, '1676': 1, '1677': 2, '1678': 1, '1679': 2, '1680': 2, '1681': 2, '1682': 1, '1683': 1, '1684': 2, '1685': 2, '1686': 1, '1687': 1, '1688': 2, '1689': 2, '1690': 2, '1691': 0, '1692': 2, '1693': 1, '1694': 2, '1695': 2, '1696': 1, '1697': 1, '1698': 2, '1699': 2, '1700': 2, '1701': 1, '1702': 2, '1703': 1, '1704': 2, '1705': 0, '1706': 2, '1707': 2, '1708': 1, '1709': 1, '1710': 2, '1711': 1, '1712': 1, '1713': 2, '1714': 1, '1715': 1, '1716': 1, '1717': 2, '1718': 1, '1719': 1, '1720': 2, '1721': 1, '1722': 2, '1723': 0, '1724': 2, '1725': 1, '1726': 2, '1727': 2, '1728': 2, '1729': 2, '1730': 2, '1731': 1, '1732': 2, '1733': 2, '1734': 2, '1735': 1, '1736': 1, '1737': 2, '1738': 1, '1739': 2, '1740': 2, '1741': 2, '1742': 1, '1743': 2, '1744': 2, '1745': 1, '1746': 0, '1747': 2, '1748': 1, '1749': 2, '1750': 2, '1751': 1, '1752': 1, '1753': 1, '1754': 2, '1755': 1, '1756': 2, '1757': 2, '1758': 1, '1759': 2, '1760': 1, '1761': 2, '1762': 2, '1763': 2, '1764': 2, '1765': 1, '1766': 1, '1767': 1, '1768': 1, '1769': 1, '1770': 2, '1771': 1, '1772': 2, '1773': 1, '1774': 2, '1775': 0, '1776': 1, '1777': 1, '1778': 1, '1779': 2, '1780': 1, '1781': 0, '1782': 1, '1783': 2, '1784': 2, '1785': 2, '1786': 2, '1787': 1, '1788': 1, '1789': 0, '1790': 1, '1791': 1, '1792': 0, '1793': 2, '1794': 2, '1795': 2, '1796': 0, '1797': 1, '1798': 2, '1799': 2, '1800': 2, '1801': 1, '1802': 2, '1803': 1, '1804': 1, '1805': 2, '1806': 0, '1807': 1, '1808': 2, '1809': 1, '1810': 2, '1811': 1, '1812': 2, '1813': 2, '1814': 2, '1815': 1, '1816': 2, '1817': 2, '1818': 2, '1819': 1, '1820': 1, '1821': 2, '1822': 2, '1823': 1, '1824': 1, '1825': 1, '1826': 2, '1827': 2, '1828': 1, '1829': 2, '1830': 1, '1831': 2, '1832': 1, '1833': 2, '1834': 2, '1835': 1, '1836': 1, '1837': 1, '1838': 2, '1839': 1, '1840': 2, '1841': 2, '1842': 1, '1843': 2, '1844': 1, '1845': 2, '1846': 2, '1847': 2, '1848': 0, '1849': 2, '1850': 0, '1851': 2, '1852': 2, '1853': 2, '1854': 1, '1855': 0, '1856': 1, '1857': 2, '1858': 1, '1859': 2, '1860': 1, '1861': 2, '1862': 2, '1863': 0, '1864': 1, '1865': 1, '1866': 1, '1867': 2, '1868': 1, '1869': 1, '1870': 0, '1871': 0, '1872': 2, '1873': 1, '1874': 1, '1875': 1, '1876': 0, '1877': 1, '1878': 2, '1879': 2, '1880': 1, '1881': 2, '1882': 1, '1883': 2, '1884': 1, '1885': 1, '1886': 1, '1887': 1, '1888': 1, '1889': 1, '1890': 2, '1891': 2, '1892': 2, '1893': 0, '1894': 2, '1895': 1, '1896': 1, '1897': 1, '1898': 1, '1899': 1, '1900': 2, '1901': 1, '1902': 1, '1903': 1, '1904': 2, '1905': 1, '1906': 2, '1907': 2, '1908': 1, '1909': 1, '1910': 2, '1911': 2, '1912': 2, '1913': 2, '1914': 2, '1915': 1, '1916': 1, '1917': 2, '1918': 1, '1919': 1, '1920': 1, '1921': 1, '1922': 2, '1923': 2, '1924': 2, '1925': 2, '1926': 2, '1927': 2, '1928': 0, '1929': 1, '1930': 0, '1931': 2, '1932': 1, '1933': 2, '1934': 1, '1935': 1, '1936': 1, '1937': 0, '1938': 1, '1939': 1, '1940': 2, '1941': 1, '1942': 1, '1943': 1, '1944': 2, '1945': 1, '1946': 1, '1947': 1, '1948': 2, '1949': 2, '1950': 2, '1951': 2, '1952': 1, '1953': 1, '1954': 0, '1955': 1, '1956': 2, '1957': 1, '1958': 1, '1959': 1, '1960': 2, '1961': 1, '1962': 2, '1963': 1, '1964': 2, '1965': 2, '1966': 2, '1967': 2, '1968': 1, '1969': 1, '1970': 2, '1971': 1, '1972': 1, '1973': 1, '1974': 1, '1975': 2, '1976': 2, '1977': 2, '1978': 0, '1979': 2, '1980': 2, '1981': 0, '1982': 2, '1983': 0, '1984': 1, '1985': 0, '1986': 1, '1987': 2, '1988': 1, '1989': 2, '1990': 2, '1991': 1, '1992': 1, '1993': 2, '1994': 1, '1995': 1, '1996': 2, '1997': 1, '1998': 1, '1999': 2, '2000': 1, '2001': 2, '2002': 2, '2003': 2, '2004': 2, '2005': 1, '2006': 1, '2007': 2, '2008': 2, '2009': 2, '2010': 1, '2011': 0, '2012': 1, '2013': 1, '2014': 1, '2015': 2, '2016': 1, '2017': 2, '2018': 1, '2019': 1, '2020': 1, '2021': 2, '2022': 1, '2023': 1, '2024': 1, '2025': 1, '2026': 0, '2027': 2, '2028': 1, '2029': 1, '2030': 2, '2031': 2, '2032': 1, '2033': 1, '2034': 2, '2035': 2, '2036': 2, '2037': 2, '2038': 2, '2039': 1, '2040': 1, '2041': 2, '2042': 2, '2043': 2, '2044': 2, '2045': 1, '2046': 2, '2047': 2, '2048': 2, '2049': 1, '2050': 1, '2051': 1, '2052': 0, '2053': 2, '2054': 2, '2055': 1, '2056': 2, '2057': 1, '2058': 2, '2059': 1, '2060': 2, '2061': 1, '2062': 1, '2063': 2, '2064': 2, '2065': 2, '2066': 1, '2067': 1, '2068': 1, '2069': 0, '2070': 2, '2071': 1, '2072': 0, '2073': 1, '2074': 2, '2075': 2, '2076': 0, '2077': 1, '2078': 2, '2079': 2, '2080': 1, '2081': 2, '2082': 1, '2083': 2, '2084': 0, '2085': 1, '2086': 1, '2087': 0, '2088': 2, '2089': 2, '2090': 0, '2091': 0, '2092': 1, '2093': 1, '2094': 2, '2095': 2, '2096': 2, '2097': 2, '2098': 2, '2099': 1, '2100': 1, '2101': 1, '2102': 2, '2103': 2, '2104': 2, '2105': 2, '2106': 1, '2107': 1, '2108': 2, '2109': 0, '2110': 1, '2111': 2, '2112': 2, '2113': 0, '2114': 2, '2115': 1, '2116': 1, '2117': 0, '2118': 2, '2119': 0, '2120': 2, '2121': 2, '2122': 2, '2123': 1, '2124': 2, '2125': 1, '2126': 2, '2127': 2, '2128': 1, '2129': 2, '2130': 2, '2131': 2, '2132': 1, '2133': 2, '2134': 1, '2135': 2, '2136': 0, '2137': 1, '2138': 1, '2139': 1, '2140': 0, '2141': 2, '2142': 1, '2143': 1, '2144': 1, '2145': 2, '2146': 0, '2147': 2, '2148': 2, '2149': 0, '2150': 1, '2151': 1, '2152': 1, '2153': 1, '2154': 2, '2155': 1, '2156': 1, '2157': 1, '2158': 2, '2159': 1, '2160': 0, '2161': 1, '2162': 1, '2163': 2, '2164': 2, '2165': 1, '2166': 2, '2167': 1, '2168': 2, '2169': 2, '2170': 1, '2171': 1, '2172': 2, '2173': 2, '2174': 2, '2175': 2, '2176': 2, '2177': 2, '2178': 2, '2179': 1, '2180': 1, '2181': 1, '2182': 1, '2183': 1, '2184': 1, '2185': 2, '2186': 1, '2187': 2, '2188': 2, '2189': 1, '2190': 0, '2191': 2, '2192': 2, '2193': 1, '2194': 1, '2195': 0, '2196': 2, '2197': 2, '2198': 2, '2199': 2, '2200': 0, '2201': 2, '2202': 2, '2203': 2, '2204': 2, '2205': 2, '2206': 0, '2207': 2, '2208': 2, '2209': 2, '2210': 1, '2211': 2, '2212': 2, '2213': 1, '2214': 0, '2215': 1, '2216': 1, '2217': 0, '2218': 1, '2219': 2, '2220': 1, '2221': 1, '2222': 2, '2223': 1, '2224': 2, '2225': 1, '2226': 2, '2227': 1, '2228': 0, '2229': 2, '2230': 2, '2231': 1, '2232': 1, '2233': 0, '2234': 2, '2235': 1, '2236': 2, '2237': 1, '2238': 0, '2239': 1, '2240': 2, '2241': 0, '2242': 2, '2243': 1, '2244': 1, '2245': 0, '2246': 2, '2247': 2, '2248': 0, '2249': 2, '2250': 2, '2251': 1, '2252': 2, '2253': 1, '2254': 2, '2255': 1, '2256': 2, '2257': 2, '2258': 2, '2259': 1, '2260': 1, '2261': 1, '2262': 2, '2263': 2, '2264': 2, '2265': 2, '2266': 2, '2267': 0, '2268': 1, '2269': 0, '2270': 1, '2271': 1, '2272': 0, '2273': 2, '2274': 1, '2275': 0, '2276': 2, '2277': 1, '2278': 1, '2279': 2, '2280': 2, '2281': 2, '2282': 1, '2283': 1, '2284': 2, '2285': 1, '2286': 2, '2287': 2, '2288': 2, '2289': 1, '2290': 1, '2291': 2, '2292': 1, '2293': 2, '2294': 2, '2295': 2, '2296': 1, '2297': 0, '2298': 2, '2299': 2, '2300': 2, '2301': 2, '2302': 0, '2303': 2, '2304': 2, '2305': 1, '2306': 2, '2307': 1, '2308': 2, '2309': 2, '2310': 1, '2311': 1, '2312': 1, '2313': 1, '2314': 2, '2315': 1, '2316': 2, '2317': 2, '2318': 0, '2319': 1, '2320': 1, '2321': 1, '2322': 1, '2323': 1, '2324': 2, '2325': 1, '2326': 2, '2327': 1, '2328': 1, '2329': 1, '2330': 0, '2331': 2, '2332': 1, '2333': 1, '2334': 2, '2335': 1, '2336': 2, '2337': 2, '2338': 1, '2339': 1, '2340': 2, '2341': 1, '2342': 2, '2343': 1, '2344': 1, '2345': 2, '2346': 1, '2347': 2, '2348': 1, '2349': 2, '2350': 2, '2351': 2, '2352': 2, '2353': 1, '2354': 2, '2355': 2, '2356': 2, '2357': 1, '2358': 2, '2359': 2, '2360': 2, '2361': 2, '2362': 2, '2363': 1, '2364': 2, '2365': 2, '2366': 2, '2367': 1, '2368': 1, '2369': 2, '2370': 1, '2371': 2, '2372': 0, '2373': 1, '2374': 1, '2375': 2, '2376': 1, '2377': 2, '2378': 2, '2379': 1, '2380': 1, '2381': 2, '2382': 2, '2383': 2, '2384': 2, '2385': 2, '2386': 1, '2387': 1, '2388': 2, '2389': 2, '2390': 2, '2391': 2, '2392': 2, '2393': 1, '2394': 2, '2395': 2, '2396': 1, '2397': 1, '2398': 2, '2399': 1, '2400': 1, '2401': 1, '2402': 2, '2403': 2, '2404': 0, '2405': 2, '2406': 2, '2407': 1, '2408': 1, '2409': 2, '2410': 1, '2411': 1, '2412': 2, '2413': 0, '2414': 1, '2415': 2, '2416': 1, '2417': 2, '2418': 1, '2419': 2, '2420': 0, '2421': 0, '2422': 2, '2423': 1, '2424': 1, '2425': 1, '2426': 2, '2427': 2, '2428': 1, '2429': 1, '2430': 2, '2431': 2, '2432': 1, '2433': 1, '2434': 2, '2435': 2, '2436': 2, '2437': 1, '2438': 2, '2439': 2, '2440': 1, '2441': 2, '2442': 1, '2443': 1, '2444': 2, '2445': 2, '2446': 0, '2447': 1, '2448': 1, '2449': 1, '2450': 1, '2451': 1, '2452': 1, '2453': 0, '2454': 2, '2455': 2, '2456': 1, '2457': 1, '2458': 1, '2459': 2, '2460': 1, '2461': 1, '2462': 2, '2463': 2, '2464': 2, '2465': 2, '2466': 1, '2467': 2, '2468': 2, '2469': 1, '2470': 2, '2471': 0, '2472': 1, '2473': 1, '2474': 2, '2475': 2, '2476': 0, '2477': 0, '2478': 2, '2479': 2, '2480': 2, '2481': 2, '2482': 1, '2483': 2, '2484': 1, '2485': 2, '2486': 2, '2487': 2, '2488': 1, '2489': 2, '2490': 1, '2491': 2, '2492': 2, '2493': 2, '2494': 1, '2495': 0, '2496': 2, '2497': 2, '2498': 1, '2499': 2, '2500': 1, '2501': 2, '2502': 1, '2503': 1, '2504': 2, '2505': 2, '2506': 0, '2507': 1, '2508': 1, '2509': 1, '2510': 2, '2511': 2, '2512': 0, '2513': 2, '2514': 2, '2515': 1, '2516': 0, '2517': 2, '2518': 1, '2519': 1, '2520': 2, '2521': 0, '2522': 2, '2523': 1, '2524': 1, '2525': 0, '2526': 1, '2527': 1, '2528': 2, '2529': 2, '2530': 1, '2531': 2, '2532': 2, '2533': 1, '2534': 2, '2535': 1, '2536': 1, '2537': 1, '2538': 2, '2539': 1, '2540': 1, '2541': 2, '2542': 1, '2543': 2, '2544': 1, '2545': 2, '2546': 1, '2547': 2, '2548': 2, '2549': 1, '2550': 2, '2551': 2, '2552': 2, '2553': 2, '2554': 1, '2555': 1, '2556': 2, '2557': 1, '2558': 2, '2559': 1, '2560': 2, '2561': 2, '2562': 2, '2563': 2, '2564': 2, '2565': 2, '2566': 2, '2567': 1, '2568': 1, '2569': 2, '2570': 2, '2571': 2, '2572': 0, '2573': 1, '2574': 1, '2575': 1, '2576': 2, '2577': 1, '2578': 2, '2579': 0, '2580': 1, '2581': 2, '2582': 2, '2583': 1, '2584': 1, '2585': 1, '2586': 1, '2587': 1, '2588': 2, '2589': 1, '2590': 2, '2591': 1, '2592': 1, '2593': 1, '2594': 1, '2595': 1, '2596': 2, '2597': 2, '2598': 1, '2599': 2, '2600': 1, '2601': 1, '2602': 1, '2603': 2, '2604': 1, '2605': 1, '2606': 2, '2607': 1, '2608': 2, '2609': 1, '2610': 2, '2611': 2, '2612': 1, '2613': 0, '2614': 0, '2615': 1, '2616': 2, '2617': 1, '2618': 1, '2619': 2, '2620': 2, '2621': 1, '2622': 2, '2623': 1, '2624': 2, '2625': 2, '2626': 1, '2627': 2, '2628': 0, '2629': 2, '2630': 1, '2631': 1, '2632': 2, '2633': 2, '2634': 1, '2635': 1, '2636': 2, '2637': 1, '2638': 1, '2639': 1, '2640': 1, '2641': 2, '2642': 1, '2643': 2, '2644': 2, '2645': 2, '2646': 1, '2647': 2, '2648': 1, '2649': 2, '2650': 2, '2651': 2, '2652': 2, '2653': 2, '2654': 2, '2655': 2, '2656': 2, '2657': 2, '2658': 2, '2659': 2, '2660': 1, '2661': 1, '2662': 1, '2663': 2, '2664': 1, '2665': 2, '2666': 1, '2667': 0, '2668': 2, '2669': 1, '2670': 2, '2671': 1, '2672': 2, '2673': 0, '2674': 2, '2675': 0, '2676': 1, '2677': 1, '2678': 1, '2679': 1, '2680': 2, '2681': 1, '2682': 2, '2683': 2, '2684': 2, '2685': 1, '2686': 2, '2687': 1, '2688': 1, '2689': 0, '2690': 2, '2691': 2, '2692': 2, '2693': 1, '2694': 1, '2695': 0, '2696': 2, '2697': 1, '2698': 2, '2699': 2, '2700': 0, '2701': 2, '2702': 2, '2703': 1, '2704': 2, '2705': 1, '2706': 2, '2707': 2, '2708': 2, '2709': 2, '2710': 1, '2711': 1, '2712': 2, '2713': 2, '2714': 2, '2715': 1, '2716': 1, '2717': 2, '2718': 2, '2719': 1, '2720': 2, '2721': 2, '2722': 2, '2723': 1, '2724': 2, '2725': 2, '2726': 1, '2727': 1, '2728': 2, '2729': 1, '2730': 1, '2731': 2, '2732': 1, '2733': 1, '2734': 1, '2735': 2, '2736': 1, '2737': 2, '2738': 1, '2739': 2, '2740': 2, '2741': 1, '2742': 1, '2743': 0, '2744': 1, '2745': 0, '2746': 1, '2747': 1, '2748': 2, '2749': 0, '2750': 1, '2751': 2, '2752': 2, '2753': 2, '2754': 1, '2755': 2, '2756': 1, '2757': 1, '2758': 0, '2759': 1, '2760': 2, '2761': 1, '2762': 2, '2763': 1, '2764': 1, '2765': 1, '2766': 2, '2767': 1, '2768': 1, '2769': 1, '2770': 1, '2771': 1, '2772': 1, '2773': 1, '2774': 1, '2775': 1, '2776': 1, '2777': 2, '2778': 0, '2779': 1, '2780': 1, '2781': 1, '2782': 2, '2783': 1, '2784': 2, '2785': 0, '2786': 1, '2787': 1, '2788': 2, '2789': 1, '2790': 1, '2791': 2, '2792': 2, '2793': 2, '2794': 1, '2795': 2, '2796': 2, '2797': 2, '2798': 2, '2799': 1, '2800': 1, '2801': 1, '2802': 1, '2803': 1, '2804': 2, '2805': 2, '2806': 0, '2807': 2, '2808': 2, '2809': 2, '2810': 1, '2811': 2, '2812': 1, '2813': 2, '2814': 2, '2815': 2, '2816': 1, '2817': 1, '2818': 2, '2819': 2, '2820': 2, '2821': 1, '2822': 1, '2823': 2, '2824': 1, '2825': 1, '2826': 1, '2827': 2, '2828': 0, '2829': 1, '2830': 2, '2831': 0, '2832': 1, '2833': 2, '2834': 1, '2835': 1, '2836': 1, '2837': 1, '2838': 1, '2839': 1, '2840': 1, '2841': 2, '2842': 1, '2843': 1, '2844': 2, '2845': 2, '2846': 2, '2847': 2, '2848': 1, '2849': 1, '2850': 1, '2851': 0, '2852': 1, '2853': 1, '2854': 1, '2855': 2, '2856': 1, '2857': 1, '2858': 1, '2859': 0, '2860': 1, '2861': 1, '2862': 2, '2863': 2, '2864': 2, '2865': 2, '2866': 2, '2867': 0, '2868': 1, '2869': 1, '2870': 2, '2871': 2, '2872': 2, '2873': 2, '2874': 2, '2875': 2, '2876': 1, '2877': 1, '2878': 1, '2879': 1, '2880': 1, '2881': 1, '2882': 0, '2883': 1, '2884': 2, '2885': 2, '2886': 1, '2887': 2, '2888': 1, '2889': 1, '2890': 1, '2891': 2, '2892': 0, '2893': 1, '2894': 2, '2895': 1, '2896': 1, '2897': 2, '2898': 1, '2899': 1, '2900': 1, '2901': 1, '2902': 1, '2903': 2, '2904': 2, '2905': 1, '2906': 1, '2907': 2, '2908': 1, '2909': 2, '2910': 1, '2911': 2, '2912': 1, '2913': 2, '2914': 1, '2915': 2, '2916': 2, '2917': 2, '2918': 2, '2919': 2, '2920': 2, '2921': 0, '2922': 1, '2923': 1, '2924': 2, '2925': 2, '2926': 1, '2927': 2, '2928': 2, '2929': 1, '2930': 2, '2931': 2, '2932': 2, '2933': 2, '2934': 2, '2935': 1, '2936': 2, '2937': 1, '2938': 0, '2939': 2, '2940': 2, '2941': 1, '2942': 2, '2943': 2, '2944': 1, '2945': 1, '2946': 2, '2947': 1, '2948': 1, '2949': 0, '2950': 2, '2951': 2, '2952': 1, '2953': 2, '2954': 2, '2955': 2, '2956': 2, '2957': 2, '2958': 0, '2959': 2, '2960': 0, '2961': 2, '2962': 1, '2963': 1, '2964': 1, '2965': 2, '2966': 0, '2967': 2, '2968': 2, '2969': 2, '2970': 1, '2971': 1, '2972': 1, '2973': 1, '2974': 2, '2975': 1, '2976': 1, '2977': 2, '2978': 2, '2979': 2, '2980': 1, '2981': 2, '2982': 0, '2983': 2, '2984': 1, '2985': 2, '2986': 1, '2987': 2, '2988': 0, '2989': 1, '2990': 2, '2991': 2, '2992': 1, '2993': 1, '2994': 2, '2995': 1, '2996': 2, '2997': 2, '2998': 2, '2999': 1, '3000': 2, '3001': 2, '3002': 2, '3003': 1, '3004': 2, '3005': 2, '3006': 1, '3007': 1, '3008': 2, '3009': 1, '3010': 2, '3011': 2, '3012': 1, '3013': 1, '3014': 2, '3015': 2, '3016': 1, '3017': 1, '3018': 1, '3019': 2, '3020': 0, '3021': 1, '3022': 1, '3023': 1, '3024': 1, '3025': 2, '3026': 0, '3027': 2, '3028': 2, '3029': 1, '3030': 2, '3031': 1, '3032': 2, '3033': 1, '3034': 1, '3035': 1, '3036': 1, '3037': 1, '3038': 2, '3039': 2, '3040': 2, '3041': 1, '3042': 2, '3043': 2, '3044': 2, '3045': 1, '3046': 1, '3047': 1, '3048': 2, '3049': 2, '3050': 1, '3051': 1, '3052': 2, '3053': 2, '3054': 2, '3055': 1, '3056': 2, '3057': 1, '3058': 1, '3059': 1, '3060': 2, '3061': 1, '3062': 1, '3063': 1, '3064': 2, '3065': 1, '3066': 0, '3067': 1, '3068': 1, '3069': 1, '3070': 2, '3071': 2, '3072': 2, '3073': 2, '3074': 1, '3075': 1, '3076': 0, '3077': 2, '3078': 1, '3079': 2, '3080': 2, '3081': 0, '3082': 1, '3083': 2, '3084': 1, '3085': 1, '3086': 2, '3087': 2, '3088': 2, '3089': 0, '3090': 1, '3091': 2, '3092': 2, '3093': 1, '3094': 2, '3095': 1, '3096': 2, '3097': 1, '3098': 2, '3099': 2, '3100': 1, '3101': 2, '3102': 1, '3103': 2, '3104': 1, '3105': 2, '3106': 1, '3107': 2, '3108': 1, '3109': 2, '3110': 1, '3111': 1, '3112': 1, '3113': 1, '3114': 2, '3115': 0, '3116': 2, '3117': 1, '3118': 2, '3119': 1, '3120': 1, '3121': 2, '3122': 0, '3123': 1, '3124': 1, '3125': 1, '3126': 1, '3127': 2, '3128': 0, '3129': 1, '3130': 2, '3131': 1, '3132': 1, '3133': 1, '3134': 0, '3135': 1, '3136': 1, '3137': 2, '3138': 2, '3139': 1, '3140': 1, '3141': 1, '3142': 2, '3143': 1, '3144': 1, '3145': 1, '3146': 2, '3147': 2, '3148': 2, '3149': 2, '3150': 1, '3151': 2, '3152': 2, '3153': 2, '3154': 2, '3155': 1, '3156': 1, '3157': 1, '3158': 1, '3159': 1, '3160': 1, '3161': 1, '3162': 2, '3163': 1, '3164': 2, '3165': 0, '3166': 1, '3167': 1, '3168': 2, '3169': 2, '3170': 1, '3171': 2, '3172': 1, '3173': 2, '3174': 2, '3175': 2, '3176': 0, '3177': 2, '3178': 0, '3179': 1, '3180': 2, '3181': 2, '3182': 2, '3183': 2, '3184': 2, '3185': 1, '3186': 2, '3187': 2, '3188': 2, '3189': 1, '3190': 1, '3191': 2, '3192': 1, '3193': 2, '3194': 2, '3195': 0, '3196': 1, '3197': 2, '3198': 1, '3199': 2, '3200': 1, '3201': 2, '3202': 1, '3203': 2, '3204': 1, '3205': 2, '3206': 2, '3207': 1, '3208': 1, '3209': 2, '3210': 2, '3211': 2, '3212': 2, '3213': 2, '3214': 2, '3215': 2, '3216': 2, '3217': 2, '3218': 1, '3219': 2, '3220': 1, '3221': 2, '3222': 1, '3223': 2, '3224': 2, '3225': 2, '3226': 2, '3227': 0, '3228': 1, '3229': 2, '3230': 2, '3231': 2, '3232': 1, '3233': 1, '3234': 2, '3235': 2, '3236': 2, '3237': 2, '3238': 2, '3239': 2, '3240': 1, '3241': 2, '3242': 1, '3243': 1, '3244': 2, '3245': 1, '3246': 1, '3247': 2, '3248': 2, '3249': 2, '3250': 1, '3251': 2, '3252': 2, '3253': 1, '3254': 2, '3255': 2, '3256': 0, '3257': 2, '3258': 2, '3259': 2, '3260': 1, '3261': 2, '3262': 1, '3263': 0, '3264': 1, '3265': 1, '3266': 2, '3267': 2, '3268': 1, '3269': 1, '3270': 2, '3271': 2, '3272': 2, '3273': 2, '3274': 2, '3275': 2, '3276': 2, '3277': 2, '3278': 2, '3279': 1, '3280': 2, '3281': 1, '3282': 1, '3283': 2, '3284': 1, '3285': 2, '3286': 1, '3287': 1, '3288': 2, '3289': 1, '3290': 0, '3291': 2, '3292': 1, '3293': 2, '3294': 1, '3295': 1, '3296': 1, '3297': 2, '3298': 2, '3299': 2, '3300': 1, '3301': 2, '3302': 2, '3303': 0, '3304': 1, '3305': 1, '3306': 1, '3307': 2, '3308': 2, '3309': 1, '3310': 1, '3311': 1, '3312': 2, '3313': 2, '3314': 1, '3315': 1, '3316': 1, '3317': 1, '3318': 2, '3319': 1, '3320': 1, '3321': 2, '3322': 1, '3323': 2, '3324': 0, '3325': 2, '3326': 0, '3327': 2, '3328': 1, '3329': 2, '3330': 1, '3331': 1, '3332': 2, '3333': 1, '3334': 2, '3335': 2, '3336': 0, '3337': 1, '3338': 1, '3339': 0, '3340': 1, '3341': 2, '3342': 2, '3343': 2, '3344': 1, '3345': 2, '3346': 2, '3347': 1, '3348': 1, '3349': 1, '3350': 1, '3351': 1, '3352': 2, '3353': 1, '3354': 2, '3355': 2, '3356': 1, '3357': 2, '3358': 2, '3359': 1, '3360': 2, '3361': 2, '3362': 2, '3363': 1, '3364': 2, '3365': 0, '3366': 2, '3367': 1, '3368': 2, '3369': 0, '3370': 2, '3371': 1, '3372': 1, '3373': 2, '3374': 2, '3375': 2, '3376': 2, '3377': 2, '3378': 2, '3379': 2, '3380': 0, '3381': 1, '3382': 2, '3383': 2, '3384': 1, '3385': 1, '3386': 1, '3387': 1, '3388': 2, '3389': 2, '3390': 2, '3391': 2, '3392': 2, '3393': 1, '3394': 2, '3395': 2, '3396': 2, '3397': 1, '3398': 2, '3399': 2, '3400': 1, '3401': 0, '3402': 1, '3403': 1, '3404': 1, '3405': 1, '3406': 2, '3407': 1, '3408': 2, '3409': 2, '3410': 2, '3411': 1, '3412': 0, '3413': 2, '3414': 1, '3415': 1, '3416': 2, '3417': 2, '3418': 2, '3419': 1, '3420': 2, '3421': 1, '3422': 2, '3423': 2, '3424': 2, '3425': 2, '3426': 1, '3427': 1, '3428': 1, '3429': 1, '3430': 2, '3431': 1, '3432': 1, '3433': 2, '3434': 1, '3435': 1, '3436': 2, '3437': 2, '3438': 1, '3439': 2, '3440': 2, '3441': 2, '3442': 1, '3443': 2, '3444': 2, '3445': 1, '3446': 1, '3447': 2, '3448': 2, '3449': 1, '3450': 2, '3451': 0, '3452': 1, '3453': 2, '3454': 2, '3455': 2, '3456': 2, '3457': 2, '3458': 2, '3459': 1, '3460': 0, '3461': 1, '3462': 1, '3463': 2, '3464': 0, '3465': 2, '3466': 1, '3467': 1, '3468': 2, '3469': 0, '3470': 2, '3471': 1, '3472': 1, '3473': 2, '3474': 2, '3475': 2, '3476': 2, '3477': 2, '3478': 2, '3479': 1, '3480': 1, '3481': 1, '3482': 1, '3483': 2, '3484': 2, '3485': 2, '3486': 2, '3487': 1, '3488': 2, '3489': 0, '3490': 2, '3491': 2, '3492': 1, '3493': 1, '3494': 1, '3495': 2, '3496': 2, '3497': 1, '3498': 2, '3499': 2, '3500': 2, '3501': 2, '3502': 0, '3503': 1, '3504': 2, '3505': 2, '3506': 1, '3507': 2, '3508': 1, '3509': 1, '3510': 1, '3511': 0, '3512': 2, '3513': 2, '3514': 1, '3515': 1, '3516': 1, '3517': 1, '3518': 2, '3519': 1, '3520': 0, '3521': 1, '3522': 2, '3523': 2, '3524': 1, '3525': 2, '3526': 2, '3527': 2, '3528': 1, '3529': 1, '3530': 1, '3531': 2, '3532': 1, '3533': 1, '3534': 1, '3535': 1, '3536': 2, '3537': 1, '3538': 2, '3539': 2, '3540': 1, '3541': 2, '3542': 2, '3543': 2, '3544': 0, '3545': 1, '3546': 0, '3547': 2, '3548': 2, '3549': 0, '3550': 1, '3551': 1, '3552': 2, '3553': 1, '3554': 1, '3555': 2, '3556': 2, '3557': 1, '3558': 2, '3559': 0, '3560': 2, '3561': 2, '3562': 1, '3563': 0, '3564': 1, '3565': 1, '3566': 2, '3567': 0, '3568': 1, '3569': 0, '3570': 1, '3571': 1, '3572': 2, '3573': 1, '3574': 1, '3575': 2, '3576': 1, '3577': 1, '3578': 2, '3579': 1, '3580': 2, '3581': 2, '3582': 0, '3583': 2, '3584': 1, '3585': 2, '3586': 2, '3587': 2, '3588': 2, '3589': 1, '3590': 2, '3591': 1, '3592': 1, '3593': 1, '3594': 2, '3595': 2, '3596': 1, '3597': 2, '3598': 2, '3599': 2, '3600': 0, '3601': 1, '3602': 1, '3603': 2, '3604': 1, '3605': 1, '3606': 1, '3607': 1, '3608': 2, '3609': 1, '3610': 1, '3611': 0, '3612': 2, '3613': 1, '3614': 1, '3615': 1, '3616': 2, '3617': 1, '3618': 1, '3619': 1, '3620': 2, '3621': 1, '3622': 2, '3623': 2, '3624': 2, '3625': 1, '3626': 1, '3627': 1, '3628': 1, '3629': 1, '3630': 2, '3631': 1, '3632': 2, '3633': 2, '3634': 1, '3635': 1, '3636': 1, '3637': 2, '3638': 1, '3639': 2, '3640': 1, '3641': 2, '3642': 1, '3643': 2, '3644': 0, '3645': 2, '3646': 2, '3647': 1, '3648': 0, '3649': 1, '3650': 2, '3651': 2, '3652': 1, '3653': 2, '3654': 2, '3655': 2, '3656': 1, '3657': 2, '3658': 1, '3659': 2, '3660': 2, '3661': 1, '3662': 2, '3663': 1, '3664': 1, '3665': 1, '3666': 1, '3667': 2, '3668': 2, '3669': 2, '3670': 2, '3671': 2, '3672': 2, '3673': 2, '3674': 2, '3675': 2, '3676': 2, '3677': 1, '3678': 1, '3679': 1, '3680': 1, '3681': 1, '3682': 2, '3683': 2, '3684': 1, '3685': 2, '3686': 1, '3687': 2, '3688': 2, '3689': 1, '3690': 1, '3691': 1, '3692': 2, '3693': 1, '3694': 0, '3695': 1, '3696': 1, '3697': 1, '3698': 2, '3699': 2, '3700': 2, '3701': 2, '3702': 1, '3703': 0, '3704': 2, '3705': 2, '3706': 1, '3707': 1, '3708': 0, '3709': 1, '3710': 2, '3711': 1, '3712': 2, '3713': 2, '3714': 2, '3715': 1, '3716': 1, '3717': 1, '3718': 1, '3719': 0, '3720': 1, '3721': 2, '3722': 2, '3723': 2, '3724': 1, '3725': 1, '3726': 1, '3727': 1, '3728': 2, '3729': 2, '3730': 1, '3731': 1, '3732': 1, '3733': 1, '3734': 2, '3735': 1, '3736': 1, '3737': 1, '3738': 2, '3739': 2, '3740': 1, '3741': 2, '3742': 1, '3743': 1, '3744': 2, '3745': 2, '3746': 1, '3747': 2, '3748': 1, '3749': 2, '3750': 2, '3751': 2, '3752': 2, '3753': 2, '3754': 2, '3755': 2, '3756': 2, '3757': 2, '3758': 1, '3759': 2, '3760': 0, '3761': 1, '3762': 1, '3763': 1, '3764': 2, '3765': 2, '3766': 2, '3767': 0, '3768': 1, '3769': 2, '3770': 2, '3771': 2, '3772': 1, '3773': 0, '3774': 2, '3775': 0, '3776': 0, '3777': 2, '3778': 1, '3779': 0, '3780': 2, '3781': 1, '3782': 0, '3783': 1, '3784': 2, '3785': 2, '3786': 0, '3787': 1, '3788': 0, '3789': 0, '3790': 1, '3791': 1, '3792': 2, '3793': 2, '3794': 1, '3795': 2, '3796': 0, '3797': 2, '3798': 1, '3799': 1, '3800': 2, '3801': 2, '3802': 2, '3803': 0, '3804': 1, '3805': 2, '3806': 1, '3807': 1, '3808': 1, '3809': 2, '3810': 0, '3811': 2, '3812': 1, '3813': 2, '3814': 1, '3815': 1, '3816': 2, '3817': 2, '3818': 1, '3819': 2, '3820': 1, '3821': 2, '3822': 2, '3823': 2, '3824': 2, '3825': 1, '3826': 2, '3827': 1, '3828': 2, '3829': 1, '3830': 2, '3831': 1, '3832': 2, '3833': 0, '3834': 2, '3835': 2, '3836': 2, '3837': 2, '3838': 2, '3839': 2, '3840': 1, '3841': 2, '3842': 1, '3843': 2, '3844': 1, '3845': 1, '3846': 1, '3847': 1, '3848': 2, '3849': 2, '3850': 2, '3851': 1, '3852': 1, '3853': 2, '3854': 2, '3855': 1, '3856': 2, '3857': 1, '3858': 2, '3859': 2, '3860': 2, '3861': 1, '3862': 2, '3863': 2, '3864': 1, '3865': 1, '3866': 1, '3867': 2, '3868': 2, '3869': 1, '3870': 2, '3871': 2, '3872': 0, '3873': 2, '3874': 0, '3875': 1, '3876': 2, '3877': 2, '3878': 2, '3879': 1, '3880': 1, '3881': 1, '3882': 1, '3883': 2, '3884': 2, '3885': 1, '3886': 1, '3887': 1, '3888': 0, '3889': 1, '3890': 1, '3891': 2, '3892': 0, '3893': 2, '3894': 1, '3895': 1, '3896': 1, '3897': 1, '3898': 1, '3899': 1, '3900': 2, '3901': 2, '3902': 2, '3903': 2, '3904': 1, '3905': 1, '3906': 2, '3907': 2, '3908': 2, '3909': 1, '3910': 2, '3911': 2, '3912': 2, '3913': 2, '3914': 1, '3915': 2, '3916': 2, '3917': 1, '3918': 1, '3919': 2, '3920': 2, '3921': 2, '3922': 0, '3923': 1, '3924': 1, '3925': 1, '3926': 2, '3927': 0, '3928': 0, '3929': 2, '3930': 1, '3931': 1, '3932': 2, '3933': 1, '3934': 1, '3935': 2, '3936': 2, '3937': 2, '3938': 2, '3939': 1, '3940': 2, '3941': 1, '3942': 1, '3943': 1, '3944': 1, '3945': 1, '3946': 2, '3947': 1, '3948': 2, '3949': 2, '3950': 2, '3951': 2, '3952': 2, '3953': 1, '3954': 2, '3955': 1, '3956': 1, '3957': 1, '3958': 0, '3959': 1, '3960': 1, '3961': 0, '3962': 2, '3963': 1, '3964': 2, '3965': 1, '3966': 2, '3967': 0, '3968': 1, '3969': 1, '3970': 1, '3971': 1, '3972': 1, '3973': 1, '3974': 0, '3975': 0, '3976': 2, '3977': 2, '3978': 1, '3979': 2, '3980': 2, '3981': 1, '3982': 0, '3983': 1, '3984': 2, '3985': 1, '3986': 1, '3987': 2, '3988': 1, '3989': 1, '3990': 0, '3991': 2, '3992': 1, '3993': 1, '3994': 1, '3995': 2, '3996': 1, '3997': 1, '3998': 1, '3999': 2, '4000': 1, '4001': 2, '4002': 1, '4003': 2, '4004': 2, '4005': 2, '4006': 0, '4007': 2, '4008': 2, '4009': 1, '4010': 0, '4011': 2, '4012': 1, '4013': 2, '4014': 1, '4015': 1, '4016': 2, '4017': 1, '4018': 1, '4019': 2, '4020': 1, '4021': 1, '4022': 1, '4023': 2, '4024': 2, '4025': 0, '4026': 1, '4027': 2, '4028': 2, '4029': 2, '4030': 2, '4031': 1, '4032': 2, '4033': 0, '4034': 2, '4035': 2, '4036': 0, '4037': 1, '4038': 1, '4039': 2, '4040': 2, '4041': 1, '4042': 2, '4043': 1, '4044': 1, '4045': 2, '4046': 1, '4047': 2, '4048': 2, '4049': 2, '4050': 1, '4051': 2, '4052': 1, '4053': 1, '4054': 1, '4055': 1, '4056': 1, '4057': 1, '4058': 1, '4059': 2, '4060': 2, '4061': 2, '4062': 1, '4063': 2, '4064': 2, '4065': 2, '4066': 1, '4067': 2, '4068': 2, '4069': 0, '4070': 1, '4071': 2, '4072': 0, '4073': 2, '4074': 2, '4075': 1, '4076': 2, '4077': 2, '4078': 2, '4079': 1, '4080': 2, '4081': 2, '4082': 1, '4083': 2, '4084': 2, '4085': 2, '4086': 1, '4087': 2, '4088': 2, '4089': 2, '4090': 2, '4091': 2, '4092': 2, '4093': 1, '4094': 1, '4095': 2, '4096': 1, '4097': 2, '4098': 2, '4099': 1, '4100': 1, '4101': 2, '4102': 2, '4103': 0, '4104': 1, '4105': 1, '4106': 1, '4107': 1, '4108': 2, '4109': 1, '4110': 2, '4111': 1, '4112': 2, '4113': 2, '4114': 0, '4115': 2, '4116': 2, '4117': 2, '4118': 2, '4119': 2, '4120': 1, '4121': 2, '4122': 2, '4123': 1, '4124': 2, '4125': 2, '4126': 2, '4127': 2, '4128': 2, '4129': 2, '4130': 2, '4131': 2, '4132': 2, '4133': 2, '4134': 1, '4135': 2, '4136': 1, '4137': 2, '4138': 2, '4139': 2, '4140': 1, '4141': 1, '4142': 1, '4143': 0, '4144': 1, '4145': 1, '4146': 0, '4147': 0, '4148': 0, '4149': 0, '4150': 2, '4151': 1, '4152': 1, '4153': 2, '4154': 1, '4155': 2, '4156': 1, '4157': 1, '4158': 2, '4159': 1, '4160': 1, '4161': 1, '4162': 2, '4163': 0, '4164': 1, '4165': 2, '4166': 2, '4167': 1, '4168': 1, '4169': 1, '4170': 1, '4171': 2, '4172': 1, '4173': 1, '4174': 1, '4175': 1, '4176': 2, '4177': 1, '4178': 2, '4179': 1, '4180': 1, '4181': 0, '4182': 2, '4183': 0, '4184': 1, '4185': 1, '4186': 2, '4187': 2, '4188': 1, '4189': 1, '4190': 1, '4191': 2, '4192': 1, '4193': 2, '4194': 0, '4195': 1, '4196': 1, '4197': 1, '4198': 2, '4199': 2, '4200': 2, '4201': 1, '4202': 1, '4203': 1, '4204': 2, '4205': 0, '4206': 2, '4207': 1, '4208': 1, '4209': 2, '4210': 0, '4211': 1, '4212': 1, '4213': 0, '4214': 1, '4215': 1, '4216': 1, '4217': 1, '4218': 2, '4219': 2, '4220': 2, '4221': 2, '4222': 1, '4223': 2, '4224': 1, '4225': 2, '4226': 1, '4227': 0, '4228': 2, '4229': 2, '4230': 0, '4231': 2, '4232': 1, '4233': 1, '4234': 2, '4235': 2, '4236': 2, '4237': 1, '4238': 0, '4239': 1, '4240': 1, '4241': 2, '4242': 1, '4243': 2, '4244': 1, '4245': 2, '4246': 1, '4247': 1, '4248': 0, '4249': 1, '4250': 1, '4251': 2, '4252': 1, '4253': 1, '4254': 2, '4255': 2, '4256': 1, '4257': 2, '4258': 1, '4259': 2, '4260': 2, '4261': 1, '4262': 1, '4263': 2, '4264': 2, '4265': 2, '4266': 1, '4267': 1, '4268': 1, '4269': 1, '4270': 0, '4271': 1, '4272': 2, '4273': 1, '4274': 1, '4275': 2, '4276': 2, '4277': 2, '4278': 1, '4279': 2, '4280': 1, '4281': 1, '4282': 0, '4283': 2, '4284': 2, '4285': 2, '4286': 1, '4287': 1, '4288': 2, '4289': 1, '4290': 2, '4291': 2, '4292': 1, '4293': 1, '4294': 2, '4295': 1, '4296': 2, '4297': 0, '4298': 2, '4299': 0, '4300': 1, '4301': 2, '4302': 2, '4303': 2, '4304': 1, '4305': 1, '4306': 2, '4307': 1, '4308': 2, '4309': 1, '4310': 2, '4311': 1, '4312': 2, '4313': 2, '4314': 0, '4315': 1, '4316': 2, '4317': 0, '4318': 2, '4319': 1, '4320': 2, '4321': 2, '4322': 2, '4323': 2, '4324': 2, '4325': 2, '4326': 1, '4327': 1, '4328': 2, '4329': 1, '4330': 1, '4331': 1, '4332': 1, '4333': 1, '4334': 2, '4335': 2, '4336': 2, '4337': 2, '4338': 1, '4339': 1, '4340': 1, '4341': 2, '4342': 2, '4343': 2, '4344': 0, '4345': 2, '4346': 1, '4347': 2, '4348': 1, '4349': 2, '4350': 1, '4351': 1, '4352': 2, '4353': 0, '4354': 2, '4355': 2, '4356': 2, '4357': 2, '4358': 1, '4359': 1, '4360': 0, '4361': 1, '4362': 1, '4363': 1, '4364': 1, '4365': 2, '4366': 2, '4367': 1, '4368': 2, '4369': 1, '4370': 1, '4371': 1, '4372': 0, '4373': 1, '4374': 2, '4375': 1, '4376': 2, '4377': 2, '4378': 2, '4379': 0, '4380': 1, '4381': 2, '4382': 2, '4383': 2, '4384': 2, '4385': 2, '4386': 1, '4387': 1, '4388': 2, '4389': 2, '4390': 2, '4391': 1, '4392': 1, '4393': 1, '4394': 0, '4395': 2, '4396': 1, '4397': 1, '4398': 1, '4399': 0, '4400': 1, '4401': 2, '4402': 2, '4403': 2, '4404': 1, '4405': 2, '4406': 2, '4407': 1, '4408': 1, '4409': 2, '4410': 0, '4411': 2, '4412': 1, '4413': 2, '4414': 2, '4415': 2, '4416': 1, '4417': 1, '4418': 1, '4419': 1, '4420': 1, '4421': 1, '4422': 2, '4423': 1, '4424': 2, '4425': 2, '4426': 1, '4427': 2, '4428': 2, '4429': 2, '4430': 1, '4431': 2, '4432': 1, '4433': 2, '4434': 2, '4435': 2, '4436': 2, '4437': 2, '4438': 1, '4439': 2, '4440': 1, '4441': 2, '4442': 2, '4443': 1, '4444': 2, '4445': 2, '4446': 0, '4447': 1, '4448': 2, '4449': 2, '4450': 2, '4451': 2, '4452': 0, '4453': 2, '4454': 2, '4455': 1, '4456': 2, '4457': 1, '4458': 1, '4459': 1, '4460': 2, '4461': 1, '4462': 2, '4463': 1, '4464': 1, '4465': 2, '4466': 1, '4467': 2, '4468': 1, '4469': 1, '4470': 2, '4471': 1, '4472': 2, '4473': 1, '4474': 1, '4475': 1, '4476': 1, '4477': 2, '4478': 2, '4479': 2, '4480': 2, '4481': 1, '4482': 1, '4483': 2, '4484': 1, '4485': 1, '4486': 2, '4487': 2, '4488': 2, '4489': 2, '4490': 2, '4491': 1, '4492': 2, '4493': 0, '4494': 2, '4495': 2, '4496': 1, '4497': 1, '4498': 2, '4499': 1, '4500': 2, '4501': 1, '4502': 1, '4503': 2, '4504': 2, '4505': 2, '4506': 2, '4507': 2, '4508': 2, '4509': 0, '4510': 1, '4511': 1, '4512': 1, '4513': 0, '4514': 1, '4515': 2, '4516': 2, '4517': 1, '4518': 2, '4519': 2, '4520': 1, '4521': 2, '4522': 1, '4523': 2, '4524': 1, '4525': 1, '4526': 1, '4527': 1, '4528': 1, '4529': 1, '4530': 1, '4531': 2, '4532': 1, '4533': 1, '4534': 2, '4535': 2, '4536': 2, '4537': 2, '4538': 2, '4539': 0, '4540': 1, '4541': 2, '4542': 1, '4543': 1, '4544': 2, '4545': 2, '4546': 2, '4547': 2, '4548': 2, '4549': 2, '4550': 2, '4551': 2, '4552': 2, '4553': 1, '4554': 2, '4555': 1, '4556': 1, '4557': 1, '4558': 2, '4559': 1, '4560': 2, '4561': 1, '4562': 2, '4563': 1, '4564': 2, '4565': 1, '4566': 2, '4567': 1, '4568': 1, '4569': 2, '4570': 2, '4571': 2, '4572': 1, '4573': 2, '4574': 1, '4575': 2, '4576': 2, '4577': 1, '4578': 2, '4579': 0, '4580': 2, '4581': 1, '4582': 2, '4583': 1, '4584': 1, '4585': 1, '4586': 2, '4587': 1, '4588': 1, '4589': 0, '4590': 2, '4591': 2, '4592': 1, '4593': 2, '4594': 1, '4595': 1, '4596': 2, '4597': 2, '4598': 2, '4599': 2, '4600': 1, '4601': 1, '4602': 2, '4603': 2, '4604': 0, '4605': 1, '4606': 1, '4607': 1, '4608': 2, '4609': 2, '4610': 2, '4611': 1, '4612': 2, '4613': 2, '4614': 1, '4615': 2, '4616': 1, '4617': 1, '4618': 1, '4619': 1, '4620': 1, '4621': 2, '4622': 2, '4623': 1, '4624': 1, '4625': 1, '4626': 1, '4627': 1, '4628': 2, '4629': 1, '4630': 2, '4631': 0, '4632': 2, '4633': 0, '4634': 1, '4635': 2, '4636': 1, '4637': 2, '4638': 2, '4639': 2, '4640': 2, '4641': 1, '4642': 2, '4643': 1, '4644': 1, '4645': 1, '4646': 1, '4647': 2, '4648': 1, '4649': 2, '4650': 2, '4651': 1, '4652': 1, '4653': 2, '4654': 2, '4655': 2, '4656': 1, '4657': 1, '4658': 1, '4659': 2, '4660': 2, '4661': 2, '4662': 2, '4663': 2, '4664': 2, '4665': 0, '4666': 2, '4667': 2, '4668': 1, '4669': 1, '4670': 2, '4671': 2, '4672': 1, '4673': 2, '4674': 2, '4675': 1, '4676': 1, '4677': 1, '4678': 2, '4679': 0, '4680': 1, '4681': 1, '4682': 2, '4683': 2, '4684': 2, '4685': 1, '4686': 0, '4687': 2, '4688': 2, '4689': 1, '4690': 1, '4691': 2, '4692': 1, '4693': 2, '4694': 2, '4695': 2, '4696': 1, '4697': 2, '4698': 0, '4699': 1, '4700': 2, '4701': 1, '4702': 2, '4703': 2, '4704': 1, '4705': 2, '4706': 1, '4707': 2, '4708': 2, '4709': 1, '4710': 2, '4711': 2, '4712': 0, '4713': 2, '4714': 1, '4715': 2, '4716': 2, '4717': 1, '4718': 1, '4719': 1, '4720': 1, '4721': 1, '4722': 2, '4723': 2, '4724': 2, '4725': 2, '4726': 1, '4727': 1, '4728': 2, '4729': 1, '4730': 2, '4731': 1, '4732': 2, '4733': 1, '4734': 2, '4735': 1, '4736': 2, '4737': 1, '4738': 2, '4739': 2, '4740': 1, '4741': 1, '4742': 2, '4743': 2, '4744': 1, '4745': 0, '4746': 2, '4747': 2, '4748': 1, '4749': 2, '4750': 2, '4751': 2, '4752': 1, '4753': 2, '4754': 2, '4755': 2, '4756': 1, '4757': 2, '4758': 2, '4759': 2, '4760': 2, '4761': 0, '4762': 1, '4763': 1, '4764': 2, '4765': 2, '4766': 1, '4767': 2, '4768': 1, '4769': 2, '4770': 1, '4771': 2, '4772': 1, '4773': 1, '4774': 2, '4775': 1, '4776': 2, '4777': 2, '4778': 2, '4779': 1, '4780': 2, '4781': 1, '4782': 2, '4783': 1, '4784': 2, '4785': 2, '4786': 0, '4787': 1, '4788': 1, '4789': 1, '4790': 2, '4791': 2, '4792': 2, '4793': 2, '4794': 1, '4795': 2, '4796': 1, '4797': 2, '4798': 1, '4799': 1, '4800': 0, '4801': 1, '4802': 1, '4803': 2, '4804': 1, '4805': 2, '4806': 2, '4807': 2, '4808': 2, '4809': 1, '4810': 0, '4811': 1, '4812': 2, '4813': 0, '4814': 0, '4815': 2, '4816': 1, '4817': 1, '4818': 2, '4819': 2, '4820': 2, '4821': 2, '4822': 2, '4823': 1, '4824': 1, '4825': 1, '4826': 1, '4827': 1, '4828': 2, '4829': 0, '4830': 1, '4831': 2, '4832': 1, '4833': 2, '4834': 1, '4835': 1, '4836': 1, '4837': 2, '4838': 2, '4839': 2, '4840': 1, '4841': 1, '4842': 2, '4843': 1, '4844': 1, '4845': 1, '4846': 1, '4847': 1, '4848': 1, '4849': 2, '4850': 1, '4851': 0, '4852': 1, '4853': 1, '4854': 2, '4855': 2, '4856': 2, '4857': 1, '4858': 1, '4859': 2, '4860': 2, '4861': 1, '4862': 2, '4863': 1, '4864': 2, '4865': 0, '4866': 1, '4867': 1, '4868': 2, '4869': 2, '4870': 2, '4871': 2, '4872': 1, '4873': 1, '4874': 1, '4875': 2, '4876': 2, '4877': 0, '4878': 2, '4879': 1, '4880': 0, '4881': 1, '4882': 1, '4883': 2, '4884': 1, '4885': 2, '4886': 1, '4887': 2, '4888': 0, '4889': 2, '4890': 2, '4891': 2, '4892': 2, '4893': 2, '4894': 1, '4895': 2, '4896': 0, '4897': 2, '4898': 2, '4899': 2, '4900': 1, '4901': 2, '4902': 2, '4903': 2, '4904': 2, '4905': 1, '4906': 2, '4907': 2, '4908': 2, '4909': 0, '4910': 1, '4911': 2, '4912': 0, '4913': 1, '4914': 2, '4915': 0, '4916': 2, '4917': 1, '4918': 1, '4919': 0, '4920': 2, '4921': 1, '4922': 2, '4923': 2, '4924': 1, '4925': 2, '4926': 2, '4927': 1, '4928': 2, '4929': 1, '4930': 1, '4931': 2, '4932': 0, '4933': 1, '4934': 1, '4935': 2, '4936': 2, '4937': 2, '4938': 2, '4939': 1, '4940': 2, '4941': 1, '4942': 2, '4943': 1, '4944': 1, '4945': 1, '4946': 2, '4947': 2, '4948': 2, '4949': 2, '4950': 1, '4951': 2, '4952': 1, '4953': 0, '4954': 0, '4955': 2, '4956': 2, '4957': 1, '4958': 1, '4959': 1, '4960': 2, '4961': 0, '4962': 2, '4963': 2, '4964': 2, '4965': 2, '4966': 2, '4967': 2, '4968': 0, '4969': 2, '4970': 1, '4971': 2, '4972': 1, '4973': 2, '4974': 2, '4975': 2, '4976': 2, '4977': 1, '4978': 2, '4979': 1, '4980': 1, '4981': 1, '4982': 2, '4983': 1, '4984': 2, '4985': 2, '4986': 1, '4987': 2, '4988': 1, '4989': 2, '4990': 0, '4991': 2, '4992': 2, '4993': 0, '4994': 2, '4995': 1, '4996': 0, '4997': 2, '4998': 1, '4999': 2, '5000': 2, '5001': 1, '5002': 0, '5003': 1, '5004': 1, '5005': 2, '5006': 1, '5007': 1, '5008': 1, '5009': 1, '5010': 0, '5011': 0, '5012': 1, '5013': 2, '5014': 2, '5015': 0, '5016': 2, '5017': 0, '5018': 1, '5019': 1, '5020': 2, '5021': 0, '5022': 2, '5023': 1, '5024': 1, '5025': 1, '5026': 1, '5027': 1, '5028': 1, '5029': 1, '5030': 2, '5031': 1, '5032': 2, '5033': 2, '5034': 1, '5035': 2, '5036': 0, '5037': 1, '5038': 1, '5039': 1, '5040': 1, '5041': 1, '5042': 2, '5043': 2, '5044': 1, '5045': 2, '5046': 0, '5047': 1, '5048': 1, '5049': 1, '5050': 1, '5051': 2, '5052': 1, '5053': 1, '5054': 2, '5055': 2, '5056': 1, '5057': 1, '5058': 1, '5059': 0, '5060': 2, '5061': 0, '5062': 2, '5063': 1, '5064': 2, '5065': 1, '5066': 2, '5067': 0, '5068': 0, '5069': 0, '5070': 0, '5071': 2, '5072': 2, '5073': 2, '5074': 1, '5075': 2, '5076': 1, '5077': 1, '5078': 1, '5079': 1, '5080': 2, '5081': 1, '5082': 2, '5083': 1, '5084': 1, '5085': 2, '5086': 1, '5087': 0, '5088': 2, '5089': 2, '5090': 2, '5091': 2, '5092': 1, '5093': 1, '5094': 1, '5095': 2, '5096': 1, '5097': 1, '5098': 2, '5099': 2, '5100': 1, '5101': 1, '5102': 0, '5103': 1, '5104': 2, '5105': 2, '5106': 2, '5107': 1, '5108': 1, '5109': 1, '5110': 2, '5111': 1, '5112': 2, '5113': 0, '5114': 2, '5115': 1, '5116': 1, '5117': 2, '5118': 2, '5119': 2, '5120': 1, '5121': 2, '5122': 1, '5123': 1, '5124': 1, '5125': 1, '5126': 2, '5127': 2, '5128': 2, '5129': 1, '5130': 1, '5131': 1, '5132': 2, '5133': 0, '5134': 2, '5135': 2, '5136': 2, '5137': 2, '5138': 1, '5139': 1, '5140': 1, '5141': 2, '5142': 2, '5143': 1, '5144': 2, '5145': 1, '5146': 2, '5147': 2, '5148': 0, '5149': 1, '5150': 2, '5151': 2, '5152': 2, '5153': 0, '5154': 1, '5155': 2, '5156': 2, '5157': 0, '5158': 2, '5159': 1, '5160': 2, '5161': 0, '5162': 2, '5163': 2, '5164': 0, '5165': 2, '5166': 1, '5167': 2, '5168': 1, '5169': 1, '5170': 1, '5171': 1, '5172': 1, '5173': 0, '5174': 2, '5175': 1, '5176': 0, '5177': 1, '5178': 2, '5179': 1, '5180': 2, '5181': 1, '5182': 2, '5183': 1, '5184': 2, '5185': 1, '5186': 2, '5187': 2, '5188': 2, '5189': 2, '5190': 2, '5191': 2, '5192': 2, '5193': 2, '5194': 1, '5195': 2, '5196': 2, '5197': 2, '5198': 1, '5199': 1, '5200': 2, '5201': 1, '5202': 2, '5203': 2, '5204': 1, '5205': 2, '5206': 2, '5207': 1, '5208': 2, '5209': 2, '5210': 2, '5211': 1, '5212': 1, '5213': 2, '5214': 1, '5215': 2, '5216': 1, '5217': 1, '5218': 2, '5219': 1, '5220': 2, '5221': 1, '5222': 1, '5223': 0, '5224': 2, '5225': 2, '5226': 2, '5227': 2, '5228': 1, '5229': 1, '5230': 2, '5231': 2, '5232': 2, '5233': 1, '5234': 2, '5235': 1, '5236': 2, '5237': 1, '5238': 1, '5239': 2, '5240': 2, '5241': 2, '5242': 2, '5243': 2, '5244': 2, '5245': 2, '5246': 1, '5247': 2, '5248': 1, '5249': 2, '5250': 1, '5251': 2, '5252': 1, '5253': 2, '5254': 2, '5255': 1, '5256': 1, '5257': 2, '5258': 2, '5259': 2, '5260': 0, '5261': 1, '5262': 2, '5263': 1, '5264': 1, '5265': 2, '5266': 2, '5267': 1, '5268': 2, '5269': 1, '5270': 1, '5271': 1, '5272': 2, '5273': 1, '5274': 1, '5275': 1, '5276': 2, '5277': 1, '5278': 2, '5279': 0, '5280': 1, '5281': 1, '5282': 2, '5283': 0, '5284': 2, '5285': 2, '5286': 1, '5287': 2, '5288': 2, '5289': 2, '5290': 0, '5291': 1, '5292': 1, '5293': 1, '5294': 2, '5295': 1, '5296': 2, '5297': 1, '5298': 2, '5299': 1, '5300': 2, '5301': 1, '5302': 1, '5303': 2, '5304': 1, '5305': 1, '5306': 2, '5307': 0, '5308': 1, '5309': 1, '5310': 2, '5311': 1, '5312': 1, '5313': 1, '5314': 1, '5315': 2, '5316': 1, '5317': 2, '5318': 2, '5319': 2, '5320': 1, '5321': 1, '5322': 1, '5323': 1, '5324': 0, '5325': 1, '5326': 2, '5327': 1, '5328': 2, '5329': 2, '5330': 0, '5331': 2, '5332': 1, '5333': 0, '5334': 1, '5335': 2, '5336': 2, '5337': 2, '5338': 2, '5339': 2, '5340': 1, '5341': 2, '5342': 0, '5343': 0, '5344': 0, '5345': 2, '5346': 2, '5347': 1, '5348': 1, '5349': 2, '5350': 2, '5351': 0, '5352': 2, '5353': 2, '5354': 2, '5355': 0, '5356': 2, '5357': 0, '5358': 1, '5359': 1, '5360': 2, '5361': 2, '5362': 2, '5363': 2, '5364': 1, '5365': 2, '5366': 1, '5367': 0, '5368': 2, '5369': 2, '5370': 0, '5371': 2, '5372': 2, '5373': 2, '5374': 2, '5375': 2, '5376': 2, '5377': 1, '5378': 1, '5379': 1, '5380': 2, '5381': 1, '5382': 2, '5383': 1, '5384': 1, '5385': 0, '5386': 2, '5387': 0, '5388': 2, '5389': 0, '5390': 1, '5391': 0, '5392': 2, '5393': 0, '5394': 1, '5395': 2, '5396': 1, '5397': 1, '5398': 2, '5399': 1, '5400': 1, '5401': 1, '5402': 0, '5403': 1, '5404': 1, '5405': 1, '5406': 1, '5407': 1, '5408': 0, '5409': 2, '5410': 1, '5411': 1, '5412': 1, '5413': 2, '5414': 2, '5415': 2, '5416': 2, '5417': 1, '5418': 1, '5419': 1, '5420': 1, '5421': 1, '5422': 1, '5423': 1, '5424': 1, '5425': 2, '5426': 1, '5427': 2, '5428': 2, '5429': 2, '5430': 1, '5431': 1, '5432': 2, '5433': 0, '5434': 0, '5435': 2, '5436': 1, '5437': 2, '5438': 2, '5439': 1, '5440': 2, '5441': 2, '5442': 1, '5443': 1, '5444': 2, '5445': 1, '5446': 1, '5447': 1, '5448': 2, '5449': 1, '5450': 2, '5451': 2, '5452': 2, '5453': 2, '5454': 2, '5455': 1, '5456': 1, '5457': 1, '5458': 0, '5459': 2, '5460': 1, '5461': 2, '5462': 2, '5463': 0, '5464': 2, '5465': 1, '5466': 1, '5467': 2, '5468': 1, '5469': 2, '5470': 1, '5471': 1, '5472': 1, '5473': 1, '5474': 0, '5475': 0, '5476': 1, '5477': 0, '5478': 2, '5479': 1, '5480': 2, '5481': 1, '5482': 0, '5483': 1, '5484': 2, '5485': 1, '5486': 1, '5487': 2, '5488': 1, '5489': 2, '5490': 1, '5491': 2, '5492': 1, '5493': 2, '5494': 1, '5495': 2, '5496': 1, '5497': 2, '5498': 1, '5499': 1, '5500': 0, '5501': 1, '5502': 2, '5503': 1, '5504': 1, '5505': 2, '5506': 2, '5507': 1, '5508': 0, '5509': 1, '5510': 2, '5511': 1, '5512': 2, '5513': 1, '5514': 0, '5515': 2, '5516': 2, '5517': 1, '5518': 1, '5519': 0, '5520': 1, '5521': 2, '5522': 2, '5523': 1, '5524': 0, '5525': 1, '5526': 2, '5527': 2, '5528': 2, '5529': 1, '5530': 2, '5531': 2, '5532': 1, '5533': 2, '5534': 2, '5535': 2, '5536': 2, '5537': 1, '5538': 2, '5539': 0, '5540': 2, '5541': 1, '5542': 1, '5543': 1, '5544': 1, '5545': 2, '5546': 2, '5547': 2, '5548': 1, '5549': 1, '5550': 2, '5551': 1, '5552': 2, '5553': 1, '5554': 0, '5555': 2, '5556': 1, '5557': 2, '5558': 2, '5559': 2, '5560': 2, '5561': 1, '5562': 2, '5563': 2, '5564': 1, '5565': 2, '5566': 2, '5567': 2, '5568': 2, '5569': 1, '5570': 1, '5571': 2, '5572': 2, '5573': 1, '5574': 2, '5575': 2, '5576': 1, '5577': 0, '5578': 1, '5579': 2, '5580': 2, '5581': 1, '5582': 1, '5583': 1, '5584': 0, '5585': 1, '5586': 2, '5587': 1, '5588': 1, '5589': 2, '5590': 1, '5591': 1, '5592': 2, '5593': 2, '5594': 1, '5595': 2, '5596': 2, '5597': 2, '5598': 1, '5599': 1, '5600': 1, '5601': 2, '5602': 2, '5603': 1, '5604': 2, '5605': 1, '5606': 2, '5607': 1, '5608': 1, '5609': 2, '5610': 1, '5611': 2, '5612': 2, '5613': 2, '5614': 1, '5615': 2, '5616': 0, '5617': 2, '5618': 1, '5619': 2, '5620': 1, '5621': 2, '5622': 2, '5623': 2, '5624': 0, '5625': 1, '5626': 1, '5627': 2, '5628': 2, '5629': 2, '5630': 2, '5631': 0, '5632': 2, '5633': 1, '5634': 1, '5635': 1, '5636': 1, '5637': 2, '5638': 1, '5639': 2, '5640': 2, '5641': 1, '5642': 1, '5643': 0, '5644': 1, '5645': 2, '5646': 2, '5647': 1, '5648': 2, '5649': 2, '5650': 1, '5651': 1, '5652': 2, '5653': 2, '5654': 2, '5655': 2, '5656': 0, '5657': 1, '5658': 1, '5659': 1, '5660': 2, '5661': 1, '5662': 2, '5663': 2, '5664': 1, '5665': 2, '5666': 2, '5667': 2, '5668': 1, '5669': 2, '5670': 1, '5671': 2, '5672': 2, '5673': 1, '5674': 2, '5675': 1, '5676': 0, '5677': 2, '5678': 2, '5679': 1, '5680': 2, '5681': 2, '5682': 1, '5683': 1, '5684': 1, '5685': 2, '5686': 1, '5687': 1, '5688': 2, '5689': 1, '5690': 2, '5691': 1, '5692': 2, '5693': 1, '5694': 0, '5695': 2, '5696': 2, '5697': 1, '5698': 0, '5699': 1, '5700': 1, '5701': 2, '5702': 2, '5703': 1, '5704': 2, '5705': 2, '5706': 2, '5707': 1, '5708': 1, '5709': 1, '5710': 2, '5711': 2, '5712': 0, '5713': 2, '5714': 0, '5715': 1, '5716': 0, '5717': 2, '5718': 1, '5719': 2, '5720': 2, '5721': 2, '5722': 2, '5723': 0, '5724': 1, '5725': 2, '5726': 1, '5727': 0, '5728': 2, '5729': 1, '5730': 0, '5731': 1, '5732': 2, '5733': 2, '5734': 1, '5735': 1, '5736': 1, '5737': 2, '5738': 0, '5739': 1, '5740': 2, '5741': 2, '5742': 2, '5743': 2, '5744': 2, '5745': 0, '5746': 1, '5747': 2, '5748': 2, '5749': 2, '5750': 2, '5751': 2, '5752': 2, '5753': 1, '5754': 2, '5755': 1, '5756': 2, '5757': 1, '5758': 1, '5759': 1, '5760': 0, '5761': 1, '5762': 2, '5763': 2, '5764': 2, '5765': 2, '5766': 1, '5767': 2, '5768': 2, '5769': 1, '5770': 1, '5771': 2, '5772': 0, '5773': 1, '5774': 1, '5775': 1, '5776': 2, '5777': 1, '5778': 1, '5779': 1, '5780': 2, '5781': 1, '5782': 0, '5783': 1, '5784': 1, '5785': 1, '5786': 1, '5787': 1, '5788': 2, '5789': 2, '5790': 1, '5791': 2, '5792': 2, '5793': 0, '5794': 2, '5795': 2, '5796': 2, '5797': 1, '5798': 1, '5799': 1, '5800': 1, '5801': 0, '5802': 1, '5803': 2, '5804': 0, '5805': 1, '5806': 1, '5807': 2, '5808': 2, '5809': 2, '5810': 1, '5811': 1, '5812': 1, '5813': 1, '5814': 1, '5815': 1, '5816': 2, '5817': 2, '5818': 2, '5819': 2, '5820': 1, '5821': 2, '5822': 1, '5823': 1, '5824': 2, '5825': 1, '5826': 2, '5827': 1, '5828': 1, '5829': 1, '5830': 1, '5831': 1, '5832': 0, '5833': 2, '5834': 1, '5835': 2, '5836': 2, '5837': 1, '5838': 1, '5839': 1, '5840': 1, '5841': 2, '5842': 1, '5843': 2, '5844': 1, '5845': 1, '5846': 0, '5847': 0, '5848': 1, '5849': 2, '5850': 1, '5851': 0, '5852': 1, '5853': 2, '5854': 1, '5855': 1, '5856': 1, '5857': 0, '5858': 1, '5859': 2, '5860': 2, '5861': 2, '5862': 2, '5863': 2, '5864': 0, '5865': 1, '5866': 2, '5867': 2, '5868': 1, '5869': 1, '5870': 1, '5871': 2, '5872': 2, '5873': 1, '5874': 2, '5875': 1, '5876': 1, '5877': 0, '5878': 2, '5879': 1, '5880': 2, '5881': 0, '5882': 2, '5883': 1, '5884': 1, '5885': 1, '5886': 1, '5887': 2, '5888': 1, '5889': 0, '5890': 0, '5891': 0, '5892': 1, '5893': 2, '5894': 2, '5895': 2, '5896': 2, '5897': 2, '5898': 2, '5899': 1, '5900': 2, '5901': 1, '5902': 1, '5903': 1, '5904': 1, '5905': 2, '5906': 1, '5907': 2, '5908': 2, '5909': 1, '5910': 0, '5911': 2, '5912': 2, '5913': 2, '5914': 1, '5915': 2, '5916': 0, '5917': 1, '5918': 1, '5919': 1, '5920': 1, '5921': 1, '5922': 1, '5923': 1, '5924': 2, '5925': 2, '5926': 2, '5927': 2, '5928': 1, '5929': 1, '5930': 2, '5931': 1, '5932': 1, '5933': 1, '5934': 1, '5935': 1, '5936': 1, '5937': 2, '5938': 2, '5939': 1, '5940': 0, '5941': 1, '5942': 1, '5943': 1, '5944': 1, '5945': 1, '5946': 2, '5947': 2, '5948': 1, '5949': 1, '5950': 1, '5951': 2, '5952': 1, '5953': 2, '5954': 1, '5955': 1, '5956': 1, '5957': 1, '5958': 1, '5959': 2, '5960': 1, '5961': 1, '5962': 0, '5963': 0, '5964': 2, '5965': 2, '5966': 1, '5967': 1, '5968': 2, '5969': 1, '5970': 1, '5971': 2, '5972': 2, '5973': 2, '5974': 2, '5975': 1, '5976': 1, '5977': 1, '5978': 1, '5979': 1, '5980': 2, '5981': 1, '5982': 2, '5983': 1, '5984': 1, '5985': 0, '5986': 1, '5987': 1, '5988': 1, '5989': 1, '5990': 2, '5991': 2, '5992': 2, '5993': 2, '5994': 1, '5995': 1, '5996': 2, '5997': 2, '5998': 2, '5999': 2, '6000': 2, '6001': 2, '6002': 2, '6003': 2, '6004': 1, '6005': 1, '6006': 1, '6007': 1, '6008': 1, '6009': 0, '6010': 0, '6011': 1, '6012': 2, '6013': 1, '6014': 2, '6015': 1, '6016': 1, '6017': 2, '6018': 1, '6019': 2, '6020': 2, '6021': 1, '6022': 1, '6023': 1, '6024': 2, '6025': 2, '6026': 2, '6027': 2, '6028': 1, '6029': 1, '6030': 1, '6031': 2, '6032': 2, '6033': 2, '6034': 2, '6035': 0, '6036': 0, '6037': 2, '6038': 1, '6039': 2, '6040': 2, '6041': 1, '6042': 1, '6043': 2, '6044': 1, '6045': 2, '6046': 1, '6047': 2, '6048': 2, '6049': 1, '6050': 2, '6051': 2, '6052': 2, '6053': 2, '6054': 2, '6055': 2, '6056': 2, '6057': 2, '6058': 2, '6059': 2, '6060': 1, '6061': 1, '6062': 0, '6063': 2, '6064': 2, '6065': 2, '6066': 2, '6067': 2, '6068': 2, '6069': 2, '6070': 1, '6071': 1, '6072': 0, '6073': 1, '6074': 1, '6075': 1, '6076': 1, '6077': 1, '6078': 1, '6079': 1, '6080': 1, '6081': 1, '6082': 1, '6083': 2, '6084': 1, '6085': 1, '6086': 2, '6087': 2, '6088': 2, '6089': 1, '6090': 2, '6091': 1, '6092': 2, '6093': 2, '6094': 1, '6095': 1, '6096': 2, '6097': 0, '6098': 1, '6099': 2, '6100': 2, '6101': 1, '6102': 2, '6103': 1, '6104': 2, '6105': 0, '6106': 2, '6107': 1, '6108': 2, '6109': 2, '6110': 1, '6111': 2, '6112': 1, '6113': 2, '6114': 2, '6115': 2, '6116': 1, '6117': 1, '6118': 1, '6119': 1, '6120': 1, '6121': 2, '6122': 1, '6123': 2, '6124': 1, '6125': 2, '6126': 1, '6127': 1, '6128': 2, '6129': 2, '6130': 2, '6131': 1, '6132': 2, '6133': 1, '6134': 1, '6135': 1, '6136': 1, '6137': 2, '6138': 2, '6139': 0, '6140': 1, '6141': 1, '6142': 1, '6143': 1, '6144': 2, '6145': 2, '6146': 2, '6147': 2, '6148': 1, '6149': 1, '6150': 2, '6151': 1, '6152': 2, '6153': 1, '6154': 1, '6155': 1, '6156': 2, '6157': 2, '6158': 0, '6159': 0, '6160': 1, '6161': 1, '6162': 1, '6163': 0, '6164': 1, '6165': 2, '6166': 1, '6167': 1, '6168': 1, '6169': 2, '6170': 2, '6171': 2, '6172': 2, '6173': 1, '6174': 2, '6175': 2, '6176': 1, '6177': 2, '6178': 1, '6179': 1, '6180': 1, '6181': 1, '6182': 2, '6183': 2, '6184': 2, '6185': 2, '6186': 2, '6187': 1, '6188': 2, '6189': 1, '6190': 2, '6191': 2, '6192': 1, '6193': 1, '6194': 2, '6195': 1, '6196': 2, '6197': 1, '6198': 1, '6199': 1, '6200': 1, '6201': 1, '6202': 1, '6203': 1, '6204': 2, '6205': 1, '6206': 1, '6207': 2, '6208': 2, '6209': 1, '6210': 2, '6211': 2, '6212': 1, '6213': 2, '6214': 1, '6215': 1, '6216': 1, '6217': 1, '6218': 2, '6219': 2, '6220': 1, '6221': 2, '6222': 0, '6223': 2, '6224': 2, '6225': 2, '6226': 1, '6227': 2, '6228': 1, '6229': 2, '6230': 2, '6231': 2, '6232': 1, '6233': 2, '6234': 1, '6235': 1, '6236': 2, '6237': 1, '6238': 1, '6239': 2, '6240': 2, '6241': 2, '6242': 2, '6243': 0, '6244': 2, '6245': 0, '6246': 1, '6247': 1, '6248': 1, '6249': 2, '6250': 1, '6251': 2, '6252': 1, '6253': 1, '6254': 1, '6255': 0, '6256': 1, '6257': 1, '6258': 2, '6259': 2, '6260': 1, '6261': 1, '6262': 1, '6263': 2, '6264': 2, '6265': 2, '6266': 2, '6267': 1, '6268': 1, '6269': 2, '6270': 0, '6271': 1, '6272': 1, '6273': 1, '6274': 0, '6275': 2, '6276': 0, '6277': 1, '6278': 1, '6279': 2, '6280': 2, '6281': 2, '6282': 1, '6283': 1, '6284': 1, '6285': 2, '6286': 1, '6287': 2, '6288': 1, '6289': 2, '6290': 2, '6291': 2, '6292': 2, '6293': 1, '6294': 1, '6295': 2, '6296': 2, '6297': 1, '6298': 1, '6299': 1, '6300': 2, '6301': 2, '6302': 2, '6303': 2, '6304': 1, '6305': 1, '6306': 2, '6307': 1, '6308': 2, '6309': 1, '6310': 1, '6311': 2, '6312': 0, '6313': 1, '6314': 2, '6315': 1, '6316': 2, '6317': 2, '6318': 1, '6319': 1, '6320': 2, '6321': 1, '6322': 2, '6323': 1, '6324': 2, '6325': 2, '6326': 0, '6327': 2, '6328': 0, '6329': 1, '6330': 2, '6331': 2, '6332': 1, '6333': 1, '6334': 0, '6335': 1, '6336': 2, '6337': 2, '6338': 2, '6339': 2, '6340': 1, '6341': 2, '6342': 2, '6343': 2, '6344': 2, '6345': 1, '6346': 1, '6347': 1, '6348': 2, '6349': 1, '6350': 2, '6351': 2, '6352': 1, '6353': 2, '6354': 1, '6355': 1, '6356': 1, '6357': 2, '6358': 2, '6359': 2, '6360': 1, '6361': 2, '6362': 2, '6363': 1, '6364': 1, '6365': 1, '6366': 1, '6367': 2, '6368': 1, '6369': 2, '6370': 1, '6371': 2, '6372': 1, '6373': 2, '6374': 2, '6375': 1, '6376': 2, '6377': 0, '6378': 1, '6379': 1, '6380': 2, '6381': 2, '6382': 2, '6383': 1, '6384': 1, '6385': 1, '6386': 2, '6387': 2, '6388': 1, '6389': 2, '6390': 2, '6391': 2, '6392': 2, '6393': 0, '6394': 1, '6395': 2, '6396': 2, '6397': 1, '6398': 0, '6399': 2, '6400': 2, '6401': 2, '6402': 2, '6403': 1, '6404': 1, '6405': 1, '6406': 2, '6407': 1, '6408': 1, '6409': 2, '6410': 1, '6411': 2, '6412': 0, '6413': 2, '6414': 2, '6415': 0, '6416': 2, '6417': 0, '6418': 1, '6419': 1, '6420': 0, '6421': 1, '6422': 1, '6423': 1, '6424': 2, '6425': 1, '6426': 1, '6427': 1, '6428': 2, '6429': 2, '6430': 1, '6431': 2, '6432': 2, '6433': 2, '6434': 2, '6435': 0, '6436': 2, '6437': 1, '6438': 0, '6439': 2, '6440': 2, '6441': 1, '6442': 2, '6443': 2, '6444': 2, '6445': 1, '6446': 2, '6447': 2, '6448': 1, '6449': 2, '6450': 2, '6451': 2, '6452': 2, '6453': 0, '6454': 2, '6455': 2, '6456': 1, '6457': 1, '6458': 1, '6459': 1, '6460': 2, '6461': 2, '6462': 2, '6463': 1, '6464': 2, '6465': 1, '6466': 2, '6467': 2, '6468': 1, '6469': 1, '6470': 2, '6471': 1, '6472': 1, '6473': 1, '6474': 1, '6475': 1, '6476': 0, '6477': 1, '6478': 0, '6479': 2, '6480': 1, '6481': 2, '6482': 1, '6483': 2, '6484': 2, '6485': 2, '6486': 2, '6487': 2, '6488': 2, '6489': 2, '6490': 1, '6491': 2, '6492': 1, '6493': 1, '6494': 2, '6495': 1, '6496': 1, '6497': 2, '6498': 1, '6499': 2, '6500': 1, '6501': 2, '6502': 2, '6503': 1, '6504': 1, '6505': 1, '6506': 1, '6507': 2, '6508': 2, '6509': 1, '6510': 2, '6511': 2, '6512': 1, '6513': 1, '6514': 1, '6515': 2, '6516': 2, '6517': 2, '6518': 1, '6519': 2, '6520': 1, '6521': 2, '6522': 1, '6523': 2, '6524': 2, '6525': 0, '6526': 2, '6527': 2, '6528': 1, '6529': 2, '6530': 1, '6531': 2, '6532': 1, '6533': 2, '6534': 2, '6535': 1, '6536': 1, '6537': 1, '6538': 2, '6539': 1, '6540': 2, '6541': 2, '6542': 1, '6543': 2, '6544': 1, '6545': 0, '6546': 2, '6547': 1, '6548': 0, '6549': 2, '6550': 1, '6551': 2, '6552': 2, '6553': 1, '6554': 2, '6555': 2, '6556': 2, '6557': 1, '6558': 0, '6559': 2, '6560': 2, '6561': 2, '6562': 2, '6563': 2, '6564': 2, '6565': 2, '6566': 1, '6567': 2, '6568': 1, '6569': 1, '6570': 1, '6571': 1, '6572': 1, '6573': 1, '6574': 1, '6575': 1, '6576': 1, '6577': 1, '6578': 2, '6579': 1, '6580': 2, '6581': 2, '6582': 0, '6583': 1, '6584': 1, '6585': 1, '6586': 1, '6587': 2, '6588': 1, '6589': 1, '6590': 1, '6591': 1, '6592': 1, '6593': 1, '6594': 2, '6595': 2, '6596': 1, '6597': 1, '6598': 2, '6599': 1, '6600': 1, '6601': 1, '6602': 2, '6603': 1, '6604': 1, '6605': 1, '6606': 1, '6607': 1, '6608': 1, '6609': 2, '6610': 1, '6611': 2, '6612': 1, '6613': 2, '6614': 2, '6615': 2, '6616': 2, '6617': 1, '6618': 2, '6619': 1, '6620': 0, '6621': 1, '6622': 1, '6623': 2, '6624': 2, '6625': 2, '6626': 1, '6627': 1, '6628': 1, '6629': 2, '6630': 1, '6631': 1, '6632': 1, '6633': 1, '6634': 1, '6635': 1, '6636': 2, '6637': 1, '6638': 2, '6639': 2, '6640': 2, '6641': 1, '6642': 1, '6643': 2, '6644': 1, '6645': 2, '6646': 1, '6647': 1, '6648': 1, '6649': 2, '6650': 2, '6651': 2, '6652': 1, '6653': 2, '6654': 2, '6655': 1, '6656': 2, '6657': 0, '6658': 1, '6659': 2, '6660': 2, '6661': 2, '6662': 0, '6663': 2, '6664': 1, '6665': 1, '6666': 2, '6667': 2, '6668': 1, '6669': 2, '6670': 2, '6671': 0, '6672': 1, '6673': 1, '6674': 1, '6675': 1, '6676': 1, '6677': 1, '6678': 1, '6679': 2, '6680': 1, '6681': 1, '6682': 0, '6683': 2, '6684': 2, '6685': 2, '6686': 2, '6687': 2, '6688': 2, '6689': 2, '6690': 2, '6691': 2, '6692': 2, '6693': 1, '6694': 1, '6695': 2, '6696': 1, '6697': 2, '6698': 2, '6699': 0, '6700': 2, '6701': 1, '6702': 1, '6703': 1, '6704': 2, '6705': 1, '6706': 2, '6707': 2, '6708': 1, '6709': 1, '6710': 1, '6711': 1, '6712': 1, '6713': 1, '6714': 2, '6715': 1, '6716': 2, '6717': 1, '6718': 1, '6719': 1, '6720': 1, '6721': 1, '6722': 2, '6723': 1, '6724': 1, '6725': 2, '6726': 2, '6727': 2, '6728': 2, '6729': 2, '6730': 2, '6731': 1, '6732': 1, '6733': 1, '6734': 1, '6735': 1, '6736': 2, '6737': 1, '6738': 2, '6739': 2, '6740': 1, '6741': 2, '6742': 0, '6743': 1, '6744': 1, '6745': 2, '6746': 2, '6747': 2, '6748': 2, '6749': 2, '6750': 1, '6751': 1, '6752': 2, '6753': 1, '6754': 1, '6755': 2, '6756': 1, '6757': 1, '6758': 2, '6759': 1, '6760': 2, '6761': 2, '6762': 2, '6763': 1, '6764': 2, '6765': 1, '6766': 1, '6767': 2, '6768': 2, '6769': 1, '6770': 1, '6771': 1, '6772': 2, '6773': 2, '6774': 2, '6775': 1, '6776': 2, '6777': 2, '6778': 0, '6779': 2, '6780': 2, '6781': 1, '6782': 1, '6783': 1, '6784': 2, '6785': 1, '6786': 2, '6787': 2, '6788': 1, '6789': 2, '6790': 0, '6791': 2, '6792': 1, '6793': 1, '6794': 1, '6795': 1, '6796': 1, '6797': 2, '6798': 2, '6799': 1, '6800': 1, '6801': 1, '6802': 2, '6803': 1, '6804': 0, '6805': 2, '6806': 2, '6807': 1, '6808': 2, '6809': 1, '6810': 2, '6811': 2, '6812': 1, '6813': 2, '6814': 2, '6815': 2, '6816': 1, '6817': 2, '6818': 0, '6819': 2, '6820': 1, '6821': 2, '6822': 1, '6823': 2, '6824': 2, '6825': 1, '6826': 1, '6827': 2, '6828': 2, '6829': 2, '6830': 0, '6831': 2, '6832': 1, '6833': 1, '6834': 1, '6835': 2, '6836': 1, '6837': 1, '6838': 2, '6839': 1, '6840': 2, '6841': 2, '6842': 1, '6843': 1, '6844': 0, '6845': 2, '6846': 1, '6847': 1, '6848': 2, '6849': 1, '6850': 0, '6851': 1, '6852': 2, '6853': 1, '6854': 2, '6855': 2, '6856': 2, '6857': 2, '6858': 1, '6859': 2, '6860': 1, '6861': 2, '6862': 1, '6863': 2, '6864': 2, '6865': 2, '6866': 2, '6867': 1, '6868': 0, '6869': 1, '6870': 1, '6871': 1, '6872': 1, '6873': 1, '6874': 1, '6875': 1, '6876': 1, '6877': 1, '6878': 1, '6879': 0, '6880': 2, '6881': 2, '6882': 2, '6883': 0, '6884': 2, '6885': 2, '6886': 1, '6887': 2, '6888': 2, '6889': 2, '6890': 2, '6891': 0, '6892': 1, '6893': 2, '6894': 2, '6895': 1, '6896': 1, '6897': 1, '6898': 2, '6899': 2, '6900': 2, '6901': 2, '6902': 2, '6903': 2, '6904': 1, '6905': 0, '6906': 1, '6907': 2, '6908': 1, '6909': 2, '6910': 1, '6911': 1, '6912': 2, '6913': 2, '6914': 0, '6915': 2, '6916': 1, '6917': 2, '6918': 1, '6919': 2, '6920': 2, '6921': 1, '6922': 1, '6923': 1, '6924': 2, '6925': 1, '6926': 1, '6927': 2, '6928': 2, '6929': 0, '6930': 2, '6931': 0, '6932': 0, '6933': 2, '6934': 1, '6935': 1, '6936': 1, '6937': 2, '6938': 1, '6939': 1, '6940': 2, '6941': 2, '6942': 1, '6943': 2, '6944': 1, '6945': 1, '6946': 2, '6947': 2, '6948': 1, '6949': 2, '6950': 2, '6951': 2, '6952': 0, '6953': 2, '6954': 2, '6955': 1, '6956': 2, '6957': 0, '6958': 2, '6959': 2, '6960': 1, '6961': 1, '6962': 1, '6963': 2, '6964': 1, '6965': 2, '6966': 0, '6967': 0, '6968': 1, '6969': 2, '6970': 0, '6971': 0, '6972': 2, '6973': 1, '6974': 2, '6975': 1, '6976': 2, '6977': 2, '6978': 2, '6979': 0, '6980': 2, '6981': 1, '6982': 1, '6983': 2, '6984': 1, '6985': 2, '6986': 1, '6987': 1, '6988': 1, '6989': 1, '6990': 0, '6991': 1, '6992': 2, '6993': 2, '6994': 0, '6995': 2, '6996': 1, '6997': 1, '6998': 1, '6999': 2, '7000': 1, '7001': 2, '7002': 1, '7003': 2, '7004': 0, '7005': 1, '7006': 2, '7007': 2, '7008': 1, '7009': 2, '7010': 1, '7011': 0, '7012': 2, '7013': 2, '7014': 2, '7015': 1, '7016': 2, '7017': 1, '7018': 0, '7019': 1, '7020': 1, '7021': 1, '7022': 2, '7023': 2, '7024': 1, '7025': 2, '7026': 2, '7027': 2, '7028': 2, '7029': 1, '7030': 1, '7031': 2, '7032': 2, '7033': 1, '7034': 0, '7035': 1, '7036': 1, '7037': 2, '7038': 2, '7039': 1, '7040': 2, '7041': 2, '7042': 1, '7043': 2, '7044': 1, '7045': 1, '7046': 2, '7047': 0, '7048': 2, '7049': 2, '7050': 1, '7051': 2, '7052': 1, '7053': 2, '7054': 2, '7055': 2, '7056': 2, '7057': 2, '7058': 2, '7059': 2, '7060': 1, '7061': 1, '7062': 1, '7063': 2, '7064': 0, '7065': 2, '7066': 2, '7067': 2, '7068': 2, '7069': 1, '7070': 1, '7071': 2, '7072': 1, '7073': 0, '7074': 2, '7075': 2, '7076': 1, '7077': 2, '7078': 2, '7079': 2, '7080': 2, '7081': 0, '7082': 1, '7083': 2, '7084': 2, '7085': 1, '7086': 2, '7087': 0, '7088': 1, '7089': 2, '7090': 1, '7091': 0, '7092': 1, '7093': 2, '7094': 2, '7095': 2, '7096': 2, '7097': 0, '7098': 2, '7099': 2, '7100': 0, '7101': 2, '7102': 1, '7103': 0, '7104': 0, '7105': 2, '7106': 1, '7107': 2, '7108': 2, '7109': 2, '7110': 1, '7111': 1, '7112': 2, '7113': 2, '7114': 2, '7115': 0, '7116': 0, '7117': 2, '7118': 2, '7119': 0, '7120': 2, '7121': 2, '7122': 1, '7123': 2, '7124': 0, '7125': 2, '7126': 2, '7127': 1, '7128': 1, '7129': 2, '7130': 1, '7131': 2, '7132': 2, '7133': 2, '7134': 2, '7135': 2, '7136': 1, '7137': 2, '7138': 1, '7139': 1, '7140': 1, '7141': 2, '7142': 1, '7143': 1, '7144': 2, '7145': 2, '7146': 2, '7147': 0, '7148': 1, '7149': 2, '7150': 1, '7151': 2, '7152': 2, '7153': 2, '7154': 0, '7155': 2, '7156': 2, '7157': 1, '7158': 1, '7159': 2, '7160': 1, '7161': 2, '7162': 2, '7163': 1, '7164': 0, '7165': 1, '7166': 2, '7167': 2, '7168': 2, '7169': 2, '7170': 2, '7171': 1, '7172': 2, '7173': 2, '7174': 1, '7175': 1, '7176': 0, '7177': 2, '7178': 2, '7179': 1, '7180': 1, '7181': 2, '7182': 2, '7183': 2, '7184': 2, '7185': 2, '7186': 1, '7187': 0, '7188': 2, '7189': 2, '7190': 2, '7191': 1, '7192': 2, '7193': 1, '7194': 1, '7195': 2, '7196': 1, '7197': 1, '7198': 2, '7199': 1, '7200': 2, '7201': 1, '7202': 1, '7203': 1, '7204': 2, '7205': 1, '7206': 1, '7207': 1, '7208': 0, '7209': 1, '7210': 2, '7211': 2, '7212': 1, '7213': 2, '7214': 2, '7215': 2, '7216': 2, '7217': 2, '7218': 2, '7219': 2, '7220': 1, '7221': 1, '7222': 2, '7223': 2, '7224': 1, '7225': 1, '7226': 1, '7227': 1, '7228': 1, '7229': 1, '7230': 2, '7231': 1, '7232': 2, '7233': 1, '7234': 2, '7235': 1, '7236': 2, '7237': 2, '7238': 1, '7239': 1, '7240': 0, '7241': 2, '7242': 1, '7243': 1, '7244': 2, '7245': 2, '7246': 2, '7247': 1, '7248': 1, '7249': 2, '7250': 2, '7251': 0, '7252': 2, '7253': 1, '7254': 1, '7255': 1, '7256': 2, '7257': 2, '7258': 2, '7259': 1, '7260': 1, '7261': 1, '7262': 2, '7263': 1, '7264': 2, '7265': 1, '7266': 2, '7267': 1, '7268': 2, '7269': 1, '7270': 1, '7271': 1, '7272': 2, '7273': 2, '7274': 1, '7275': 1, '7276': 2, '7277': 2, '7278': 2, '7279': 2, '7280': 1, '7281': 2, '7282': 1, '7283': 2, '7284': 2, '7285': 2, '7286': 1, '7287': 2, '7288': 1, '7289': 1, '7290': 1, '7291': 0, '7292': 2, '7293': 1, '7294': 1, '7295': 1, '7296': 1, '7297': 2, '7298': 1, '7299': 2, '7300': 2, '7301': 1, '7302': 1, '7303': 1, '7304': 2, '7305': 2, '7306': 1, '7307': 2, '7308': 1, '7309': 1, '7310': 2, '7311': 0, '7312': 1, '7313': 1, '7314': 1, '7315': 2, '7316': 1, '7317': 1, '7318': 1, '7319': 2, '7320': 1, '7321': 2, '7322': 2, '7323': 0, '7324': 2, '7325': 2, '7326': 1, '7327': 1, '7328': 0, '7329': 2, '7330': 0, '7331': 1, '7332': 2, '7333': 2, '7334': 1, '7335': 2, '7336': 2, '7337': 1, '7338': 1, '7339': 2, '7340': 1, '7341': 2, '7342': 2, '7343': 1, '7344': 2, '7345': 2, '7346': 1, '7347': 1, '7348': 2, '7349': 1, '7350': 1, '7351': 2, '7352': 2, '7353': 2, '7354': 1, '7355': 2, '7356': 1, '7357': 2, '7358': 1, '7359': 0, '7360': 2, '7361': 1, '7362': 1, '7363': 1, '7364': 1, '7365': 2, '7366': 1, '7367': 1, '7368': 1, '7369': 2, '7370': 1, '7371': 2, '7372': 2, '7373': 2, '7374': 1, '7375': 1, '7376': 2, '7377': 2, '7378': 2, '7379': 2, '7380': 2, '7381': 1, '7382': 2, '7383': 0, '7384': 1, '7385': 1, '7386': 2, '7387': 2, '7388': 2, '7389': 1, '7390': 2, '7391': 2, '7392': 2, '7393': 1, '7394': 1, '7395': 2, '7396': 2, '7397': 1, '7398': 2, '7399': 1, '7400': 1, '7401': 0, '7402': 1, '7403': 2, '7404': 0, '7405': 2, '7406': 2, '7407': 0, '7408': 2, '7409': 1, '7410': 1, '7411': 1, '7412': 1, '7413': 1, '7414': 2, '7415': 1, '7416': 1, '7417': 1, '7418': 2, '7419': 2, '7420': 1, '7421': 2, '7422': 2, '7423': 1, '7424': 1, '7425': 2, '7426': 1, '7427': 1, '7428': 2, '7429': 2, '7430': 1, '7431': 1, '7432': 0, '7433': 1, '7434': 2, '7435': 2, '7436': 1, '7437': 2, '7438': 2, '7439': 2, '7440': 2, '7441': 2, '7442': 1, '7443': 0, '7444': 1, '7445': 2, '7446': 2, '7447': 1, '7448': 1, '7449': 2, '7450': 0, '7451': 2, '7452': 2, '7453': 1, '7454': 1, '7455': 2, '7456': 2, '7457': 1, '7458': 1, '7459': 0, '7460': 2, '7461': 1, '7462': 0, '7463': 0, '7464': 2, '7465': 2, '7466': 2, '7467': 1, '7468': 2, '7469': 0, '7470': 2, '7471': 1, '7472': 1, '7473': 1, '7474': 1, '7475': 2, '7476': 1, '7477': 0, '7478': 2, '7479': 2, '7480': 1, '7481': 1, '7482': 2, '7483': 2, '7484': 2, '7485': 2, '7486': 2, '7487': 2, '7488': 1, '7489': 2, '7490': 2, '7491': 2, '7492': 0, '7493': 1, '7494': 0, '7495': 2, '7496': 2, '7497': 2, '7498': 2, '7499': 1, '7500': 2, '7501': 1, '7502': 2, '7503': 1, '7504': 1, '7505': 2, '7506': 1, '7507': 2, '7508': 2, '7509': 1, '7510': 1, '7511': 1, '7512': 1, '7513': 1, '7514': 1, '7515': 2, '7516': 1, '7517': 1, '7518': 2, '7519': 0, '7520': 2, '7521': 1, '7522': 1, '7523': 2, '7524': 2, '7525': 2, '7526': 1, '7527': 1, '7528': 1, '7529': 1, '7530': 2, '7531': 2, '7532': 0, '7533': 1, '7534': 2, '7535': 2, '7536': 2, '7537': 2, '7538': 1, '7539': 1, '7540': 0, '7541': 1, '7542': 2, '7543': 2, '7544': 2, '7545': 1, '7546': 2, '7547': 1, '7548': 1, '7549': 1, '7550': 1, '7551': 2, '7552': 2, '7553': 2, '7554': 1, '7555': 1, '7556': 1, '7557': 0, '7558': 1, '7559': 1, '7560': 0, '7561': 2, '7562': 1, '7563': 2, '7564': 1, '7565': 2, '7566': 1, '7567': 2, '7568': 2, '7569': 0, '7570': 2, '7571': 1, '7572': 2, '7573': 0, '7574': 2, '7575': 2, '7576': 1, '7577': 2, '7578': 0, '7579': 2, '7580': 2, '7581': 2, '7582': 2, '7583': 1, '7584': 2, '7585': 1, '7586': 2, '7587': 0, '7588': 2, '7589': 2, '7590': 2, '7591': 2, '7592': 2, '7593': 1, '7594': 2, '7595': 1, '7596': 1, '7597': 0, '7598': 2, '7599': 0, '7600': 2, '7601': 0, '7602': 2, '7603': 1, '7604': 2, '7605': 1, '7606': 1, '7607': 1, '7608': 0, '7609': 1, '7610': 1, '7611': 1, '7612': 1, '7613': 2, '7614': 2, '7615': 1, '7616': 2, '7617': 1, '7618': 1, '7619': 2, '7620': 2, '7621': 1, '7622': 2, '7623': 2, '7624': 2, '7625': 1, '7626': 1, '7627': 1, '7628': 1, '7629': 1, '7630': 2, '7631': 1, '7632': 2, '7633': 1, '7634': 2, '7635': 0, '7636': 2, '7637': 1, '7638': 2, '7639': 2, '7640': 1, '7641': 1, '7642': 2, '7643': 2, '7644': 0, '7645': 2, '7646': 2, '7647': 1, '7648': 2, '7649': 2, '7650': 2, '7651': 1, '7652': 2, '7653': 2, '7654': 1, '7655': 2, '7656': 2, '7657': 1, '7658': 0, '7659': 1, '7660': 2, '7661': 1, '7662': 2, '7663': 1, '7664': 2, '7665': 2, '7666': 1, '7667': 2, '7668': 0, '7669': 1, '7670': 1, '7671': 2, '7672': 0, '7673': 2, '7674': 1, '7675': 1, '7676': 2, '7677': 1, '7678': 1, '7679': 1, '7680': 2, '7681': 1, '7682': 1, '7683': 1, '7684': 1, '7685': 1, '7686': 2, '7687': 1, '7688': 1, '7689': 1, '7690': 1, '7691': 1, '7692': 1, '7693': 2, '7694': 2, '7695': 2, '7696': 1, '7697': 1, '7698': 2, '7699': 2, '7700': 2, '7701': 2, '7702': 1, '7703': 2, '7704': 2, '7705': 1, '7706': 0, '7707': 2, '7708': 2, '7709': 1, '7710': 1, '7711': 2, '7712': 2, '7713': 1, '7714': 1, '7715': 2, '7716': 1, '7717': 1, '7718': 1, '7719': 2, '7720': 2, '7721': 0, '7722': 1, '7723': 1, '7724': 2, '7725': 2, '7726': 2, '7727': 1, '7728': 2, '7729': 1, '7730': 1, '7731': 0, '7732': 2, '7733': 2, '7734': 1, '7735': 0, '7736': 1, '7737': 2, '7738': 1, '7739': 1, '7740': 2, '7741': 1, '7742': 1, '7743': 0, '7744': 1, '7745': 2, '7746': 1, '7747': 2, '7748': 2, '7749': 2, '7750': 0, '7751': 2, '7752': 2, '7753': 1, '7754': 1, '7755': 0, '7756': 1, '7757': 0, '7758': 1, '7759': 1, '7760': 1, '7761': 2, '7762': 2, '7763': 1, '7764': 1, '7765': 1, '7766': 1, '7767': 2, '7768': 1, '7769': 1, '7770': 2, '7771': 1, '7772': 1, '7773': 1, '7774': 0, '7775': 2, '7776': 2, '7777': 1, '7778': 2, '7779': 2, '7780': 2, '7781': 2, '7782': 1, '7783': 1, '7784': 2, '7785': 1, '7786': 2, '7787': 2, '7788': 1, '7789': 0, '7790': 1, '7791': 2, '7792': 2, '7793': 1, '7794': 1, '7795': 0, '7796': 1, '7797': 2, '7798': 2, '7799': 1, '7800': 0, '7801': 2, '7802': 2, '7803': 1, '7804': 2, '7805': 1, '7806': 1, '7807': 0, '7808': 1, '7809': 1, '7810': 2, '7811': 2, '7812': 2, '7813': 2, '7814': 2, '7815': 2, '7816': 0, '7817': 1, '7818': 2, '7819': 1, '7820': 1, '7821': 1, '7822': 2, '7823': 1, '7824': 1, '7825': 2, '7826': 1, '7827': 2, '7828': 2, '7829': 1, '7830': 2, '7831': 2, '7832': 2, '7833': 1, '7834': 2, '7835': 2, '7836': 1, '7837': 1, '7838': 0, '7839': 0, '7840': 1, '7841': 2, '7842': 1, '7843': 1, '7844': 1, '7845': 2, '7846': 2, '7847': 0, '7848': 2, '7849': 1, '7850': 1, '7851': 2, '7852': 2, '7853': 1, '7854': 2, '7855': 0, '7856': 2, '7857': 2, '7858': 2, '7859': 0, '7860': 2, '7861': 2, '7862': 1, '7863': 1, '7864': 2, '7865': 1, '7866': 2, '7867': 1, '7868': 1, '7869': 0, '7870': 1, '7871': 2, '7872': 2, '7873': 1, '7874': 1, '7875': 2, '7876': 2, '7877': 1, '7878': 2, '7879': 2, '7880': 1, '7881': 2, '7882': 2, '7883': 1, '7884': 2, '7885': 1, '7886': 0, '7887': 1, '7888': 2, '7889': 1, '7890': 1, '7891': 2, '7892': 1, '7893': 2, '7894': 2, '7895': 1, '7896': 2, '7897': 2, '7898': 2, '7899': 1, '7900': 2, '7901': 1, '7902': 1, '7903': 2, '7904': 2, '7905': 1, '7906': 2, '7907': 1, '7908': 1, '7909': 1, '7910': 2, '7911': 1, '7912': 2, '7913': 2, '7914': 1, '7915': 1, '7916': 2, '7917': 1, '7918': 1, '7919': 1, '7920': 1, '7921': 1, '7922': 0, '7923': 0, '7924': 1, '7925': 2, '7926': 1, '7927': 2, '7928': 1, '7929': 0, '7930': 2, '7931': 2, '7932': 2, '7933': 1, '7934': 2, '7935': 1, '7936': 1, '7937': 0, '7938': 1, '7939': 1, '7940': 1, '7941': 0, '7942': 1, '7943': 2, '7944': 2, '7945': 1, '7946': 2, '7947': 2, '7948': 0, '7949': 1, '7950': 2, '7951': 0, '7952': 2, '7953': 1, '7954': 1, '7955': 1, '7956': 2, '7957': 1, '7958': 2, '7959': 1, '7960': 2, '7961': 1, '7962': 2, '7963': 2, '7964': 2, '7965': 2, '7966': 2, '7967': 1, '7968': 1, '7969': 2, '7970': 1, '7971': 1, '7972': 2, '7973': 2, '7974': 1, '7975': 1, '7976': 1, '7977': 2, '7978': 2, '7979': 2, '7980': 1, '7981': 2, '7982': 1, '7983': 1, '7984': 1, '7985': 2, '7986': 2, '7987': 2, '7988': 0, '7989': 2, '7990': 2, '7991': 0, '7992': 2, '7993': 2, '7994': 2, '7995': 2, '7996': 1, '7997': 0, '7998': 0, '7999': 1, '8000': 0, '8001': 1, '8002': 1, '8003': 1, '8004': 1, '8005': 0, '8006': 1, '8007': 1, '8008': 1, '8009': 2, '8010': 1, '8011': 1, '8012': 0, '8013': 1, '8014': 2, '8015': 2, '8016': 0, '8017': 1, '8018': 0, '8019': 0, '8020': 2, '8021': 1, '8022': 2, '8023': 2, '8024': 1, '8025': 1, '8026': 1, '8027': 2, '8028': 0, '8029': 1, '8030': 1, '8031': 1, '8032': 2, '8033': 1, '8034': 2, '8035': 2, '8036': 1, '8037': 2, '8038': 2, '8039': 1, '8040': 2, '8041': 2, '8042': 1, '8043': 2, '8044': 2, '8045': 1, '8046': 2, '8047': 1, '8048': 2, '8049': 1, '8050': 0, '8051': 1, '8052': 0, '8053': 2, '8054': 2, '8055': 1, '8056': 1, '8057': 2, '8058': 1, '8059': 1, '8060': 2, '8061': 0, '8062': 1, '8063': 2, '8064': 1, '8065': 0, '8066': 1, '8067': 1, '8068': 1, '8069': 1, '8070': 2, '8071': 0, '8072': 1, '8073': 1, '8074': 1, '8075': 1, '8076': 2, '8077': 2, '8078': 1, '8079': 2, '8080': 1, '8081': 1, '8082': 2, '8083': 1, '8084': 1, '8085': 1, '8086': 2, '8087': 0, '8088': 2, '8089': 2, '8090': 1, '8091': 1, '8092': 1, '8093': 1, '8094': 2, '8095': 2, '8096': 1, '8097': 1, '8098': 1, '8099': 1, '8100': 1, '8101': 1, '8102': 2, '8103': 1, '8104': 1, '8105': 2, '8106': 2, '8107': 2, '8108': 2, '8109': 1, '8110': 1, '8111': 1, '8112': 1, '8113': 2, '8114': 1, '8115': 2, '8116': 0, '8117': 2, '8118': 1, '8119': 1, '8120': 2, '8121': 2, '8122': 2, '8123': 1, '8124': 2, '8125': 2, '8126': 1, '8127': 2, '8128': 1, '8129': 2, '8130': 2, '8131': 1, '8132': 2, '8133': 1, '8134': 1, '8135': 2, '8136': 2, '8137': 0, '8138': 1, '8139': 2, '8140': 2, '8141': 1, '8142': 1, '8143': 2, '8144': 1, '8145': 1, '8146': 2, '8147': 2, '8148': 2, '8149': 1, '8150': 1, '8151': 1, '8152': 2, '8153': 1, '8154': 2, '8155': 2, '8156': 1, '8157': 1, '8158': 2, '8159': 1, '8160': 1, '8161': 1, '8162': 1, '8163': 1, '8164': 2, '8165': 2, '8166': 1, '8167': 2, '8168': 2, '8169': 2, '8170': 1, '8171': 1, '8172': 2, '8173': 1, '8174': 2, '8175': 1, '8176': 1, '8177': 2, '8178': 1, '8179': 2, '8180': 2, '8181': 1, '8182': 2, '8183': 2, '8184': 2, '8185': 0, '8186': 1, '8187': 2, '8188': 2, '8189': 2, '8190': 1, '8191': 1, '8192': 1, '8193': 2, '8194': 2, '8195': 0, '8196': 1, '8197': 1, '8198': 1, '8199': 1, '8200': 1, '8201': 1, '8202': 2, '8203': 2, '8204': 0, '8205': 2, '8206': 2, '8207': 2, '8208': 1, '8209': 2, '8210': 0, '8211': 2, '8212': 1, '8213': 2, '8214': 1, '8215': 2, '8216': 1, '8217': 1, '8218': 1, '8219': 1, '8220': 0, '8221': 1, '8222': 1, '8223': 1, '8224': 1, '8225': 1, '8226': 2, '8227': 2, '8228': 1, '8229': 1, '8230': 2, '8231': 1, '8232': 1, '8233': 2, '8234': 2, '8235': 0, '8236': 2, '8237': 1, '8238': 2, '8239': 1, '8240': 1, '8241': 2, '8242': 2, '8243': 2, '8244': 1, '8245': 1, '8246': 2, '8247': 2, '8248': 1, '8249': 1, '8250': 2, '8251': 0, '8252': 2, '8253': 1, '8254': 1, '8255': 0, '8256': 1, '8257': 1, '8258': 2, '8259': 2, '8260': 1, '8261': 0, '8262': 1, '8263': 2, '8264': 1, '8265': 2, '8266': 1, '8267': 2, '8268': 2, '8269': 1, '8270': 1, '8271': 1, '8272': 0, '8273': 1, '8274': 0, '8275': 2, '8276': 1, '8277': 1, '8278': 2, '8279': 2, '8280': 2, '8281': 2, '8282': 2, '8283': 2, '8284': 1, '8285': 2, '8286': 1, '8287': 2, '8288': 1, '8289': 1, '8290': 2, '8291': 2, '8292': 2, '8293': 1, '8294': 2, '8295': 1, '8296': 1, '8297': 2, '8298': 2, '8299': 2, '8300': 1, '8301': 0, '8302': 1, '8303': 1, '8304': 0, '8305': 0, '8306': 2, '8307': 2, '8308': 2, '8309': 1, '8310': 1, '8311': 1, '8312': 0, '8313': 1, '8314': 1, '8315': 2, '8316': 1, '8317': 1, '8318': 1, '8319': 2, '8320': 2, '8321': 2, '8322': 1, '8323': 1, '8324': 2, '8325': 1, '8326': 2, '8327': 1, '8328': 1, '8329': 0, '8330': 1, '8331': 2, '8332': 2, '8333': 1, '8334': 1, '8335': 2, '8336': 1, '8337': 1, '8338': 1, '8339': 2, '8340': 1, '8341': 2, '8342': 1, '8343': 2, '8344': 1, '8345': 2, '8346': 2, '8347': 2, '8348': 2, '8349': 2, '8350': 0, '8351': 2, '8352': 2, '8353': 2, '8354': 2, '8355': 0, '8356': 0, '8357': 1, '8358': 0, '8359': 0, '8360': 1, '8361': 1, '8362': 1, '8363': 1, '8364': 1, '8365': 2, '8366': 1, '8367': 1, '8368': 2, '8369': 1, '8370': 0, '8371': 2, '8372': 2, '8373': 1, '8374': 2, '8375': 1, '8376': 2, '8377': 2, '8378': 1, '8379': 1, '8380': 2, '8381': 2, '8382': 0, '8383': 1, '8384': 1, '8385': 2, '8386': 2, '8387': 1, '8388': 1, '8389': 2, '8390': 2, '8391': 0, '8392': 1, '8393': 2, '8394': 2, '8395': 2, '8396': 1, '8397': 1, '8398': 1, '8399': 2, '8400': 2, '8401': 2, '8402': 1, '8403': 2, '8404': 1, '8405': 2, '8406': 2, '8407': 1, '8408': 2, '8409': 1, '8410': 1, '8411': 2, '8412': 2, '8413': 2, '8414': 1, '8415': 2, '8416': 0, '8417': 0, '8418': 2, '8419': 2, '8420': 1, '8421': 1, '8422': 1, '8423': 1, '8424': 1, '8425': 1, '8426': 1, '8427': 1, '8428': 2, '8429': 2, '8430': 1, '8431': 1, '8432': 2, '8433': 1, '8434': 2, '8435': 1, '8436': 1, '8437': 1, '8438': 2, '8439': 1, '8440': 2, '8441': 1, '8442': 1, '8443': 1, '8444': 2, '8445': 2, '8446': 0, '8447': 2, '8448': 0, '8449': 2, '8450': 2, '8451': 2, '8452': 2, '8453': 1, '8454': 0, '8455': 2, '8456': 0, '8457': 2, '8458': 2, '8459': 0, '8460': 1, '8461': 1, '8462': 2, '8463': 2, '8464': 2, '8465': 1, '8466': 1, '8467': 1, '8468': 2, '8469': 2, '8470': 1, '8471': 1, '8472': 2, '8473': 1, '8474': 2, '8475': 2, '8476': 1, '8477': 1, '8478': 1, '8479': 1, '8480': 2, '8481': 1, '8482': 2, '8483': 1, '8484': 1, '8485': 2, '8486': 2, '8487': 1, '8488': 2, '8489': 1, '8490': 1, '8491': 1, '8492': 2, '8493': 2, '8494': 1, '8495': 1, '8496': 1, '8497': 1, '8498': 1, '8499': 2, '8500': 2, '8501': 2, '8502': 1, '8503': 2, '8504': 2, '8505': 1, '8506': 2, '8507': 2, '8508': 1, '8509': 1, '8510': 2, '8511': 2, '8512': 1, '8513': 1, '8514': 1, '8515': 0, '8516': 1, '8517': 1, '8518': 0, '8519': 2, '8520': 1, '8521': 2, '8522': 1, '8523': 2, '8524': 2, '8525': 1, '8526': 1, '8527': 1, '8528': 1, '8529': 2, '8530': 2, '8531': 2, '8532': 1, '8533': 0, '8534': 2, '8535': 1, '8536': 1, '8537': 1, '8538': 1, '8539': 1, '8540': 1, '8541': 2, '8542': 1, '8543': 0, '8544': 0, '8545': 1, '8546': 2, '8547': 1, '8548': 2, '8549': 1, '8550': 2, '8551': 2, '8552': 2, '8553': 0, '8554': 2, '8555': 1, '8556': 0, '8557': 2, '8558': 1, '8559': 2, '8560': 1, '8561': 2, '8562': 1, '8563': 1, '8564': 2, '8565': 2, '8566': 1, '8567': 2, '8568': 1, '8569': 2, '8570': 2, '8571': 1, '8572': 1, '8573': 2, '8574': 2, '8575': 1, '8576': 2, '8577': 2, '8578': 2, '8579': 2, '8580': 0, '8581': 2, '8582': 1, '8583': 2, '8584': 2, '8585': 1, '8586': 1, '8587': 1, '8588': 2, '8589': 2, '8590': 2, '8591': 1, '8592': 2, '8593': 2, '8594': 2, '8595': 1, '8596': 1, '8597': 0, '8598': 1, '8599': 1, '8600': 2, '8601': 2, '8602': 2, '8603': 2, '8604': 2, '8605': 2, '8606': 2, '8607': 1, '8608': 0, '8609': 2, '8610': 1, '8611': 1, '8612': 1, '8613': 0, '8614': 2, '8615': 1, '8616': 2, '8617': 1, '8618': 1, '8619': 1, '8620': 2, '8621': 1, '8622': 1, '8623': 2, '8624': 1, '8625': 1, '8626': 1, '8627': 1, '8628': 2, '8629': 2, '8630': 2, '8631': 2, '8632': 2, '8633': 2, '8634': 2, '8635': 1, '8636': 2, '8637': 2, '8638': 2, '8639': 2, '8640': 2, '8641': 2, '8642': 2, '8643': 2, '8644': 1, '8645': 2, '8646': 1, '8647': 2, '8648': 2, '8649': 1, '8650': 2, '8651': 1, '8652': 1, '8653': 2, '8654': 1, '8655': 1, '8656': 0, '8657': 0, '8658': 1, '8659': 2, '8660': 2, '8661': 0, '8662': 2, '8663': 2, '8664': 1, '8665': 2, '8666': 1, '8667': 2, '8668': 1, '8669': 1, '8670': 1, '8671': 1, '8672': 0, '8673': 0, '8674': 2, '8675': 2, '8676': 1, '8677': 1, '8678': 1, '8679': 1, '8680': 2, '8681': 1, '8682': 2, '8683': 2, '8684': 1, '8685': 1, '8686': 1, '8687': 2, '8688': 0, '8689': 0, '8690': 1, '8691': 1, '8692': 2, '8693': 1, '8694': 1, '8695': 1, '8696': 1, '8697': 1, '8698': 2, '8699': 1, '8700': 0, '8701': 0, '8702': 2, '8703': 2, '8704': 1, '8705': 2, '8706': 2, '8707': 1, '8708': 2, '8709': 2, '8710': 1, '8711': 1, '8712': 2, '8713': 2, '8714': 1, '8715': 2, '8716': 1, '8717': 2, '8718': 2, '8719': 2, '8720': 0, '8721': 2, '8722': 2, '8723': 2, '8724': 1, '8725': 2, '8726': 1, '8727': 1, '8728': 2, '8729': 0, '8730': 1, '8731': 0, '8732': 1, '8733': 1, '8734': 2, '8735': 2, '8736': 2, '8737': 1, '8738': 1, '8739': 0, '8740': 2, '8741': 1, '8742': 2, '8743': 2, '8744': 2, '8745': 1, '8746': 1, '8747': 1, '8748': 1, '8749': 1, '8750': 0, '8751': 2, '8752': 0, '8753': 0, '8754': 2, '8755': 2, '8756': 1, '8757': 0, '8758': 2, '8759': 1, '8760': 2, '8761': 1, '8762': 1, '8763': 1, '8764': 2, '8765': 2, '8766': 0, '8767': 2, '8768': 1, '8769': 2, '8770': 1, '8771': 2, '8772': 1, '8773': 2, '8774': 1, '8775': 2, '8776': 0, '8777': 1, '8778': 2, '8779': 1, '8780': 1, '8781': 1, '8782': 2, '8783': 2, '8784': 1, '8785': 2, '8786': 2, '8787': 2, '8788': 1, '8789': 1, '8790': 2, '8791': 1, '8792': 1, '8793': 1, '8794': 1, '8795': 1, '8796': 2, '8797': 2, '8798': 0, '8799': 2, '8800': 1, '8801': 1, '8802': 2, '8803': 2, '8804': 2, '8805': 1, '8806': 1, '8807': 0, '8808': 0, '8809': 1, '8810': 1, '8811': 2, '8812': 2, '8813': 1, '8814': 2, '8815': 2, '8816': 2, '8817': 2, '8818': 2, '8819': 1, '8820': 0, '8821': 1, '8822': 1, '8823': 1, '8824': 0, '8825': 2, '8826': 1, '8827': 1, '8828': 2, '8829': 2, '8830': 1, '8831': 2, '8832': 1, '8833': 2, '8834': 2, '8835': 2, '8836': 1, '8837': 1, '8838': 2, '8839': 1, '8840': 1, '8841': 2, '8842': 1, '8843': 1, '8844': 1, '8845': 1, '8846': 1, '8847': 2, '8848': 2, '8849': 1, '8850': 1, '8851': 1, '8852': 2, '8853': 2, '8854': 2, '8855': 0, '8856': 2, '8857': 1, '8858': 1, '8859': 2, '8860': 2, '8861': 2, '8862': 1, '8863': 1, '8864': 2, '8865': 2, '8866': 2, '8867': 1, '8868': 2, '8869': 2, '8870': 1, '8871': 2, '8872': 1, '8873': 0, '8874': 2, '8875': 1, '8876': 2, '8877': 1, '8878': 2, '8879': 0, '8880': 0, '8881': 2, '8882': 1, '8883': 1, '8884': 2, '8885': 1, '8886': 1, '8887': 1, '8888': 1, '8889': 0, '8890': 1, '8891': 0, '8892': 1, '8893': 0, '8894': 2, '8895': 2, '8896': 2, '8897': 1, '8898': 2, '8899': 1, '8900': 1, '8901': 2, '8902': 2, '8903': 2, '8904': 1, '8905': 2, '8906': 1, '8907': 0, '8908': 1, '8909': 1, '8910': 2, '8911': 0, '8912': 2, '8913': 0, '8914': 1, '8915': 2, '8916': 2, '8917': 2, '8918': 2, '8919': 2, '8920': 1, '8921': 1, '8922': 1, '8923': 1, '8924': 2, '8925': 2, '8926': 0, '8927': 2, '8928': 2, '8929': 2, '8930': 1, '8931': 2, '8932': 1, '8933': 1, '8934': 2, '8935': 2, '8936': 1, '8937': 0, '8938': 2, '8939': 2, '8940': 2, '8941': 1, '8942': 1, '8943': 2, '8944': 1, '8945': 2, '8946': 1, '8947': 1, '8948': 1, '8949': 1, '8950': 1, '8951': 1, '8952': 1, '8953': 1, '8954': 1, '8955': 2, '8956': 2, '8957': 1, '8958': 2, '8959': 1, '8960': 2, '8961': 1, '8962': 2, '8963': 1, '8964': 1, '8965': 1, '8966': 1, '8967': 1, '8968': 1, '8969': 1, '8970': 2, '8971': 2, '8972': 2, '8973': 0, '8974': 1, '8975': 2, '8976': 1, '8977': 2, '8978': 2, '8979': 1, '8980': 1, '8981': 2, '8982': 2, '8983': 1, '8984': 2, '8985': 2, '8986': 2, '8987': 2, '8988': 2, '8989': 1, '8990': 1, '8991': 2, '8992': 1, '8993': 1, '8994': 2, '8995': 1, '8996': 2, '8997': 0, '8998': 2, '8999': 2, '9000': 2, '9001': 1, '9002': 2, '9003': 2, '9004': 1, '9005': 1, '9006': 1, '9007': 2, '9008': 1, '9009': 2, '9010': 1, '9011': 2, '9012': 2, '9013': 1, '9014': 2, '9015': 0, '9016': 1, '9017': 2, '9018': 2, '9019': 1, '9020': 2, '9021': 2, '9022': 2, '9023': 2, '9024': 0, '9025': 1, '9026': 2, '9027': 2, '9028': 1, '9029': 1, '9030': 1, '9031': 2, '9032': 2, '9033': 2, '9034': 1, '9035': 2, '9036': 1, '9037': 1, '9038': 2, '9039': 1, '9040': 2, '9041': 2, '9042': 1, '9043': 2, '9044': 1, '9045': 2, '9046': 2, '9047': 0, '9048': 1, '9049': 2, '9050': 2, '9051': 2, '9052': 2, '9053': 2, '9054': 2, '9055': 2, '9056': 2, '9057': 1, '9058': 0, '9059': 1, '9060': 2, '9061': 2, '9062': 1, '9063': 1, '9064': 2, '9065': 2, '9066': 1, '9067': 1, '9068': 2, '9069': 2, '9070': 2, '9071': 2, '9072': 1, '9073': 2, '9074': 2, '9075': 2, '9076': 2, '9077': 1, '9078': 1, '9079': 1, '9080': 1, '9081': 1, '9082': 2, '9083': 1, '9084': 1, '9085': 2, '9086': 2, '9087': 1, '9088': 1, '9089': 2, '9090': 1, '9091': 1, '9092': 2, '9093': 2, '9094': 1, '9095': 0, '9096': 0, '9097': 2, '9098': 2, '9099': 0, '9100': 2, '9101': 2, '9102': 2, '9103': 2, '9104': 2, '9105': 1, '9106': 2, '9107': 2, '9108': 2, '9109': 2, '9110': 2, '9111': 1, '9112': 1, '9113': 1, '9114': 2, '9115': 2, '9116': 0, '9117': 1, '9118': 2, '9119': 1, '9120': 1, '9121': 1, '9122': 1, '9123': 0, '9124': 1, '9125': 2, '9126': 1, '9127': 2, '9128': 1, '9129': 2, '9130': 2, '9131': 0, '9132': 1, '9133': 2, '9134': 2, '9135': 1, '9136': 2, '9137': 2, '9138': 0, '9139': 1, '9140': 1, '9141': 2, '9142': 1, '9143': 2, '9144': 1, '9145': 2, '9146': 1, '9147': 1, '9148': 2, '9149': 2, '9150': 2, '9151': 1, '9152': 2, '9153': 2, '9154': 1, '9155': 1, '9156': 1, '9157': 2, '9158': 1, '9159': 1, '9160': 2, '9161': 0, '9162': 2, '9163': 1, '9164': 2, '9165': 1, '9166': 1, '9167': 1, '9168': 1, '9169': 1, '9170': 1, '9171': 2, '9172': 2, '9173': 2, '9174': 1, '9175': 1, '9176': 1, '9177': 2, '9178': 2, '9179': 2, '9180': 1, '9181': 1, '9182': 2, '9183': 2, '9184': 1, '9185': 2, '9186': 2, '9187': 2, '9188': 2, '9189': 1, '9190': 1, '9191': 2, '9192': 2, '9193': 0, '9194': 2, '9195': 1, '9196': 1, '9197': 0, '9198': 0, '9199': 2, '9200': 2, '9201': 1, '9202': 1, '9203': 1, '9204': 2, '9205': 2, '9206': 0, '9207': 2, '9208': 1, '9209': 2, '9210': 0, '9211': 1, '9212': 2, '9213': 2, '9214': 1, '9215': 1, '9216': 2, '9217': 1, '9218': 2, '9219': 1, '9220': 2, '9221': 1, '9222': 1, '9223': 2, '9224': 1, '9225': 1, '9226': 1, '9227': 1, '9228': 1, '9229': 1, '9230': 2, '9231': 1, '9232': 2, '9233': 1, '9234': 1, '9235': 1, '9236': 2, '9237': 2, '9238': 0, '9239': 0, '9240': 2, '9241': 2, '9242': 2, '9243': 1, '9244': 2, '9245': 0, '9246': 1, '9247': 1, '9248': 2, '9249': 2, '9250': 2, '9251': 1, '9252': 1, '9253': 2, '9254': 1, '9255': 1, '9256': 2, '9257': 1, '9258': 1, '9259': 2, '9260': 0, '9261': 2, '9262': 2, '9263': 2, '9264': 2, '9265': 1, '9266': 1, '9267': 1, '9268': 2, '9269': 2, '9270': 1, '9271': 2, '9272': 1, '9273': 2, '9274': 1, '9275': 2, '9276': 1, '9277': 2, '9278': 1, '9279': 1, '9280': 1, '9281': 1, '9282': 1, '9283': 2, '9284': 2, '9285': 2, '9286': 1, '9287': 0, '9288': 1, '9289': 2, '9290': 2, '9291': 2, '9292': 2, '9293': 1, '9294': 2, '9295': 1, '9296': 1, '9297': 1, '9298': 1, '9299': 1, '9300': 1, '9301': 2, '9302': 1, '9303': 2, '9304': 1, '9305': 1, '9306': 0, '9307': 2, '9308': 2, '9309': 2, '9310': 1, '9311': 2, '9312': 2, '9313': 1, '9314': 2, '9315': 2, '9316': 2, '9317': 2, '9318': 1, '9319': 1, '9320': 2, '9321': 2, '9322': 1, '9323': 1, '9324': 2, '9325': 2, '9326': 1, '9327': 1, '9328': 2, '9329': 1, '9330': 2, '9331': 2, '9332': 1, '9333': 2, '9334': 2, '9335': 2, '9336': 2, '9337': 1, '9338': 1, '9339': 2, '9340': 2, '9341': 1, '9342': 1, '9343': 1, '9344': 1, '9345': 1, '9346': 2, '9347': 1, '9348': 1, '9349': 1, '9350': 2, '9351': 1, '9352': 1, '9353': 2, '9354': 2, '9355': 2, '9356': 1, '9357': 2, '9358': 1, '9359': 1, '9360': 2, '9361': 2, '9362': 1, '9363': 1, '9364': 1, '9365': 2, '9366': 0, '9367': 2, '9368': 1, '9369': 1, '9370': 2, '9371': 1, '9372': 2, '9373': 2, '9374': 1, '9375': 2, '9376': 2, '9377': 2, '9378': 1, '9379': 1, '9380': 2, '9381': 2, '9382': 2, '9383': 2, '9384': 1, '9385': 2, '9386': 1, '9387': 2, '9388': 1, '9389': 1, '9390': 2, '9391': 2, '9392': 2, '9393': 1, '9394': 1, '9395': 2, '9396': 1, '9397': 2, '9398': 2, '9399': 2, '9400': 1, '9401': 1, '9402': 0, '9403': 2, '9404': 1, '9405': 2, '9406': 1, '9407': 2, '9408': 0, '9409': 2, '9410': 2, '9411': 2, '9412': 2, '9413': 1, '9414': 0, '9415': 1, '9416': 1, '9417': 2, '9418': 0, '9419': 2, '9420': 1, '9421': 2, '9422': 2, '9423': 1, '9424': 2, '9425': 1, '9426': 1, '9427': 1, '9428': 0, '9429': 0, '9430': 2, '9431': 2, '9432': 1, '9433': 1, '9434': 1, '9435': 2, '9436': 1, '9437': 2, '9438': 1, '9439': 2, '9440': 1, '9441': 2, '9442': 1, '9443': 2, '9444': 2, '9445': 2, '9446': 1, '9447': 1, '9448': 2, '9449': 2, '9450': 1, '9451': 0, '9452': 1, '9453': 1, '9454': 1, '9455': 2, '9456': 1, '9457': 2, '9458': 2, '9459': 2, '9460': 2, '9461': 1, '9462': 2, '9463': 2, '9464': 1, '9465': 2, '9466': 1, '9467': 2, '9468': 1, '9469': 2, '9470': 1, '9471': 2, '9472': 2, '9473': 2, '9474': 1, '9475': 1, '9476': 0, '9477': 2, '9478': 2, '9479': 2, '9480': 2, '9481': 1, '9482': 2, '9483': 2, '9484': 0, '9485': 1, '9486': 2, '9487': 1, '9488': 0, '9489': 0, '9490': 1, '9491': 1, '9492': 1, '9493': 2, '9494': 2, '9495': 1, '9496': 2, '9497': 2, '9498': 2, '9499': 2, '9500': 1, '9501': 1, '9502': 1, '9503': 1, '9504': 2, '9505': 2, '9506': 2, '9507': 1, '9508': 1, '9509': 0, '9510': 1, '9511': 2, '9512': 2, '9513': 2, '9514': 1, '9515': 0, '9516': 1, '9517': 1, '9518': 2, '9519': 2, '9520': 2, '9521': 2, '9522': 2, '9523': 2, '9524': 2, '9525': 1, '9526': 1, '9527': 2, '9528': 1, '9529': 2, '9530': 2, '9531': 2, '9532': 1, '9533': 1, '9534': 1, '9535': 2, '9536': 2, '9537': 1, '9538': 1, '9539': 2, '9540': 1, '9541': 1, '9542': 2, '9543': 2, '9544': 2, '9545': 1, '9546': 1, '9547': 1, '9548': 2, '9549': 2, '9550': 2, '9551': 1, '9552': 1, '9553': 2, '9554': 1, '9555': 1, '9556': 2, '9557': 0, '9558': 1, '9559': 2, '9560': 1, '9561': 1, '9562': 1, '9563': 2, '9564': 2, '9565': 2, '9566': 1, '9567': 1, '9568': 2, '9569': 1, '9570': 1, '9571': 2, '9572': 2, '9573': 2, '9574': 1, '9575': 1, '9576': 1, '9577': 0, '9578': 1, '9579': 1, '9580': 1, '9581': 0, '9582': 2, '9583': 2, '9584': 1, '9585': 1, '9586': 2, '9587': 2, '9588': 2, '9589': 1, '9590': 2, '9591': 0, '9592': 0, '9593': 1, '9594': 1, '9595': 1, '9596': 0, '9597': 1, '9598': 2, '9599': 2, '9600': 2, '9601': 2, '9602': 2, '9603': 2, '9604': 1, '9605': 2, '9606': 1, '9607': 1, '9608': 2, '9609': 2, '9610': 2, '9611': 2, '9612': 1, '9613': 2, '9614': 2, '9615': 2, '9616': 2, '9617': 2, '9618': 2, '9619': 1, '9620': 1, '9621': 2, '9622': 1, '9623': 2, '9624': 2, '9625': 2, '9626': 2, '9627': 2, '9628': 0, '9629': 2, '9630': 1, '9631': 1, '9632': 2, '9633': 2, '9634': 1, '9635': 2, '9636': 2, '9637': 1, '9638': 2, '9639': 1, '9640': 0, '9641': 1, '9642': 1, '9643': 2, '9644': 2, '9645': 2, '9646': 2, '9647': 1, '9648': 1, '9649': 0, '9650': 2, '9651': 1, '9652': 0, '9653': 2, '9654': 2, '9655': 2, '9656': 1, '9657': 2, '9658': 1, '9659': 2, '9660': 1, '9661': 1, '9662': 2, '9663': 2, '9664': 2, '9665': 2, '9666': 2, '9667': 1, '9668': 2, '9669': 2, '9670': 1, '9671': 1, '9672': 1, '9673': 1, '9674': 1, '9675': 1, '9676': 1, '9677': 0, '9678': 1, '9679': 0, '9680': 2, '9681': 2, '9682': 1, '9683': 2, '9684': 2, '9685': 0, '9686': 2, '9687': 1, '9688': 2, '9689': 0, '9690': 2, '9691': 2, '9692': 2, '9693': 2, '9694': 2, '9695': 2, '9696': 2, '9697': 1, '9698': 0, '9699': 1, '9700': 2, '9701': 1, '9702': 1, '9703': 1, '9704': 1, '9705': 1, '9706': 1, '9707': 2, '9708': 0, '9709': 2, '9710': 0, '9711': 1, '9712': 2, '9713': 2, '9714': 1, '9715': 2, '9716': 2, '9717': 1, '9718': 0, '9719': 2, '9720': 2, '9721': 1, '9722': 1, '9723': 2, '9724': 0, '9725': 2, '9726': 2, '9727': 2, '9728': 1, '9729': 0, '9730': 1, '9731': 1, '9732': 1, '9733': 1, '9734': 1, '9735': 2, '9736': 1, '9737': 2, '9738': 2, '9739': 2, '9740': 2, '9741': 0, '9742': 1, '9743': 2, '9744': 2, '9745': 0, '9746': 2, '9747': 0, '9748': 1, '9749': 2, '9750': 1, '9751': 2, '9752': 2, '9753': 2, '9754': 1, '9755': 1, '9756': 1, '9757': 2, '9758': 1, '9759': 2, '9760': 2, '9761': 2, '9762': 1, '9763': 1, '9764': 1, '9765': 2, '9766': 1, '9767': 2, '9768': 1, '9769': 1, '9770': 0, '9771': 2, '9772': 0, '9773': 2, '9774': 1, '9775': 2, '9776': 0, '9777': 2, '9778': 2, '9779': 1, '9780': 2, '9781': 2, '9782': 2, '9783': 0, '9784': 1, '9785': 1, '9786': 1, '9787': 1, '9788': 1, '9789': 1, '9790': 2, '9791': 2, '9792': 1, '9793': 1, '9794': 1, '9795': 2, '9796': 1, '9797': 2, '9798': 0, '9799': 1, '9800': 1, '9801': 1, '9802': 1, '9803': 1, '9804': 1, '9805': 2, '9806': 0, '9807': 2, '9808': 0, '9809': 2, '9810': 2, '9811': 2, '9812': 2, '9813': 2, '9814': 2, '9815': 1, '9816': 1, '9817': 2, '9818': 2, '9819': 2, '9820': 1, '9821': 1, '9822': 1, '9823': 1, '9824': 2, '9825': 2, '9826': 2, '9827': 1, '9828': 0, '9829': 0, '9830': 1, '9831': 2, '9832': 1, '9833': 1, '9834': 2, '9835': 1, '9836': 1, '9837': 1, '9838': 1, '9839': 1, '9840': 2, '9841': 1, '9842': 1, '9843': 2, '9844': 0, '9845': 1, '9846': 2, '9847': 2, '9848': 2, '9849': 0, '9850': 1, '9851': 2, '9852': 2, '9853': 1, '9854': 1, '9855': 2, '9856': 1, '9857': 1, '9858': 2, '9859': 1, '9860': 1, '9861': 1, '9862': 2, '9863': 2, '9864': 2, '9865': 2, '9866': 1, '9867': 2, '9868': 0, '9869': 1, '9870': 2, '9871': 0, '9872': 2, '9873': 1, '9874': 2, '9875': 1, '9876': 1, '9877': 1, '9878': 1, '9879': 2, '9880': 2, '9881': 2, '9882': 0, '9883': 0, '9884': 2, '9885': 1, '9886': 1, '9887': 2, '9888': 2, '9889': 2, '9890': 1, '9891': 2, '9892': 0, '9893': 2, '9894': 1}\n",
            "[0, 1, 2]\n"
          ],
          "name": "stdout"
        }
      ]
    },
    {
      "cell_type": "code",
      "metadata": {
        "colab": {
          "base_uri": "https://localhost:8080/"
        },
        "id": "hgQeQr_cLd_r",
        "outputId": "fe80c808-845e-42d1-b494-ab8aeb62327c"
      },
      "source": [
        "N = len(G6)\r\n",
        "Ylabel = np.zeros((N, N2))\r\n",
        "percent = math.ceil(N*0.1)\r\n",
        "initial = 0\r\n",
        "#save the initial matrix\r\n",
        "\r\n",
        "for value in dorm:\r\n",
        "  for value2 in range(N2):\r\n",
        "    if dorm[value] == listdorm2[value2] and dorm[value] != 0 and initial != percent:\r\n",
        "      Ylabel[int(value), value2] = 0\r\n",
        "      initial = initial + 1\r\n",
        "    elif dorm[value] == listdorm2[value2] and dorm[value] != 0 :\r\n",
        "      Ylabel[int(value), value2] = 1\r\n",
        "      \r\n",
        "\r\n",
        "\r\n",
        "print(N)\r\n",
        "print(Ylabel)\r\n",
        "#\r\n",
        "#Ypredicted = label_propagation(G, Ylabel, idLabels)\r\n",
        "#print(Ypredicted)"
      ],
      "execution_count": null,
      "outputs": [
        {
          "output_type": "stream",
          "text": [
            "9895\n",
            "[[0. 0. 0.]\n",
            " [0. 0. 0.]\n",
            " [0. 0. 0.]\n",
            " ...\n",
            " [0. 0. 0.]\n",
            " [0. 0. 1.]\n",
            " [0. 1. 0.]]\n"
          ],
          "name": "stdout"
        }
      ]
    },
    {
      "cell_type": "code",
      "metadata": {
        "colab": {
          "base_uri": "https://localhost:8080/"
        },
        "id": "lpZooiFR7Vas",
        "outputId": "f871043d-6e07-4e77-fecc-4a369b68bcc4"
      },
      "source": [
        "array_try = []\r\n",
        "\r\n",
        "for value in dorm:\r\n",
        "  if (int(value) > N*0.1):\r\n",
        "    array_try.append((int(value), dorm[value]))  \r\n",
        "\r\n",
        "idLabels = (Ylabel.sum(axis=1) == 1)\r\n",
        "Ylabel[idLabels]"
      ],
      "execution_count": null,
      "outputs": [
        {
          "output_type": "execute_result",
          "data": {
            "text/plain": [
              "array([[0., 0., 1.],\n",
              "       [0., 0., 1.],\n",
              "       [0., 0., 1.],\n",
              "       ...,\n",
              "       [0., 0., 1.],\n",
              "       [0., 0., 1.],\n",
              "       [0., 1., 0.]])"
            ]
          },
          "metadata": {
            "tags": []
          },
          "execution_count": 52
        }
      ]
    },
    {
      "cell_type": "code",
      "metadata": {
        "colab": {
          "base_uri": "https://localhost:8080/"
        },
        "id": "gV0Djgn6P19L",
        "outputId": "963979a5-2683-4793-e5f0-49ed33d97fb8"
      },
      "source": [
        "count = 0\r\n",
        "for value in dorm:\r\n",
        "  for value2 in range(N2):\r\n",
        "    if dorm[value] == listdorm2[value2]:\r\n",
        "      count = count + 1\r\n",
        "print(count)"
      ],
      "execution_count": null,
      "outputs": [
        {
          "output_type": "stream",
          "text": [
            "9895\n"
          ],
          "name": "stdout"
        }
      ]
    },
    {
      "cell_type": "code",
      "metadata": {
        "id": "in_TcPqwZGQI"
      },
      "source": [
        "def normalize(G):\r\n",
        "    A = nx.to_numpy_array(G)\r\n",
        "    D = np.sum(A, axis=1)\r\n",
        "    Dinv = np.diag(1./D)\r\n",
        "    return Dinv @ A\r\n",
        "    \r\n",
        "def label_propagation(G, Ylabel, idLabels, tol=1e-3, max_iter=1000):\r\n",
        "    Yfixed = Ylabel.copy()\r\n",
        "    N = len(G)\r\n",
        "    P = normalize(G)\r\n",
        "    Yprev = np.zeros(Ylabel.shape)\r\n",
        "    for _ in range(max_iter):\r\n",
        "        var = np.abs(np.sum(Yprev - Ylabel))\r\n",
        "        if var < tol:\r\n",
        "            break\r\n",
        "        Yprev = Ylabel.copy()\r\n",
        "        Ylabel = np.dot(P, Yprev)\r\n",
        "        Ylabel[idLabels] = Yfixed[idLabels]\r\n",
        "    return Ylabel\r\n"
      ],
      "execution_count": null,
      "outputs": []
    },
    {
      "cell_type": "code",
      "metadata": {
        "colab": {
          "base_uri": "https://localhost:8080/"
        },
        "id": "B3ujereB5iog",
        "outputId": "87e0eb5d-10ce-47b9-d12d-4751b630f34e"
      },
      "source": [
        "Ypredicted = label_propagation(G6, Ylabel, idLabels)\r\n",
        "print(Ypredicted)"
      ],
      "execution_count": null,
      "outputs": [
        {
          "output_type": "stream",
          "text": [
            "[[0.         0.28571429 0.71428571]\n",
            " [0.         0.         1.        ]\n",
            " [0.         1.         0.        ]\n",
            " ...\n",
            " [0.         0.70261046 0.29738954]\n",
            " [0.         0.         1.        ]\n",
            " [0.         1.         0.        ]]\n"
          ],
          "name": "stdout"
        }
      ]
    },
    {
      "cell_type": "code",
      "metadata": {
        "id": "HCfB0ZWkCRkY",
        "colab": {
          "base_uri": "https://localhost:8080/"
        },
        "outputId": "7b083e5b-cc05-412f-ab11-4c53b794fa7e"
      },
      "source": [
        "aux1 = 0\r\n",
        "dictio = {}\r\n",
        "for row in Ypredicted:\r\n",
        "  great = 0\r\n",
        "  for col in row:\r\n",
        "    if (great < col):\r\n",
        "      great = col\r\n",
        "\r\n",
        "  dictio[aux1] = great\r\n",
        "  aux1 = aux1 + 1\r\n",
        "  if aux1 == math.ceil(N*0.1):\r\n",
        "    break  \r\n",
        "print(dictio)"
      ],
      "execution_count": null,
      "outputs": [
        {
          "output_type": "stream",
          "text": [
            "{0: 0.7142857142857143, 1: 1.0, 2: 1.0, 3: 1.0, 4: 1.0, 5: 1.0, 6: 1.0, 7: 1.0, 8: 1.0, 9: 1.0, 10: 1.0, 11: 1.0, 12: 1.0, 13: 1.0, 14: 1.0, 15: 1.0, 16: 1.0, 17: 1.0, 18: 1.0, 19: 1.0, 20: 1.0, 21: 1.0, 22: 1.0, 23: 1.0, 24: 1.0, 25: 1.0, 26: 0.5652173913043477, 27: 1.0, 28: 1.0, 29: 1.0, 30: 1.0, 31: 1.0, 32: 1.0, 33: 1.0, 34: 1.0, 35: 1.0, 36: 1.0, 37: 1.0, 38: 1.0, 39: 1.0, 40: 1.0, 41: 1.0, 42: 1.0, 43: 1.0, 44: 1.0, 45: 1.0, 46: 1.0, 47: 1.0, 48: 1.0, 49: 1.0, 50: 1.0, 51: 1.0, 52: 1.0, 53: 1.0, 54: 1.0, 55: 1.0, 56: 1.0, 57: 1.0, 58: 1.0, 59: 1.0, 60: 0.79501535804071, 61: 1.0, 62: 1.0, 63: 1.0, 64: 1.0, 65: 1.0, 66: 1.0, 67: 1.0, 68: 1.0, 69: 1.0, 70: 1.0, 71: 1.0, 72: 1.0, 73: 1.0, 74: 1.0, 75: 1.0, 76: 1.0, 77: 1.0, 78: 1.0, 79: 1.0, 80: 1.0, 81: 1.0, 82: 1.0, 83: 1.0, 84: 1.0, 85: 1.0, 86: 1.0, 87: 1.0, 88: 1.0, 89: 1.0, 90: 1.0, 91: 1.0, 92: 1.0, 93: 1.0, 94: 1.0, 95: 1.0, 96: 1.0, 97: 1.0, 98: 1.0, 99: 1.0, 100: 1.0, 101: 1.0, 102: 1.0, 103: 1.0, 104: 0.75, 105: 1.0, 106: 1.0, 107: 1.0, 108: 1.0, 109: 1.0, 110: 1.0, 111: 1.0, 112: 0.7001599268143515, 113: 1.0, 114: 1.0, 115: 1.0, 116: 1.0, 117: 1.0, 118: 1.0, 119: 1.0, 120: 1.0, 121: 0.5714285714285716, 122: 1.0, 123: 1.0, 124: 1.0, 125: 1.0, 126: 1.0, 127: 1.0, 128: 1.0, 129: 1.0, 130: 1.0, 131: 1.0, 132: 1.0, 133: 1.0, 134: 1.0, 135: 1.0, 136: 0.6055803491176179, 137: 1.0, 138: 1.0, 139: 1.0, 140: 1.0, 141: 1.0, 142: 1.0, 143: 1.0, 144: 1.0, 145: 1.0, 146: 0.5217592804480309, 147: 1.0, 148: 1.0, 149: 1.0, 150: 1.0, 151: 1.0, 152: 1.0, 153: 1.0, 154: 1.0, 155: 1.0, 156: 1.0, 157: 1.0, 158: 1.0, 159: 1.0, 160: 1.0, 161: 1.0, 162: 1.0, 163: 1.0, 164: 1.0, 165: 1.0, 166: 1.0, 167: 1.0, 168: 1.0, 169: 1.0, 170: 1.0, 171: 1.0, 172: 1.0, 173: 1.0, 174: 1.0, 175: 1.0, 176: 1.0, 177: 1.0, 178: 1.0, 179: 1.0, 180: 1.0, 181: 1.0, 182: 1.0, 183: 1.0, 184: 1.0, 185: 1.0, 186: 1.0, 187: 1.0, 188: 1.0, 189: 1.0, 190: 0.6253972670501184, 191: 1.0, 192: 1.0, 193: 1.0, 194: 1.0, 195: 1.0, 196: 1.0, 197: 1.0, 198: 1.0, 199: 1.0, 200: 0.5012024111435996, 201: 1.0, 202: 1.0, 203: 1.0, 204: 1.0, 205: 1.0, 206: 1.0, 207: 1.0, 208: 1.0, 209: 1.0, 210: 1.0, 211: 1.0, 212: 1.0, 213: 1.0, 214: 1.0, 215: 1.0, 216: 1.0, 217: 0.7782581378091153, 218: 1.0, 219: 1.0, 220: 1.0, 221: 1.0, 222: 0.6427477694392719, 223: 1.0, 224: 1.0, 225: 1.0, 226: 1.0, 227: 1.0, 228: 1.0, 229: 1.0, 230: 1.0, 231: 1.0, 232: 1.0, 233: 1.0, 234: 1.0, 235: 1.0, 236: 0.5017505188160514, 237: 0.6727656181251852, 238: 1.0, 239: 0.5551481010249548, 240: 1.0, 241: 1.0, 242: 1.0, 243: 0.6666666666666666, 244: 1.0, 245: 1.0, 246: 1.0, 247: 1.0, 248: 1.0, 249: 1.0, 250: 0.5330205939099638, 251: 1.0, 252: 1.0, 253: 1.0, 254: 1.0, 255: 1.0, 256: 1.0, 257: 1.0, 258: 1.0, 259: 0.5, 260: 1.0, 261: 1.0, 262: 1.0, 263: 1.0, 264: 1.0, 265: 1.0, 266: 1.0, 267: 1.0, 268: 1.0, 269: 1.0, 270: 1.0, 271: 1.0, 272: 1.0, 273: 1.0, 274: 1.0, 275: 1.0, 276: 1.0, 277: 1.0, 278: 0.6197319806754262, 279: 1.0, 280: 1.0, 281: 1.0, 282: 1.0, 283: 1.0, 284: 1.0, 285: 1.0, 286: 1.0, 287: 1.0, 288: 1.0, 289: 1.0, 290: 1.0, 291: 1.0, 292: 1.0, 293: 1.0, 294: 1.0, 295: 1.0, 296: 1.0, 297: 0.5118242355258213, 298: 1.0, 299: 1.0, 300: 0.6666666666666666, 301: 1.0, 302: 1.0, 303: 1.0, 304: 1.0, 305: 1.0, 306: 1.0, 307: 1.0, 308: 1.0, 309: 1.0, 310: 1.0, 311: 1.0, 312: 1.0, 313: 1.0, 314: 1.0, 315: 1.0, 316: 1.0, 317: 0.5079927295805357, 318: 1.0, 319: 1.0, 320: 1.0, 321: 1.0, 322: 1.0, 323: 1.0, 324: 1.0, 325: 1.0, 326: 1.0, 327: 1.0, 328: 1.0, 329: 1.0, 330: 1.0, 331: 1.0, 332: 1.0, 333: 1.0, 334: 1.0, 335: 1.0, 336: 1.0, 337: 1.0, 338: 1.0, 339: 0.7395073692626251, 340: 1.0, 341: 1.0, 342: 1.0, 343: 1.0, 344: 1.0, 345: 1.0, 346: 1.0, 347: 1.0, 348: 1.0, 349: 1.0, 350: 1.0, 351: 1.0, 352: 1.0, 353: 1.0, 354: 1.0, 355: 1.0, 356: 1.0, 357: 1.0, 358: 1.0, 359: 1.0, 360: 1.0, 361: 1.0, 362: 1.0, 363: 1.0, 364: 1.0, 365: 1.0, 366: 1.0, 367: 1.0, 368: 1.0, 369: 1.0, 370: 1.0, 371: 1.0, 372: 1.0, 373: 1.0, 374: 1.0, 375: 1.0, 376: 1.0, 377: 1.0, 378: 1.0, 379: 1.0, 380: 0.6084667188495714, 381: 1.0, 382: 1.0, 383: 1.0, 384: 1.0, 385: 1.0, 386: 1.0, 387: 1.0, 388: 1.0, 389: 1.0, 390: 1.0, 391: 1.0, 392: 1.0, 393: 1.0, 394: 1.0, 395: 1.0, 396: 1.0, 397: 1.0, 398: 1.0, 399: 1.0, 400: 1.0, 401: 1.0, 402: 1.0, 403: 1.0, 404: 1.0, 405: 1.0, 406: 1.0, 407: 1.0, 408: 1.0, 409: 1.0, 410: 1.0, 411: 1.0, 412: 1.0, 413: 1.0, 414: 1.0, 415: 1.0, 416: 1.0, 417: 1.0, 418: 1.0, 419: 1.0, 420: 1.0, 421: 1.0, 422: 1.0, 423: 1.0, 424: 1.0, 425: 1.0, 426: 1.0, 427: 0.6666666666666666, 428: 1.0, 429: 1.0, 430: 1.0, 431: 1.0, 432: 1.0, 433: 1.0, 434: 1.0, 435: 1.0, 436: 1.0, 437: 1.0, 438: 1.0, 439: 1.0, 440: 1.0, 441: 1.0, 442: 1.0, 443: 1.0, 444: 0.8, 445: 1.0, 446: 1.0, 447: 1.0, 448: 0.5476278579186312, 449: 1.0, 450: 1.0, 451: 1.0, 452: 1.0, 453: 1.0, 454: 0.7251070119686854, 455: 0.6074111370536025, 456: 1.0, 457: 1.0, 458: 1.0, 459: 1.0, 460: 1.0, 461: 1.0, 462: 1.0, 463: 1.0, 464: 1.0, 465: 1.0, 466: 1.0, 467: 1.0, 468: 1.0, 469: 1.0, 470: 1.0, 471: 1.0, 472: 1.0, 473: 1.0, 474: 1.0, 475: 1.0, 476: 0.6717160253117019, 477: 1.0, 478: 1.0, 479: 1.0, 480: 1.0, 481: 1.0, 482: 1.0, 483: 1.0, 484: 1.0, 485: 1.0, 486: 0.5943121645988869, 487: 1.0, 488: 1.0, 489: 1.0, 490: 1.0, 491: 1.0, 492: 0.5477525728988684, 493: 1.0, 494: 1.0, 495: 1.0, 496: 1.0, 497: 1.0, 498: 1.0, 499: 1.0, 500: 1.0, 501: 1.0, 502: 1.0, 503: 1.0, 504: 1.0, 505: 1.0, 506: 1.0, 507: 1.0, 508: 1.0, 509: 1.0, 510: 1.0, 511: 1.0, 512: 1.0, 513: 0.6000000000000001, 514: 0.5, 515: 1.0, 516: 1.0, 517: 1.0, 518: 1.0, 519: 1.0, 520: 1.0, 521: 1.0, 522: 1.0, 523: 1.0, 524: 1.0, 525: 1.0, 526: 1.0, 527: 1.0, 528: 1.0, 529: 0.5735637374888838, 530: 1.0, 531: 1.0, 532: 1.0, 533: 1.0, 534: 1.0, 535: 1.0, 536: 1.0, 537: 1.0, 538: 1.0, 539: 1.0, 540: 1.0, 541: 1.0, 542: 1.0, 543: 1.0, 544: 1.0, 545: 1.0, 546: 1.0, 547: 1.0, 548: 1.0, 549: 1.0, 550: 1.0, 551: 1.0, 552: 1.0, 553: 1.0, 554: 1.0, 555: 1.0, 556: 1.0, 557: 1.0, 558: 1.0, 559: 1.0, 560: 1.0, 561: 1.0, 562: 1.0, 563: 1.0, 564: 1.0, 565: 1.0, 566: 1.0, 567: 1.0, 568: 1.0, 569: 1.0, 570: 1.0, 571: 1.0, 572: 1.0, 573: 0.8888888888888891, 574: 1.0, 575: 1.0, 576: 1.0, 577: 1.0, 578: 1.0, 579: 1.0, 580: 0.857142857142857, 581: 1.0, 582: 1.0, 583: 1.0, 584: 1.0, 585: 1.0, 586: 1.0, 587: 1.0, 588: 1.0, 589: 1.0, 590: 1.0, 591: 1.0, 592: 1.0, 593: 1.0, 594: 1.0, 595: 1.0, 596: 1.0, 597: 1.0, 598: 1.0, 599: 1.0, 600: 1.0, 601: 1.0, 602: 1.0, 603: 1.0, 604: 1.0, 605: 1.0, 606: 1.0, 607: 1.0, 608: 1.0, 609: 1.0, 610: 1.0, 611: 1.0, 612: 1.0, 613: 1.0, 614: 1.0, 615: 1.0, 616: 1.0, 617: 1.0, 618: 1.0, 619: 1.0, 620: 1.0, 621: 1.0, 622: 1.0, 623: 1.0, 624: 1.0, 625: 1.0, 626: 1.0, 627: 1.0, 628: 1.0, 629: 1.0, 630: 1.0, 631: 1.0, 632: 1.0, 633: 0.57366188911138, 634: 1.0, 635: 1.0, 636: 1.0, 637: 1.0, 638: 0.5913398191935361, 639: 1.0, 640: 1.0, 641: 1.0, 642: 1.0, 643: 1.0, 644: 1.0, 645: 1.0, 646: 1.0, 647: 1.0, 648: 1.0, 649: 1.0, 650: 1.0, 651: 1.0, 652: 1.0, 653: 1.0, 654: 1.0, 655: 1.0, 656: 1.0, 657: 1.0, 658: 1.0, 659: 1.0, 660: 1.0, 661: 1.0, 662: 1.0, 663: 0.7030790181819762, 664: 1.0, 665: 1.0, 666: 0.6506262043590658, 667: 1.0, 668: 1.0, 669: 1.0, 670: 1.0, 671: 1.0, 672: 1.0, 673: 1.0, 674: 1.0, 675: 1.0, 676: 1.0, 677: 1.0, 678: 1.0, 679: 1.0, 680: 1.0, 681: 1.0, 682: 1.0, 683: 1.0, 684: 0.7090534548732684, 685: 1.0, 686: 1.0, 687: 1.0, 688: 1.0, 689: 1.0, 690: 1.0, 691: 0.6366311559060751, 692: 1.0, 693: 1.0, 694: 1.0, 695: 1.0, 696: 1.0, 697: 1.0, 698: 1.0, 699: 1.0, 700: 1.0, 701: 1.0, 702: 1.0, 703: 1.0, 704: 1.0, 705: 1.0, 706: 1.0, 707: 1.0, 708: 1.0, 709: 1.0, 710: 1.0, 711: 1.0, 712: 1.0, 713: 1.0, 714: 1.0, 715: 1.0, 716: 1.0, 717: 1.0, 718: 1.0, 719: 1.0, 720: 1.0, 721: 1.0, 722: 1.0, 723: 1.0, 724: 1.0, 725: 1.0, 726: 0.608225634595798, 727: 1.0, 728: 1.0, 729: 0.9999999999964593, 730: 0.7141381676154982, 731: 0.8139457536555044, 732: 1.0, 733: 1.0, 734: 1.0, 735: 1.0, 736: 1.0, 737: 1.0, 738: 1.0, 739: 0.7206997504109915, 740: 1.0, 741: 1.0, 742: 1.0, 743: 1.0, 744: 1.0, 745: 1.0, 746: 1.0, 747: 1.0, 748: 1.0, 749: 1.0, 750: 1.0, 751: 1.0, 752: 1.0, 753: 1.0, 754: 1.0, 755: 1.0, 756: 1.0, 757: 1.0, 758: 1.0, 759: 1.0, 760: 1.0, 761: 1.0, 762: 1.0, 763: 1.0, 764: 1.0, 765: 0.8386914251080214, 766: 1.0, 767: 1.0, 768: 1.0, 769: 1.0, 770: 1.0, 771: 1.0, 772: 1.0, 773: 1.0, 774: 1.0, 775: 1.0, 776: 1.0, 777: 1.0, 778: 1.0, 779: 1.0, 780: 1.0, 781: 1.0, 782: 1.0, 783: 1.0, 784: 1.0, 785: 1.0, 786: 0.6424912995690613, 787: 1.0, 788: 1.0, 789: 0.6423397835944415, 790: 1.0, 791: 1.0, 792: 1.0, 793: 1.0, 794: 1.0, 795: 1.0, 796: 1.0, 797: 1.0, 798: 1.0, 799: 1.0, 800: 1.0, 801: 1.0, 802: 1.0, 803: 1.0, 804: 1.0, 805: 1.0, 806: 1.0, 807: 1.0, 808: 1.0, 809: 1.0, 810: 1.0, 811: 1.0, 812: 1.0, 813: 1.0, 814: 1.0, 815: 1.0, 816: 1.0, 817: 1.0, 818: 1.0, 819: 1.0, 820: 1.0, 821: 1.0, 822: 1.0, 823: 1.0, 824: 1.0, 825: 1.0, 826: 1.0, 827: 1.0, 828: 1.0, 829: 1.0, 830: 1.0, 831: 1.0, 832: 1.0, 833: 1.0, 834: 1.0, 835: 1.0, 836: 1.0, 837: 1.0, 838: 1.0, 839: 1.0, 840: 0.5961453061098699, 841: 1.0, 842: 1.0, 843: 1.0, 844: 1.0, 845: 1.0, 846: 1.0, 847: 1.0, 848: 1.0, 849: 0.5435110411246198, 850: 1.0, 851: 1.0, 852: 1.0, 853: 1.0, 854: 0.5172018012280418, 855: 1.0, 856: 1.0, 857: 1.0, 858: 1.0, 859: 1.0, 860: 1.0, 861: 1.0, 862: 1.0, 863: 1.0, 864: 1.0, 865: 1.0, 866: 1.0, 867: 1.0, 868: 1.0, 869: 1.0, 870: 1.0, 871: 1.0, 872: 1.0, 873: 1.0, 874: 1.0, 875: 1.0, 876: 1.0, 877: 1.0, 878: 1.0, 879: 1.0, 880: 1.0, 881: 1.0, 882: 0.6227643028542088, 883: 1.0, 884: 1.0, 885: 1.0, 886: 0.8, 887: 1.0, 888: 1.0, 889: 1.0, 890: 1.0, 891: 1.0, 892: 1.0, 893: 0.5242783687389329, 894: 1.0, 895: 1.0, 896: 1.0, 897: 1.0, 898: 1.0, 899: 1.0, 900: 1.0, 901: 1.0, 902: 1.0, 903: 1.0, 904: 1.0, 905: 1.0, 906: 1.0, 907: 1.0, 908: 1.0, 909: 1.0, 910: 1.0, 911: 0.6154869977374714, 912: 1.0, 913: 1.0, 914: 0.5, 915: 1.0, 916: 1.0, 917: 1.0, 918: 0.5128133702252194, 919: 1.0, 920: 1.0, 921: 1.0, 922: 1.0, 923: 1.0, 924: 1.0, 925: 1.0, 926: 1.0, 927: 1.0, 928: 1.0, 929: 1.0, 930: 1.0, 931: 1.0, 932: 0.5336957152945109, 933: 1.0, 934: 1.0, 935: 1.0, 936: 1.0, 937: 1.0, 938: 1.0, 939: 1.0, 940: 1.0, 941: 1.0, 942: 1.0, 943: 1.0, 944: 1.0, 945: 1.0, 946: 1.0, 947: 1.0, 948: 1.0, 949: 1.0, 950: 1.0, 951: 1.0, 952: 1.0, 953: 0.7612132604288838, 954: 1.0, 955: 1.0, 956: 1.0, 957: 1.0, 958: 1.0, 959: 1.0, 960: 1.0, 961: 1.0, 962: 1.0, 963: 1.0, 964: 0.5480625763045472, 965: 1.0, 966: 1.0, 967: 1.0, 968: 1.0, 969: 1.0, 970: 1.0, 971: 1.0, 972: 1.0, 973: 1.0, 974: 1.0, 975: 1.0, 976: 1.0, 977: 1.0, 978: 1.0, 979: 0.5307574826961324, 980: 1.0, 981: 1.0, 982: 1.0, 983: 1.0, 984: 1.0, 985: 1.0, 986: 1.0, 987: 1.0, 988: 1.0, 989: 1.0}\n"
          ],
          "name": "stdout"
        }
      ]
    },
    {
      "cell_type": "code",
      "metadata": {
        "colab": {
          "base_uri": "https://localhost:8080/"
        },
        "id": "bJgYUTBsYWHk",
        "outputId": "7ceeadb2-2055-45d2-94fa-c3e2c4d08149"
      },
      "source": [
        "acc = {}\r\n",
        "for value in range(math.ceil(N*0.1)):\r\n",
        "  acc[value] = dorm[str(value)] - dictio[value]\r\n",
        "\r\n",
        "acc"
      ],
      "execution_count": null,
      "outputs": [
        {
          "output_type": "execute_result",
          "data": {
            "text/plain": [
              "{0: -0.7142857142857143,\n",
              " 1: 1.0,\n",
              " 2: 0.0,\n",
              " 3: 0.0,\n",
              " 4: 0.0,\n",
              " 5: 0.0,\n",
              " 6: 0.0,\n",
              " 7: 1.0,\n",
              " 8: 0.0,\n",
              " 9: 1.0,\n",
              " 10: 1.0,\n",
              " 11: 0.0,\n",
              " 12: 1.0,\n",
              " 13: 0.0,\n",
              " 14: 1.0,\n",
              " 15: 0.0,\n",
              " 16: 1.0,\n",
              " 17: 0.0,\n",
              " 18: 0.0,\n",
              " 19: 1.0,\n",
              " 20: 1.0,\n",
              " 21: 1.0,\n",
              " 22: 0.0,\n",
              " 23: 0.0,\n",
              " 24: 1.0,\n",
              " 25: 1.0,\n",
              " 26: -0.5652173913043477,\n",
              " 27: 0.0,\n",
              " 28: 0.0,\n",
              " 29: 0.0,\n",
              " 30: 0.0,\n",
              " 31: 0.0,\n",
              " 32: 1.0,\n",
              " 33: 0.0,\n",
              " 34: 0.0,\n",
              " 35: 1.0,\n",
              " 36: 1.0,\n",
              " 37: 1.0,\n",
              " 38: 1.0,\n",
              " 39: 1.0,\n",
              " 40: 1.0,\n",
              " 41: 0.0,\n",
              " 42: 0.0,\n",
              " 43: 1.0,\n",
              " 44: 1.0,\n",
              " 45: 1.0,\n",
              " 46: 0.0,\n",
              " 47: 1.0,\n",
              " 48: 0.0,\n",
              " 49: 0.0,\n",
              " 50: 1.0,\n",
              " 51: 0.0,\n",
              " 52: 0.0,\n",
              " 53: 1.0,\n",
              " 54: 1.0,\n",
              " 55: 0.0,\n",
              " 56: 1.0,\n",
              " 57: 0.0,\n",
              " 58: 0.0,\n",
              " 59: 0.0,\n",
              " 60: -0.79501535804071,\n",
              " 61: 0.0,\n",
              " 62: 1.0,\n",
              " 63: 0.0,\n",
              " 64: 1.0,\n",
              " 65: 1.0,\n",
              " 66: 0.0,\n",
              " 67: 1.0,\n",
              " 68: 1.0,\n",
              " 69: 0.0,\n",
              " 70: 1.0,\n",
              " 71: 0.0,\n",
              " 72: 1.0,\n",
              " 73: 0.0,\n",
              " 74: 0.0,\n",
              " 75: 1.0,\n",
              " 76: 0.0,\n",
              " 77: 1.0,\n",
              " 78: 1.0,\n",
              " 79: 0.0,\n",
              " 80: 0.0,\n",
              " 81: 0.0,\n",
              " 82: 1.0,\n",
              " 83: 0.0,\n",
              " 84: 1.0,\n",
              " 85: 1.0,\n",
              " 86: 0.0,\n",
              " 87: 1.0,\n",
              " 88: 1.0,\n",
              " 89: 1.0,\n",
              " 90: 0.0,\n",
              " 91: 1.0,\n",
              " 92: 1.0,\n",
              " 93: 0.0,\n",
              " 94: 1.0,\n",
              " 95: -1.0,\n",
              " 96: 0.0,\n",
              " 97: 1.0,\n",
              " 98: 1.0,\n",
              " 99: 0.0,\n",
              " 100: 0.0,\n",
              " 101: 1.0,\n",
              " 102: 1.0,\n",
              " 103: 1.0,\n",
              " 104: -0.75,\n",
              " 105: 0.0,\n",
              " 106: 0.0,\n",
              " 107: 0.0,\n",
              " 108: 1.0,\n",
              " 109: 0.0,\n",
              " 110: 0.0,\n",
              " 111: 1.0,\n",
              " 112: -0.7001599268143515,\n",
              " 113: 0.0,\n",
              " 114: 0.0,\n",
              " 115: 0.0,\n",
              " 116: 1.0,\n",
              " 117: 0.0,\n",
              " 118: 0.0,\n",
              " 119: 1.0,\n",
              " 120: -1.0,\n",
              " 121: -0.5714285714285716,\n",
              " 122: 0.0,\n",
              " 123: 0.0,\n",
              " 124: 1.0,\n",
              " 125: 0.0,\n",
              " 126: 1.0,\n",
              " 127: 1.0,\n",
              " 128: 1.0,\n",
              " 129: 1.0,\n",
              " 130: 0.0,\n",
              " 131: 1.0,\n",
              " 132: 0.0,\n",
              " 133: 1.0,\n",
              " 134: 1.0,\n",
              " 135: 1.0,\n",
              " 136: -0.6055803491176179,\n",
              " 137: 0.0,\n",
              " 138: 0.0,\n",
              " 139: 0.0,\n",
              " 140: 0.0,\n",
              " 141: 1.0,\n",
              " 142: 0.0,\n",
              " 143: 1.0,\n",
              " 144: 0.0,\n",
              " 145: 0.0,\n",
              " 146: -0.5217592804480309,\n",
              " 147: 0.0,\n",
              " 148: 1.0,\n",
              " 149: 0.0,\n",
              " 150: 1.0,\n",
              " 151: 1.0,\n",
              " 152: 1.0,\n",
              " 153: 0.0,\n",
              " 154: 1.0,\n",
              " 155: 0.0,\n",
              " 156: 0.0,\n",
              " 157: 0.0,\n",
              " 158: 1.0,\n",
              " 159: 1.0,\n",
              " 160: 1.0,\n",
              " 161: 1.0,\n",
              " 162: 0.0,\n",
              " 163: 0.0,\n",
              " 164: 1.0,\n",
              " 165: 1.0,\n",
              " 166: 0.0,\n",
              " 167: 1.0,\n",
              " 168: 1.0,\n",
              " 169: 0.0,\n",
              " 170: 1.0,\n",
              " 171: 0.0,\n",
              " 172: 0.0,\n",
              " 173: 1.0,\n",
              " 174: 1.0,\n",
              " 175: 0.0,\n",
              " 176: 0.0,\n",
              " 177: 1.0,\n",
              " 178: 1.0,\n",
              " 179: 0.0,\n",
              " 180: 1.0,\n",
              " 181: 0.0,\n",
              " 182: 0.0,\n",
              " 183: 1.0,\n",
              " 184: 0.0,\n",
              " 185: 1.0,\n",
              " 186: 1.0,\n",
              " 187: 0.0,\n",
              " 188: 0.0,\n",
              " 189: 0.0,\n",
              " 190: -0.6253972670501184,\n",
              " 191: 0.0,\n",
              " 192: 1.0,\n",
              " 193: 1.0,\n",
              " 194: 1.0,\n",
              " 195: 1.0,\n",
              " 196: 1.0,\n",
              " 197: 0.0,\n",
              " 198: 1.0,\n",
              " 199: 0.0,\n",
              " 200: -0.5012024111435996,\n",
              " 201: 0.0,\n",
              " 202: 0.0,\n",
              " 203: 1.0,\n",
              " 204: 0.0,\n",
              " 205: 0.0,\n",
              " 206: 1.0,\n",
              " 207: 1.0,\n",
              " 208: 1.0,\n",
              " 209: 1.0,\n",
              " 210: 0.0,\n",
              " 211: 1.0,\n",
              " 212: 1.0,\n",
              " 213: 1.0,\n",
              " 214: 0.0,\n",
              " 215: 1.0,\n",
              " 216: 1.0,\n",
              " 217: -0.7782581378091153,\n",
              " 218: 1.0,\n",
              " 219: -1.0,\n",
              " 220: 0.0,\n",
              " 221: 1.0,\n",
              " 222: -0.6427477694392719,\n",
              " 223: 0.0,\n",
              " 224: 1.0,\n",
              " 225: 1.0,\n",
              " 226: 1.0,\n",
              " 227: 1.0,\n",
              " 228: 0.0,\n",
              " 229: 0.0,\n",
              " 230: 1.0,\n",
              " 231: 0.0,\n",
              " 232: 1.0,\n",
              " 233: 0.0,\n",
              " 234: 1.0,\n",
              " 235: 1.0,\n",
              " 236: -0.5017505188160514,\n",
              " 237: -0.6727656181251852,\n",
              " 238: -1.0,\n",
              " 239: -0.5551481010249548,\n",
              " 240: 0.0,\n",
              " 241: 0.0,\n",
              " 242: 0.0,\n",
              " 243: -0.6666666666666666,\n",
              " 244: 0.0,\n",
              " 245: 0.0,\n",
              " 246: 0.0,\n",
              " 247: 0.0,\n",
              " 248: 1.0,\n",
              " 249: 1.0,\n",
              " 250: -0.5330205939099638,\n",
              " 251: 1.0,\n",
              " 252: 0.0,\n",
              " 253: 1.0,\n",
              " 254: 1.0,\n",
              " 255: -1.0,\n",
              " 256: -1.0,\n",
              " 257: 0.0,\n",
              " 258: 1.0,\n",
              " 259: -0.5,\n",
              " 260: 0.0,\n",
              " 261: 1.0,\n",
              " 262: 0.0,\n",
              " 263: 1.0,\n",
              " 264: 1.0,\n",
              " 265: 1.0,\n",
              " 266: 1.0,\n",
              " 267: 1.0,\n",
              " 268: 0.0,\n",
              " 269: 0.0,\n",
              " 270: 1.0,\n",
              " 271: 1.0,\n",
              " 272: 1.0,\n",
              " 273: 1.0,\n",
              " 274: 0.0,\n",
              " 275: 0.0,\n",
              " 276: 0.0,\n",
              " 277: 1.0,\n",
              " 278: -0.6197319806754262,\n",
              " 279: 1.0,\n",
              " 280: 1.0,\n",
              " 281: 1.0,\n",
              " 282: 0.0,\n",
              " 283: 1.0,\n",
              " 284: 1.0,\n",
              " 285: 0.0,\n",
              " 286: 0.0,\n",
              " 287: 1.0,\n",
              " 288: 0.0,\n",
              " 289: 0.0,\n",
              " 290: 1.0,\n",
              " 291: 0.0,\n",
              " 292: 0.0,\n",
              " 293: 0.0,\n",
              " 294: 1.0,\n",
              " 295: 0.0,\n",
              " 296: 0.0,\n",
              " 297: -0.5118242355258213,\n",
              " 298: 1.0,\n",
              " 299: 1.0,\n",
              " 300: -0.6666666666666666,\n",
              " 301: 1.0,\n",
              " 302: 0.0,\n",
              " 303: 1.0,\n",
              " 304: 1.0,\n",
              " 305: 0.0,\n",
              " 306: 0.0,\n",
              " 307: 1.0,\n",
              " 308: 1.0,\n",
              " 309: 1.0,\n",
              " 310: 0.0,\n",
              " 311: 1.0,\n",
              " 312: 0.0,\n",
              " 313: 1.0,\n",
              " 314: 0.0,\n",
              " 315: 0.0,\n",
              " 316: 1.0,\n",
              " 317: -0.5079927295805357,\n",
              " 318: -1.0,\n",
              " 319: 0.0,\n",
              " 320: 0.0,\n",
              " 321: 1.0,\n",
              " 322: 1.0,\n",
              " 323: 0.0,\n",
              " 324: 0.0,\n",
              " 325: 1.0,\n",
              " 326: 1.0,\n",
              " 327: 1.0,\n",
              " 328: 1.0,\n",
              " 329: 1.0,\n",
              " 330: 1.0,\n",
              " 331: 0.0,\n",
              " 332: 0.0,\n",
              " 333: 1.0,\n",
              " 334: 0.0,\n",
              " 335: 0.0,\n",
              " 336: 1.0,\n",
              " 337: 1.0,\n",
              " 338: 0.0,\n",
              " 339: -0.7395073692626251,\n",
              " 340: 1.0,\n",
              " 341: 0.0,\n",
              " 342: 0.0,\n",
              " 343: 1.0,\n",
              " 344: 1.0,\n",
              " 345: 1.0,\n",
              " 346: 0.0,\n",
              " 347: 1.0,\n",
              " 348: 1.0,\n",
              " 349: 0.0,\n",
              " 350: 0.0,\n",
              " 351: 1.0,\n",
              " 352: 1.0,\n",
              " 353: 1.0,\n",
              " 354: 0.0,\n",
              " 355: 1.0,\n",
              " 356: 1.0,\n",
              " 357: 0.0,\n",
              " 358: 1.0,\n",
              " 359: 1.0,\n",
              " 360: 1.0,\n",
              " 361: 1.0,\n",
              " 362: 1.0,\n",
              " 363: 1.0,\n",
              " 364: 0.0,\n",
              " 365: 1.0,\n",
              " 366: 0.0,\n",
              " 367: 1.0,\n",
              " 368: 1.0,\n",
              " 369: 1.0,\n",
              " 370: 1.0,\n",
              " 371: 1.0,\n",
              " 372: 1.0,\n",
              " 373: 0.0,\n",
              " 374: 1.0,\n",
              " 375: 0.0,\n",
              " 376: 0.0,\n",
              " 377: 0.0,\n",
              " 378: 1.0,\n",
              " 379: 0.0,\n",
              " 380: -0.6084667188495714,\n",
              " 381: 0.0,\n",
              " 382: 1.0,\n",
              " 383: 1.0,\n",
              " 384: 1.0,\n",
              " 385: 0.0,\n",
              " 386: 0.0,\n",
              " 387: 0.0,\n",
              " 388: 1.0,\n",
              " 389: 0.0,\n",
              " 390: 1.0,\n",
              " 391: 0.0,\n",
              " 392: 1.0,\n",
              " 393: 1.0,\n",
              " 394: 1.0,\n",
              " 395: 0.0,\n",
              " 396: 1.0,\n",
              " 397: 1.0,\n",
              " 398: 1.0,\n",
              " 399: 0.0,\n",
              " 400: 1.0,\n",
              " 401: 1.0,\n",
              " 402: 0.0,\n",
              " 403: 0.0,\n",
              " 404: 0.0,\n",
              " 405: 0.0,\n",
              " 406: 1.0,\n",
              " 407: 1.0,\n",
              " 408: 0.0,\n",
              " 409: 0.0,\n",
              " 410: 0.0,\n",
              " 411: 1.0,\n",
              " 412: 1.0,\n",
              " 413: 1.0,\n",
              " 414: 0.0,\n",
              " 415: 1.0,\n",
              " 416: 0.0,\n",
              " 417: 1.0,\n",
              " 418: 0.0,\n",
              " 419: 1.0,\n",
              " 420: -1.0,\n",
              " 421: 1.0,\n",
              " 422: 0.0,\n",
              " 423: 1.0,\n",
              " 424: 0.0,\n",
              " 425: 0.0,\n",
              " 426: 0.0,\n",
              " 427: -0.6666666666666666,\n",
              " 428: 0.0,\n",
              " 429: 1.0,\n",
              " 430: 0.0,\n",
              " 431: 1.0,\n",
              " 432: 0.0,\n",
              " 433: 0.0,\n",
              " 434: 0.0,\n",
              " 435: 0.0,\n",
              " 436: 1.0,\n",
              " 437: 1.0,\n",
              " 438: 0.0,\n",
              " 439: 0.0,\n",
              " 440: 1.0,\n",
              " 441: 0.0,\n",
              " 442: 1.0,\n",
              " 443: 0.0,\n",
              " 444: -0.8,\n",
              " 445: 0.0,\n",
              " 446: 0.0,\n",
              " 447: 0.0,\n",
              " 448: -0.5476278579186312,\n",
              " 449: 1.0,\n",
              " 450: 1.0,\n",
              " 451: 1.0,\n",
              " 452: 0.0,\n",
              " 453: 0.0,\n",
              " 454: -0.7251070119686854,\n",
              " 455: -0.6074111370536025,\n",
              " 456: 0.0,\n",
              " 457: 1.0,\n",
              " 458: 0.0,\n",
              " 459: 1.0,\n",
              " 460: 0.0,\n",
              " 461: 1.0,\n",
              " 462: 1.0,\n",
              " 463: 1.0,\n",
              " 464: 1.0,\n",
              " 465: 0.0,\n",
              " 466: 0.0,\n",
              " 467: 0.0,\n",
              " 468: 0.0,\n",
              " 469: 0.0,\n",
              " 470: 0.0,\n",
              " 471: 1.0,\n",
              " 472: 0.0,\n",
              " 473: 0.0,\n",
              " 474: 0.0,\n",
              " 475: 1.0,\n",
              " 476: -0.6717160253117019,\n",
              " 477: 1.0,\n",
              " 478: 1.0,\n",
              " 479: 1.0,\n",
              " 480: 1.0,\n",
              " 481: 0.0,\n",
              " 482: 0.0,\n",
              " 483: 1.0,\n",
              " 484: 0.0,\n",
              " 485: 1.0,\n",
              " 486: -0.5943121645988869,\n",
              " 487: 1.0,\n",
              " 488: 0.0,\n",
              " 489: 0.0,\n",
              " 490: 1.0,\n",
              " 491: 0.0,\n",
              " 492: -0.5477525728988684,\n",
              " 493: 0.0,\n",
              " 494: 1.0,\n",
              " 495: 1.0,\n",
              " 496: 1.0,\n",
              " 497: 1.0,\n",
              " 498: 1.0,\n",
              " 499: 1.0,\n",
              " 500: 0.0,\n",
              " 501: 0.0,\n",
              " 502: 1.0,\n",
              " 503: 1.0,\n",
              " 504: 0.0,\n",
              " 505: 0.0,\n",
              " 506: 1.0,\n",
              " 507: 0.0,\n",
              " 508: 1.0,\n",
              " 509: 1.0,\n",
              " 510: 1.0,\n",
              " 511: 1.0,\n",
              " 512: 0.0,\n",
              " 513: -0.6000000000000001,\n",
              " 514: -0.5,\n",
              " 515: 0.0,\n",
              " 516: 1.0,\n",
              " 517: 1.0,\n",
              " 518: 0.0,\n",
              " 519: 0.0,\n",
              " 520: 0.0,\n",
              " 521: 0.0,\n",
              " 522: 1.0,\n",
              " 523: 0.0,\n",
              " 524: 1.0,\n",
              " 525: 0.0,\n",
              " 526: 0.0,\n",
              " 527: 0.0,\n",
              " 528: 0.0,\n",
              " 529: -0.5735637374888838,\n",
              " 530: 0.0,\n",
              " 531: 0.0,\n",
              " 532: 0.0,\n",
              " 533: 1.0,\n",
              " 534: 1.0,\n",
              " 535: 1.0,\n",
              " 536: 1.0,\n",
              " 537: 0.0,\n",
              " 538: 1.0,\n",
              " 539: 1.0,\n",
              " 540: 1.0,\n",
              " 541: 0.0,\n",
              " 542: 0.0,\n",
              " 543: 0.0,\n",
              " 544: 1.0,\n",
              " 545: 0.0,\n",
              " 546: 1.0,\n",
              " 547: 0.0,\n",
              " 548: 0.0,\n",
              " 549: 1.0,\n",
              " 550: 1.0,\n",
              " 551: 0.0,\n",
              " 552: 1.0,\n",
              " 553: 1.0,\n",
              " 554: 0.0,\n",
              " 555: 0.0,\n",
              " 556: 0.0,\n",
              " 557: 1.0,\n",
              " 558: 0.0,\n",
              " 559: 0.0,\n",
              " 560: 1.0,\n",
              " 561: 0.0,\n",
              " 562: 0.0,\n",
              " 563: 1.0,\n",
              " 564: 0.0,\n",
              " 565: 0.0,\n",
              " 566: 1.0,\n",
              " 567: 1.0,\n",
              " 568: 1.0,\n",
              " 569: 1.0,\n",
              " 570: 1.0,\n",
              " 571: 0.0,\n",
              " 572: 0.0,\n",
              " 573: -0.8888888888888891,\n",
              " 574: 0.0,\n",
              " 575: 0.0,\n",
              " 576: 1.0,\n",
              " 577: 0.0,\n",
              " 578: 0.0,\n",
              " 579: 0.0,\n",
              " 580: -0.857142857142857,\n",
              " 581: 0.0,\n",
              " 582: 0.0,\n",
              " 583: 0.0,\n",
              " 584: 0.0,\n",
              " 585: 0.0,\n",
              " 586: 1.0,\n",
              " 587: 1.0,\n",
              " 588: 1.0,\n",
              " 589: 1.0,\n",
              " 590: 1.0,\n",
              " 591: 1.0,\n",
              " 592: 1.0,\n",
              " 593: 1.0,\n",
              " 594: 1.0,\n",
              " 595: 0.0,\n",
              " 596: 1.0,\n",
              " 597: 0.0,\n",
              " 598: 1.0,\n",
              " 599: 1.0,\n",
              " 600: 0.0,\n",
              " 601: 0.0,\n",
              " 602: 0.0,\n",
              " 603: 1.0,\n",
              " 604: 0.0,\n",
              " 605: 0.0,\n",
              " 606: 1.0,\n",
              " 607: 0.0,\n",
              " 608: 1.0,\n",
              " 609: 0.0,\n",
              " 610: 0.0,\n",
              " 611: 0.0,\n",
              " 612: 1.0,\n",
              " 613: 1.0,\n",
              " 614: 1.0,\n",
              " 615: 0.0,\n",
              " 616: 1.0,\n",
              " 617: 1.0,\n",
              " 618: 0.0,\n",
              " 619: 1.0,\n",
              " 620: 0.0,\n",
              " 621: 0.0,\n",
              " 622: 0.0,\n",
              " 623: 1.0,\n",
              " 624: 1.0,\n",
              " 625: 1.0,\n",
              " 626: 0.0,\n",
              " 627: 1.0,\n",
              " 628: 1.0,\n",
              " 629: 0.0,\n",
              " 630: 1.0,\n",
              " 631: 0.0,\n",
              " 632: 0.0,\n",
              " 633: -0.57366188911138,\n",
              " 634: 1.0,\n",
              " 635: 1.0,\n",
              " 636: 0.0,\n",
              " 637: 1.0,\n",
              " 638: -0.5913398191935361,\n",
              " 639: 0.0,\n",
              " 640: 1.0,\n",
              " 641: 0.0,\n",
              " 642: 1.0,\n",
              " 643: 0.0,\n",
              " 644: 0.0,\n",
              " 645: 0.0,\n",
              " 646: 1.0,\n",
              " 647: 1.0,\n",
              " 648: 1.0,\n",
              " 649: 0.0,\n",
              " 650: 1.0,\n",
              " 651: 0.0,\n",
              " 652: 0.0,\n",
              " 653: 0.0,\n",
              " 654: 0.0,\n",
              " 655: 1.0,\n",
              " 656: 0.0,\n",
              " 657: 0.0,\n",
              " 658: 1.0,\n",
              " 659: 0.0,\n",
              " 660: 0.0,\n",
              " 661: 1.0,\n",
              " 662: 1.0,\n",
              " 663: -0.7030790181819762,\n",
              " 664: 1.0,\n",
              " 665: 0.0,\n",
              " 666: -0.6506262043590658,\n",
              " 667: 0.0,\n",
              " 668: 1.0,\n",
              " 669: 0.0,\n",
              " 670: 1.0,\n",
              " 671: 1.0,\n",
              " 672: 1.0,\n",
              " 673: 1.0,\n",
              " 674: 1.0,\n",
              " 675: 1.0,\n",
              " 676: 1.0,\n",
              " 677: 0.0,\n",
              " 678: 0.0,\n",
              " 679: 0.0,\n",
              " 680: 1.0,\n",
              " 681: 1.0,\n",
              " 682: 1.0,\n",
              " 683: 0.0,\n",
              " 684: -0.7090534548732684,\n",
              " 685: 1.0,\n",
              " 686: 1.0,\n",
              " 687: 1.0,\n",
              " 688: 1.0,\n",
              " 689: 0.0,\n",
              " 690: 0.0,\n",
              " 691: -0.6366311559060751,\n",
              " 692: 1.0,\n",
              " 693: 1.0,\n",
              " 694: 0.0,\n",
              " 695: 0.0,\n",
              " 696: 1.0,\n",
              " 697: 0.0,\n",
              " 698: 1.0,\n",
              " 699: 1.0,\n",
              " 700: 0.0,\n",
              " 701: 1.0,\n",
              " 702: 1.0,\n",
              " 703: 1.0,\n",
              " 704: 1.0,\n",
              " 705: 0.0,\n",
              " 706: 1.0,\n",
              " 707: 0.0,\n",
              " 708: 1.0,\n",
              " 709: 1.0,\n",
              " 710: 1.0,\n",
              " 711: 0.0,\n",
              " 712: 0.0,\n",
              " 713: 1.0,\n",
              " 714: 0.0,\n",
              " 715: 0.0,\n",
              " 716: 0.0,\n",
              " 717: 1.0,\n",
              " 718: -1.0,\n",
              " 719: 0.0,\n",
              " 720: 1.0,\n",
              " 721: 0.0,\n",
              " 722: 0.0,\n",
              " 723: 1.0,\n",
              " 724: 1.0,\n",
              " 725: 0.0,\n",
              " 726: -0.608225634595798,\n",
              " 727: 1.0,\n",
              " 728: 0.0,\n",
              " 729: -0.9999999999964593,\n",
              " 730: -0.7141381676154982,\n",
              " 731: -0.8139457536555044,\n",
              " 732: 0.0,\n",
              " 733: 0.0,\n",
              " 734: 1.0,\n",
              " 735: 0.0,\n",
              " 736: 0.0,\n",
              " 737: 0.0,\n",
              " 738: 0.0,\n",
              " 739: -0.7206997504109915,\n",
              " 740: 1.0,\n",
              " 741: 0.0,\n",
              " 742: 1.0,\n",
              " 743: 1.0,\n",
              " 744: 1.0,\n",
              " 745: 1.0,\n",
              " 746: 0.0,\n",
              " 747: 0.0,\n",
              " 748: 0.0,\n",
              " 749: 0.0,\n",
              " 750: 1.0,\n",
              " 751: 0.0,\n",
              " 752: 1.0,\n",
              " 753: 1.0,\n",
              " 754: 0.0,\n",
              " 755: 1.0,\n",
              " 756: 1.0,\n",
              " 757: 0.0,\n",
              " 758: 1.0,\n",
              " 759: 1.0,\n",
              " 760: 0.0,\n",
              " 761: 0.0,\n",
              " 762: 1.0,\n",
              " 763: 1.0,\n",
              " 764: 0.0,\n",
              " 765: -0.8386914251080214,\n",
              " 766: 1.0,\n",
              " 767: 1.0,\n",
              " 768: 1.0,\n",
              " 769: 0.0,\n",
              " 770: 0.0,\n",
              " 771: 0.0,\n",
              " 772: 1.0,\n",
              " 773: 0.0,\n",
              " 774: 0.0,\n",
              " 775: 1.0,\n",
              " 776: 1.0,\n",
              " 777: 0.0,\n",
              " 778: 1.0,\n",
              " 779: 0.0,\n",
              " 780: 0.0,\n",
              " 781: 1.0,\n",
              " 782: 0.0,\n",
              " 783: 1.0,\n",
              " 784: 0.0,\n",
              " 785: 0.0,\n",
              " 786: -0.6424912995690613,\n",
              " 787: 1.0,\n",
              " 788: 0.0,\n",
              " 789: -0.6423397835944415,\n",
              " 790: 1.0,\n",
              " 791: 0.0,\n",
              " 792: 1.0,\n",
              " 793: 1.0,\n",
              " 794: 1.0,\n",
              " 795: 0.0,\n",
              " 796: 1.0,\n",
              " 797: 1.0,\n",
              " 798: 0.0,\n",
              " 799: 1.0,\n",
              " 800: 1.0,\n",
              " 801: 1.0,\n",
              " 802: 0.0,\n",
              " 803: 0.0,\n",
              " 804: 0.0,\n",
              " 805: 0.0,\n",
              " 806: 1.0,\n",
              " 807: 0.0,\n",
              " 808: 1.0,\n",
              " 809: 0.0,\n",
              " 810: 1.0,\n",
              " 811: 0.0,\n",
              " 812: 0.0,\n",
              " 813: 1.0,\n",
              " 814: 0.0,\n",
              " 815: 1.0,\n",
              " 816: 1.0,\n",
              " 817: 1.0,\n",
              " 818: 0.0,\n",
              " 819: 1.0,\n",
              " 820: 0.0,\n",
              " 821: -1.0,\n",
              " 822: 0.0,\n",
              " 823: 1.0,\n",
              " 824: 0.0,\n",
              " 825: 1.0,\n",
              " 826: 1.0,\n",
              " 827: 1.0,\n",
              " 828: 0.0,\n",
              " 829: 1.0,\n",
              " 830: 1.0,\n",
              " 831: 1.0,\n",
              " 832: 1.0,\n",
              " 833: 1.0,\n",
              " 834: 1.0,\n",
              " 835: 1.0,\n",
              " 836: 1.0,\n",
              " 837: 0.0,\n",
              " 838: 1.0,\n",
              " 839: 0.0,\n",
              " 840: -0.5961453061098699,\n",
              " 841: 1.0,\n",
              " 842: 1.0,\n",
              " 843: 0.0,\n",
              " 844: 0.0,\n",
              " 845: 0.0,\n",
              " 846: 0.0,\n",
              " 847: 0.0,\n",
              " 848: 1.0,\n",
              " 849: -0.5435110411246198,\n",
              " 850: 1.0,\n",
              " 851: 1.0,\n",
              " 852: 1.0,\n",
              " 853: 0.0,\n",
              " 854: -0.5172018012280418,\n",
              " 855: 1.0,\n",
              " 856: 0.0,\n",
              " 857: 0.0,\n",
              " 858: 0.0,\n",
              " 859: 0.0,\n",
              " 860: 1.0,\n",
              " 861: 0.0,\n",
              " 862: 0.0,\n",
              " 863: 1.0,\n",
              " 864: 0.0,\n",
              " 865: 1.0,\n",
              " 866: 0.0,\n",
              " 867: 1.0,\n",
              " 868: 1.0,\n",
              " 869: 1.0,\n",
              " 870: 1.0,\n",
              " 871: 1.0,\n",
              " 872: 0.0,\n",
              " 873: 1.0,\n",
              " 874: 1.0,\n",
              " 875: 0.0,\n",
              " 876: 0.0,\n",
              " 877: 1.0,\n",
              " 878: 1.0,\n",
              " 879: 0.0,\n",
              " 880: 1.0,\n",
              " 881: 0.0,\n",
              " 882: -0.6227643028542088,\n",
              " 883: 0.0,\n",
              " 884: 1.0,\n",
              " 885: 0.0,\n",
              " 886: -0.8,\n",
              " 887: 0.0,\n",
              " 888: 0.0,\n",
              " 889: 1.0,\n",
              " 890: 1.0,\n",
              " 891: 1.0,\n",
              " 892: 1.0,\n",
              " 893: -0.5242783687389329,\n",
              " 894: 0.0,\n",
              " 895: 1.0,\n",
              " 896: 1.0,\n",
              " 897: 1.0,\n",
              " 898: 1.0,\n",
              " 899: 1.0,\n",
              " 900: 1.0,\n",
              " 901: 1.0,\n",
              " 902: 0.0,\n",
              " 903: 1.0,\n",
              " 904: 1.0,\n",
              " 905: 1.0,\n",
              " 906: 1.0,\n",
              " 907: -1.0,\n",
              " 908: 0.0,\n",
              " 909: 0.0,\n",
              " 910: 0.0,\n",
              " 911: -0.6154869977374714,\n",
              " 912: 0.0,\n",
              " 913: 0.0,\n",
              " 914: -0.5,\n",
              " 915: 1.0,\n",
              " 916: 0.0,\n",
              " 917: 0.0,\n",
              " 918: -0.5128133702252194,\n",
              " 919: 1.0,\n",
              " 920: 0.0,\n",
              " 921: 1.0,\n",
              " 922: 0.0,\n",
              " 923: 1.0,\n",
              " 924: 1.0,\n",
              " 925: 1.0,\n",
              " 926: 1.0,\n",
              " 927: 0.0,\n",
              " 928: 0.0,\n",
              " 929: 1.0,\n",
              " 930: 0.0,\n",
              " 931: 1.0,\n",
              " 932: -0.5336957152945109,\n",
              " 933: 1.0,\n",
              " 934: 1.0,\n",
              " 935: 1.0,\n",
              " 936: 1.0,\n",
              " 937: 1.0,\n",
              " 938: 1.0,\n",
              " 939: 1.0,\n",
              " 940: 0.0,\n",
              " 941: 0.0,\n",
              " 942: 1.0,\n",
              " 943: 1.0,\n",
              " 944: 1.0,\n",
              " 945: -1.0,\n",
              " 946: 1.0,\n",
              " 947: 1.0,\n",
              " 948: 0.0,\n",
              " 949: 1.0,\n",
              " 950: 1.0,\n",
              " 951: 1.0,\n",
              " 952: 1.0,\n",
              " 953: -0.7612132604288838,\n",
              " 954: 0.0,\n",
              " 955: 0.0,\n",
              " 956: 0.0,\n",
              " 957: 0.0,\n",
              " 958: 1.0,\n",
              " 959: 1.0,\n",
              " 960: 0.0,\n",
              " 961: 0.0,\n",
              " 962: 0.0,\n",
              " 963: 0.0,\n",
              " 964: -0.5480625763045472,\n",
              " 965: 0.0,\n",
              " 966: 1.0,\n",
              " 967: 1.0,\n",
              " 968: 0.0,\n",
              " 969: 1.0,\n",
              " 970: 1.0,\n",
              " 971: 1.0,\n",
              " 972: 1.0,\n",
              " 973: 0.0,\n",
              " 974: 0.0,\n",
              " 975: 1.0,\n",
              " 976: 1.0,\n",
              " 977: 0.0,\n",
              " 978: 0.0,\n",
              " 979: -0.5307574826961324,\n",
              " 980: 0.0,\n",
              " 981: 1.0,\n",
              " 982: 0.0,\n",
              " 983: 1.0,\n",
              " 984: 0.0,\n",
              " 985: 0.0,\n",
              " 986: 0.0,\n",
              " 987: 0.0,\n",
              " 988: 1.0,\n",
              " 989: 0.0}"
            ]
          },
          "metadata": {
            "tags": []
          },
          "execution_count": 46
        }
      ]
    }
  ]
}